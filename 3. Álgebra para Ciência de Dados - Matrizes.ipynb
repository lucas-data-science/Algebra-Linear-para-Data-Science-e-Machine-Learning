{
 "cells": [
  {
   "cell_type": "markdown",
   "metadata": {
    "id": "ya79uxioT32P"
   },
   "source": [
    "# Instalações e importações"
   ]
  },
  {
   "cell_type": "code",
   "execution_count": 1,
   "metadata": {
    "colab": {
     "base_uri": "https://localhost:8080/",
     "height": 56
    },
    "executionInfo": {
     "elapsed": 289,
     "status": "ok",
     "timestamp": 1737986256358,
     "user": {
      "displayName": "Jones Granatyr",
      "userId": "10042675233362078631"
     },
     "user_tz": 180
    },
    "id": "qstgy6o0mCOa",
    "outputId": "342c4d1e-a555-43b1-f052-83f81d484d01"
   },
   "outputs": [
    {
     "data": {
      "text/plain": [
       "'1.26.4'"
      ]
     },
     "execution_count": 1,
     "metadata": {},
     "output_type": "execute_result"
    }
   ],
   "source": [
    "import numpy as np\n",
    "np.__version__"
   ]
  },
  {
   "cell_type": "code",
   "execution_count": 2,
   "metadata": {
    "colab": {
     "base_uri": "https://localhost:8080/",
     "height": 56
    },
    "executionInfo": {
     "elapsed": 277,
     "status": "ok",
     "timestamp": 1737986267091,
     "user": {
      "displayName": "Jones Granatyr",
      "userId": "10042675233362078631"
     },
     "user_tz": 180
    },
    "id": "mCgPrLMrpOdH",
    "outputId": "d2fadc1e-4b2f-4350-a46b-14b418a25e13"
   },
   "outputs": [
    {
     "data": {
      "text/plain": [
       "'1.14.1'"
      ]
     },
     "execution_count": 2,
     "metadata": {},
     "output_type": "execute_result"
    }
   ],
   "source": [
    "import scipy\n",
    "scipy.__version__"
   ]
  },
  {
   "cell_type": "markdown",
   "metadata": {
    "id": "l2TJvXMqmNaW"
   },
   "source": [
    "# Matrizes"
   ]
  },
  {
   "cell_type": "code",
   "execution_count": 3,
   "metadata": {
    "executionInfo": {
     "elapsed": 358,
     "status": "ok",
     "timestamp": 1737986276077,
     "user": {
      "displayName": "Jones Granatyr",
      "userId": "10042675233362078631"
     },
     "user_tz": 180
    },
    "id": "wj6J_mCPDeGq"
   },
   "outputs": [],
   "source": [
    "matrix = np.array(\n",
    "    [[1, 1, 2, 2, 10, 127.35],\n",
    "     [2, 2, 2, 1, 10, 128.10],\n",
    "     [2, 1, 2, 2, 10, 134.85],\n",
    "     [2, 1, 2, 1, 10, 119.85]]\n",
    ")"
   ]
  },
  {
   "cell_type": "code",
   "execution_count": 4,
   "metadata": {
    "colab": {
     "base_uri": "https://localhost:8080/"
    },
    "executionInfo": {
     "elapsed": 3,
     "status": "ok",
     "timestamp": 1737986286864,
     "user": {
      "displayName": "Jones Granatyr",
      "userId": "10042675233362078631"
     },
     "user_tz": 180
    },
    "id": "I9gnQIelDgmn",
    "outputId": "def7a349-44e8-4f96-92ba-5d61a2905895"
   },
   "outputs": [
    {
     "data": {
      "text/plain": [
       "2"
      ]
     },
     "execution_count": 4,
     "metadata": {},
     "output_type": "execute_result"
    }
   ],
   "source": [
    "matrix.ndim"
   ]
  },
  {
   "cell_type": "code",
   "execution_count": 5,
   "metadata": {
    "colab": {
     "base_uri": "https://localhost:8080/"
    },
    "executionInfo": {
     "elapsed": 259,
     "status": "ok",
     "timestamp": 1737986296783,
     "user": {
      "displayName": "Jones Granatyr",
      "userId": "10042675233362078631"
     },
     "user_tz": 180
    },
    "id": "ekfxKGQdDjUw",
    "outputId": "6fb35c0e-a083-4eaa-d02c-6fa4115fc225"
   },
   "outputs": [
    {
     "data": {
      "text/plain": [
       "(4, 6)"
      ]
     },
     "execution_count": 5,
     "metadata": {},
     "output_type": "execute_result"
    }
   ],
   "source": [
    "matrix.shape"
   ]
  },
  {
   "cell_type": "code",
   "execution_count": 6,
   "metadata": {
    "colab": {
     "base_uri": "https://localhost:8080/"
    },
    "executionInfo": {
     "elapsed": 4,
     "status": "ok",
     "timestamp": 1737986309511,
     "user": {
      "displayName": "Jones Granatyr",
      "userId": "10042675233362078631"
     },
     "user_tz": 180
    },
    "id": "gzVsOOctDmF8",
    "outputId": "fc54aea2-a7da-4b38-cff4-a33a2a863a6f"
   },
   "outputs": [
    {
     "data": {
      "text/plain": [
       "24"
      ]
     },
     "execution_count": 6,
     "metadata": {},
     "output_type": "execute_result"
    }
   ],
   "source": [
    "matrix.size"
   ]
  },
  {
   "cell_type": "markdown",
   "metadata": {
    "id": "-ITwMGmOnIVC"
   },
   "source": [
    "## Normas"
   ]
  },
  {
   "cell_type": "code",
   "execution_count": 7,
   "metadata": {
    "colab": {
     "base_uri": "https://localhost:8080/"
    },
    "executionInfo": {
     "elapsed": 283,
     "status": "ok",
     "timestamp": 1737986356462,
     "user": {
      "displayName": "Jones Granatyr",
      "userId": "10042675233362078631"
     },
     "user_tz": 180
    },
    "id": "PhpftEqtDuJe",
    "outputId": "1a916b46-f7d6-41a9-bfe9-6e0d581b4cbc"
   },
   "outputs": [
    {
     "data": {
      "text/plain": [
       "256.16826013384247"
      ]
     },
     "execution_count": 7,
     "metadata": {},
     "output_type": "execute_result"
    }
   ],
   "source": [
    "np.linalg.norm(matrix)"
   ]
  },
  {
   "cell_type": "code",
   "execution_count": 8,
   "metadata": {
    "colab": {
     "base_uri": "https://localhost:8080/"
    },
    "executionInfo": {
     "elapsed": 266,
     "status": "ok",
     "timestamp": 1737986377557,
     "user": {
      "displayName": "Jones Granatyr",
      "userId": "10042675233362078631"
     },
     "user_tz": 180
    },
    "id": "T2c6GEVDD2hY",
    "outputId": "5cafe8f6-4470-4918-bd3d-fb0998b42efa"
   },
   "outputs": [
    {
     "data": {
      "text/plain": [
       "256.16224823752526"
      ]
     },
     "execution_count": 8,
     "metadata": {},
     "output_type": "execute_result"
    }
   ],
   "source": [
    "np.linalg.norm(matrix, ord = 2)"
   ]
  },
  {
   "cell_type": "markdown",
   "metadata": {
    "id": "bC5Viw_zoWKU"
   },
   "source": [
    "## Matriz transposta"
   ]
  },
  {
   "cell_type": "code",
   "execution_count": 9,
   "metadata": {
    "colab": {
     "base_uri": "https://localhost:8080/"
    },
    "executionInfo": {
     "elapsed": 5,
     "status": "ok",
     "timestamp": 1737986482330,
     "user": {
      "displayName": "Jones Granatyr",
      "userId": "10042675233362078631"
     },
     "user_tz": 180
    },
    "id": "GrOrteA7EQPb",
    "outputId": "c7c52676-7fff-4e00-dd03-74009ba2acfc"
   },
   "outputs": [
    {
     "data": {
      "text/plain": [
       "array([[  1.  ,   1.  ,   2.  ,   2.  ,  10.  , 127.35],\n",
       "       [  2.  ,   2.  ,   2.  ,   1.  ,  10.  , 128.1 ],\n",
       "       [  2.  ,   1.  ,   2.  ,   2.  ,  10.  , 134.85],\n",
       "       [  2.  ,   1.  ,   2.  ,   1.  ,  10.  , 119.85]])"
      ]
     },
     "execution_count": 9,
     "metadata": {},
     "output_type": "execute_result"
    }
   ],
   "source": [
    "matrix"
   ]
  },
  {
   "cell_type": "code",
   "execution_count": 10,
   "metadata": {
    "colab": {
     "base_uri": "https://localhost:8080/"
    },
    "executionInfo": {
     "elapsed": 368,
     "status": "ok",
     "timestamp": 1737986503820,
     "user": {
      "displayName": "Jones Granatyr",
      "userId": "10042675233362078631"
     },
     "user_tz": 180
    },
    "id": "RTN8uqm7ET_q",
    "outputId": "91b58066-c4c5-4078-9a86-50c1bfdd79bd"
   },
   "outputs": [
    {
     "data": {
      "text/plain": [
       "array([[  1.  ,   2.  ,   2.  ,   2.  ],\n",
       "       [  1.  ,   2.  ,   1.  ,   1.  ],\n",
       "       [  2.  ,   2.  ,   2.  ,   2.  ],\n",
       "       [  2.  ,   1.  ,   2.  ,   1.  ],\n",
       "       [ 10.  ,  10.  ,  10.  ,  10.  ],\n",
       "       [127.35, 128.1 , 134.85, 119.85]])"
      ]
     },
     "execution_count": 10,
     "metadata": {},
     "output_type": "execute_result"
    }
   ],
   "source": [
    "np.transpose(matrix)"
   ]
  },
  {
   "cell_type": "code",
   "execution_count": 11,
   "metadata": {
    "colab": {
     "base_uri": "https://localhost:8080/"
    },
    "executionInfo": {
     "elapsed": 256,
     "status": "ok",
     "timestamp": 1737986518261,
     "user": {
      "displayName": "Jones Granatyr",
      "userId": "10042675233362078631"
     },
     "user_tz": 180
    },
    "id": "fN1_TINxEZEa",
    "outputId": "a2a76400-c155-456c-f118-ce8022fe2f6a"
   },
   "outputs": [
    {
     "data": {
      "text/plain": [
       "array([[  1.  ,   2.  ,   2.  ,   2.  ],\n",
       "       [  1.  ,   2.  ,   1.  ,   1.  ],\n",
       "       [  2.  ,   2.  ,   2.  ,   2.  ],\n",
       "       [  2.  ,   1.  ,   2.  ,   1.  ],\n",
       "       [ 10.  ,  10.  ,  10.  ,  10.  ],\n",
       "       [127.35, 128.1 , 134.85, 119.85]])"
      ]
     },
     "execution_count": 11,
     "metadata": {},
     "output_type": "execute_result"
    }
   ],
   "source": [
    "matrix.transpose()"
   ]
  },
  {
   "cell_type": "code",
   "execution_count": 12,
   "metadata": {
    "colab": {
     "base_uri": "https://localhost:8080/"
    },
    "executionInfo": {
     "elapsed": 309,
     "status": "ok",
     "timestamp": 1737986532693,
     "user": {
      "displayName": "Jones Granatyr",
      "userId": "10042675233362078631"
     },
     "user_tz": 180
    },
    "id": "e3HF1J0xEcDE",
    "outputId": "8d38082d-d61c-4f5e-f42f-650641db8e2b"
   },
   "outputs": [
    {
     "data": {
      "text/plain": [
       "array([[  1.  ,   2.  ,   2.  ,   2.  ],\n",
       "       [  1.  ,   2.  ,   1.  ,   1.  ],\n",
       "       [  2.  ,   2.  ,   2.  ,   2.  ],\n",
       "       [  2.  ,   1.  ,   2.  ,   1.  ],\n",
       "       [ 10.  ,  10.  ,  10.  ,  10.  ],\n",
       "       [127.35, 128.1 , 134.85, 119.85]])"
      ]
     },
     "execution_count": 12,
     "metadata": {},
     "output_type": "execute_result"
    }
   ],
   "source": [
    "matrix.T"
   ]
  },
  {
   "cell_type": "markdown",
   "metadata": {
    "id": "L3-oaegKpmEn"
   },
   "source": [
    "## Matriz simétrica"
   ]
  },
  {
   "cell_type": "code",
   "execution_count": 13,
   "metadata": {
    "executionInfo": {
     "elapsed": 266,
     "status": "ok",
     "timestamp": 1737986712509,
     "user": {
      "displayName": "Jones Granatyr",
      "userId": "10042675233362078631"
     },
     "user_tz": 180
    },
    "id": "0j9KQ-wXE5h-"
   },
   "outputs": [],
   "source": [
    "sym_matrix = np.array(\n",
    "    [[1, 3, 2, 5],\n",
    "     [3, 2, 8, 1],\n",
    "     [2, 8, 6, 7],\n",
    "     [5, 1, 7, 4]]\n",
    ")"
   ]
  },
  {
   "cell_type": "code",
   "execution_count": 14,
   "metadata": {
    "colab": {
     "base_uri": "https://localhost:8080/"
    },
    "executionInfo": {
     "elapsed": 3,
     "status": "ok",
     "timestamp": 1737986713172,
     "user": {
      "displayName": "Jones Granatyr",
      "userId": "10042675233362078631"
     },
     "user_tz": 180
    },
    "id": "32xr5s9NE7Tg",
    "outputId": "9d674d9e-3ecc-4086-a4e0-5052bd8ba588"
   },
   "outputs": [
    {
     "data": {
      "text/plain": [
       "True"
      ]
     },
     "execution_count": 14,
     "metadata": {},
     "output_type": "execute_result"
    }
   ],
   "source": [
    "scipy.linalg.issymmetric(sym_matrix)"
   ]
  },
  {
   "cell_type": "markdown",
   "metadata": {
    "id": "qoTzDHGxFODQ"
   },
   "source": [
    "Também podemos checar através da propriedade $A = A^T$:"
   ]
  },
  {
   "cell_type": "code",
   "execution_count": 15,
   "metadata": {
    "colab": {
     "base_uri": "https://localhost:8080/"
    },
    "executionInfo": {
     "elapsed": 243,
     "status": "ok",
     "timestamp": 1737986815619,
     "user": {
      "displayName": "Jones Granatyr",
      "userId": "10042675233362078631"
     },
     "user_tz": 180
    },
    "id": "lSPwPrIHFX-M",
    "outputId": "4cb95a4f-318b-4985-99cf-d11b481c5f26"
   },
   "outputs": [
    {
     "data": {
      "text/plain": [
       "True"
      ]
     },
     "execution_count": 15,
     "metadata": {},
     "output_type": "execute_result"
    }
   ],
   "source": [
    "np.all(sym_matrix == sym_matrix.T)"
   ]
  },
  {
   "cell_type": "markdown",
   "metadata": {
    "id": "fNAl6EwGqm3a"
   },
   "source": [
    "## Matriz diagonal"
   ]
  },
  {
   "cell_type": "code",
   "execution_count": 16,
   "metadata": {
    "executionInfo": {
     "elapsed": 282,
     "status": "ok",
     "timestamp": 1737987078432,
     "user": {
      "displayName": "Jones Granatyr",
      "userId": "10042675233362078631"
     },
     "user_tz": 180
    },
    "id": "h2dMFcqYGiUx"
   },
   "outputs": [],
   "source": [
    "diag_matrix = np.array(\n",
    "    [[1, 0, 0, 0],\n",
    "     [0, 2, 0, 0],\n",
    "     [0, 0, 6, 0],\n",
    "     [0, 0, 0, 4]]\n",
    ")"
   ]
  },
  {
   "cell_type": "code",
   "execution_count": 17,
   "metadata": {
    "colab": {
     "base_uri": "https://localhost:8080/"
    },
    "executionInfo": {
     "elapsed": 273,
     "status": "ok",
     "timestamp": 1737987122610,
     "user": {
      "displayName": "Jones Granatyr",
      "userId": "10042675233362078631"
     },
     "user_tz": 180
    },
    "id": "Tttw1G_OGnvb",
    "outputId": "b3c70e8c-eae0-45fd-8b70-8d59dcb6853b"
   },
   "outputs": [
    {
     "data": {
      "text/plain": [
       "array([1, 2, 6, 4])"
      ]
     },
     "execution_count": 17,
     "metadata": {},
     "output_type": "execute_result"
    }
   ],
   "source": [
    "diagonal_elements = np.diag(diag_matrix)\n",
    "diagonal_elements"
   ]
  },
  {
   "cell_type": "code",
   "execution_count": 18,
   "metadata": {
    "colab": {
     "base_uri": "https://localhost:8080/"
    },
    "executionInfo": {
     "elapsed": 233,
     "status": "ok",
     "timestamp": 1737987168336,
     "user": {
      "displayName": "Jones Granatyr",
      "userId": "10042675233362078631"
     },
     "user_tz": 180
    },
    "id": "rgM77QvoG0FC",
    "outputId": "edd13fa7-a73f-448a-d6de-513a85b53721"
   },
   "outputs": [
    {
     "data": {
      "text/plain": [
       "array([[1, 0, 0, 0],\n",
       "       [0, 2, 0, 0],\n",
       "       [0, 0, 6, 0],\n",
       "       [0, 0, 0, 4]])"
      ]
     },
     "execution_count": 18,
     "metadata": {},
     "output_type": "execute_result"
    }
   ],
   "source": [
    "new_diag_matrix = np.diag(diagonal_elements)\n",
    "new_diag_matrix"
   ]
  },
  {
   "cell_type": "code",
   "execution_count": 19,
   "metadata": {
    "colab": {
     "base_uri": "https://localhost:8080/"
    },
    "executionInfo": {
     "elapsed": 323,
     "status": "ok",
     "timestamp": 1737987207200,
     "user": {
      "displayName": "Jones Granatyr",
      "userId": "10042675233362078631"
     },
     "user_tz": 180
    },
    "id": "-2pmJZzlG8gW",
    "outputId": "952e8d03-9553-409d-976d-714c07ab0a41"
   },
   "outputs": [
    {
     "data": {
      "text/plain": [
       "True"
      ]
     },
     "execution_count": 19,
     "metadata": {},
     "output_type": "execute_result"
    }
   ],
   "source": [
    "np.all(diag_matrix == new_diag_matrix)"
   ]
  },
  {
   "cell_type": "markdown",
   "metadata": {
    "id": "8kEsoblRt9OG"
   },
   "source": [
    "Propriedade das matrizes diagonais: <br>\n",
    "$\\text{diag}(\\vec{a})^{-1} = \\text{diag}([a_1^{-1}, \\ldots, a_n^{-1}])$"
   ]
  },
  {
   "cell_type": "code",
   "execution_count": 20,
   "metadata": {
    "colab": {
     "base_uri": "https://localhost:8080/"
    },
    "executionInfo": {
     "elapsed": 363,
     "status": "ok",
     "timestamp": 1737987480199,
     "user": {
      "displayName": "Jones Granatyr",
      "userId": "10042675233362078631"
     },
     "user_tz": 180
    },
    "id": "94oHeSEvH391",
    "outputId": "08ce1d43-d260-4e0c-b27a-21fb83a7b0a5"
   },
   "outputs": [
    {
     "data": {
      "text/plain": [
       "array([1.        , 0.5       , 0.16666667, 0.25      ])"
      ]
     },
     "execution_count": 20,
     "metadata": {},
     "output_type": "execute_result"
    }
   ],
   "source": [
    "diag_elements_reciprocal = np.reciprocal(diagonal_elements.astype(float))\n",
    "diag_elements_reciprocal"
   ]
  },
  {
   "cell_type": "code",
   "execution_count": 21,
   "metadata": {
    "colab": {
     "base_uri": "https://localhost:8080/"
    },
    "executionInfo": {
     "elapsed": 258,
     "status": "ok",
     "timestamp": 1737987543724,
     "user": {
      "displayName": "Jones Granatyr",
      "userId": "10042675233362078631"
     },
     "user_tz": 180
    },
    "id": "lQgt09S5INlx",
    "outputId": "e337ced4-a94a-45e1-9002-a03551c85649"
   },
   "outputs": [
    {
     "data": {
      "text/plain": [
       "array([[1.        , 0.        , 0.        , 0.        ],\n",
       "       [0.        , 0.5       , 0.        , 0.        ],\n",
       "       [0.        , 0.        , 0.16666667, 0.        ],\n",
       "       [0.        , 0.        , 0.        , 0.25      ]])"
      ]
     },
     "execution_count": 21,
     "metadata": {},
     "output_type": "execute_result"
    }
   ],
   "source": [
    "diag_matrix_inverse = np.linalg.inv(diag_matrix)\n",
    "diag_matrix_inverse"
   ]
  },
  {
   "cell_type": "code",
   "execution_count": 22,
   "metadata": {
    "colab": {
     "base_uri": "https://localhost:8080/"
    },
    "executionInfo": {
     "elapsed": 257,
     "status": "ok",
     "timestamp": 1737987619461,
     "user": {
      "displayName": "Jones Granatyr",
      "userId": "10042675233362078631"
     },
     "user_tz": 180
    },
    "id": "JZUkooxQIa5B",
    "outputId": "54872177-9284-4a69-dc8e-bb9737fb69a7"
   },
   "outputs": [
    {
     "data": {
      "text/plain": [
       "True"
      ]
     },
     "execution_count": 22,
     "metadata": {},
     "output_type": "execute_result"
    }
   ],
   "source": [
    "np.all(diag_elements_reciprocal == np.diag(diag_matrix_inverse))"
   ]
  },
  {
   "cell_type": "markdown",
   "metadata": {
    "id": "VdENL1Cjvb5l"
   },
   "source": [
    "## Matriz identidade"
   ]
  },
  {
   "cell_type": "code",
   "execution_count": 23,
   "metadata": {
    "colab": {
     "base_uri": "https://localhost:8080/"
    },
    "executionInfo": {
     "elapsed": 257,
     "status": "ok",
     "timestamp": 1737987686370,
     "user": {
      "displayName": "Jones Granatyr",
      "userId": "10042675233362078631"
     },
     "user_tz": 180
    },
    "id": "ZVZCL_ydI1M1",
    "outputId": "320e7e40-3a77-468e-adea-672bf1f935dc"
   },
   "outputs": [
    {
     "data": {
      "text/plain": [
       "array([[1., 0., 0.],\n",
       "       [0., 1., 0.],\n",
       "       [0., 0., 1.]])"
      ]
     },
     "execution_count": 23,
     "metadata": {},
     "output_type": "execute_result"
    }
   ],
   "source": [
    "np.identity(n = 3)"
   ]
  },
  {
   "cell_type": "code",
   "execution_count": 24,
   "metadata": {
    "colab": {
     "base_uri": "https://localhost:8080/"
    },
    "executionInfo": {
     "elapsed": 332,
     "status": "ok",
     "timestamp": 1737987701396,
     "user": {
      "displayName": "Jones Granatyr",
      "userId": "10042675233362078631"
     },
     "user_tz": 180
    },
    "id": "QN_Vfq0yI5xz",
    "outputId": "bd6eaf62-9a03-459a-fa42-233a926b2f5e"
   },
   "outputs": [
    {
     "data": {
      "text/plain": [
       "array([[1., 0., 0., 0.],\n",
       "       [0., 1., 0., 0.],\n",
       "       [0., 0., 1., 0.],\n",
       "       [0., 0., 0., 1.]])"
      ]
     },
     "execution_count": 24,
     "metadata": {},
     "output_type": "execute_result"
    }
   ],
   "source": [
    "np.identity(n = 4)"
   ]
  },
  {
   "cell_type": "code",
   "execution_count": 25,
   "metadata": {
    "colab": {
     "base_uri": "https://localhost:8080/"
    },
    "executionInfo": {
     "elapsed": 359,
     "status": "ok",
     "timestamp": 1737990489844,
     "user": {
      "displayName": "Jones Granatyr",
      "userId": "10042675233362078631"
     },
     "user_tz": 180
    },
    "id": "r2Mwd-jtI-fb",
    "outputId": "ffe14006-c7fb-4f21-b598-1e91a158de02"
   },
   "outputs": [
    {
     "data": {
      "text/plain": [
       "True"
      ]
     },
     "execution_count": 25,
     "metadata": {},
     "output_type": "execute_result"
    }
   ],
   "source": [
    "np.all(np.diag(np.identity(n = 4) == 1))"
   ]
  },
  {
   "cell_type": "markdown",
   "metadata": {
    "id": "wIgTJsGowSct"
   },
   "source": [
    "## Matriz inversa"
   ]
  },
  {
   "cell_type": "code",
   "execution_count": 26,
   "metadata": {
    "colab": {
     "base_uri": "https://localhost:8080/"
    },
    "executionInfo": {
     "elapsed": 318,
     "status": "ok",
     "timestamp": 1737991260092,
     "user": {
      "displayName": "Jones Granatyr",
      "userId": "10042675233362078631"
     },
     "user_tz": 180
    },
    "id": "N0RvwIakWfGb",
    "outputId": "b2c55195-1024-43c3-cdba-33ee9de945dc"
   },
   "outputs": [
    {
     "data": {
      "text/plain": [
       "array([[1, 3, 2, 5],\n",
       "       [3, 2, 8, 1],\n",
       "       [2, 8, 6, 7],\n",
       "       [5, 1, 7, 4]])"
      ]
     },
     "execution_count": 26,
     "metadata": {},
     "output_type": "execute_result"
    }
   ],
   "source": [
    "sym_matrix"
   ]
  },
  {
   "cell_type": "code",
   "execution_count": 27,
   "metadata": {
    "colab": {
     "base_uri": "https://localhost:8080/"
    },
    "executionInfo": {
     "elapsed": 285,
     "status": "ok",
     "timestamp": 1737991294643,
     "user": {
      "displayName": "Jones Granatyr",
      "userId": "10042675233362078631"
     },
     "user_tz": 180
    },
    "id": "iAl5iV_6Wh3N",
    "outputId": "d5f73d8a-e51b-4ed8-d27e-46b2185f166f"
   },
   "outputs": [
    {
     "data": {
      "text/plain": [
       "array([[-0.92165899, -0.57603687,  0.41935484,  0.56221198],\n",
       "       [-0.57603687, -0.23502304,  0.38709677,  0.10138249],\n",
       "       [ 0.41935484,  0.38709677, -0.22580645, -0.22580645],\n",
       "       [ 0.56221198,  0.10138249, -0.22580645, -0.08294931]])"
      ]
     },
     "execution_count": 27,
     "metadata": {},
     "output_type": "execute_result"
    }
   ],
   "source": [
    "sym_matrix_inv = np.linalg.inv(sym_matrix)\n",
    "sym_matrix_inv"
   ]
  },
  {
   "cell_type": "markdown",
   "metadata": {
    "id": "nKzzlKsawyPD"
   },
   "source": [
    "Checando a propriedade $A^{-1}A = I$:"
   ]
  },
  {
   "cell_type": "code",
   "execution_count": 28,
   "metadata": {
    "colab": {
     "base_uri": "https://localhost:8080/"
    },
    "executionInfo": {
     "elapsed": 248,
     "status": "ok",
     "timestamp": 1737991402707,
     "user": {
      "displayName": "Jones Granatyr",
      "userId": "10042675233362078631"
     },
     "user_tz": 180
    },
    "id": "5fpgh8CKW7IK",
    "outputId": "6ad1f284-ccf1-4a14-ce5e-9839151575d0"
   },
   "outputs": [
    {
     "data": {
      "text/plain": [
       "array([[ 1.00000000e+00,  1.24900090e-16,  8.32667268e-17,\n",
       "         2.77555756e-17],\n",
       "       [ 1.44328993e-15,  1.00000000e+00, -6.93889390e-16,\n",
       "        -4.16333634e-16],\n",
       "       [ 7.77156117e-16,  4.16333634e-17,  1.00000000e+00,\n",
       "        -1.38777878e-16],\n",
       "       [ 0.00000000e+00, -2.77555756e-16,  3.33066907e-16,\n",
       "         1.00000000e+00]])"
      ]
     },
     "execution_count": 28,
     "metadata": {},
     "output_type": "execute_result"
    }
   ],
   "source": [
    "np.dot(sym_matrix, sym_matrix_inv)"
   ]
  },
  {
   "cell_type": "code",
   "execution_count": 29,
   "metadata": {
    "colab": {
     "base_uri": "https://localhost:8080/"
    },
    "executionInfo": {
     "elapsed": 238,
     "status": "ok",
     "timestamp": 1737991541360,
     "user": {
      "displayName": "Jones Granatyr",
      "userId": "10042675233362078631"
     },
     "user_tz": 180
    },
    "id": "WzPNtADnXV6k",
    "outputId": "281803e3-44f4-4f25-e228-ba8a6688d70e"
   },
   "outputs": [
    {
     "data": {
      "text/plain": [
       "True"
      ]
     },
     "execution_count": 29,
     "metadata": {},
     "output_type": "execute_result"
    }
   ],
   "source": [
    "np.allclose(np.dot(sym_matrix, sym_matrix_inv), np.identity(4))"
   ]
  },
  {
   "cell_type": "code",
   "execution_count": 30,
   "metadata": {
    "executionInfo": {
     "elapsed": 258,
     "status": "ok",
     "timestamp": 1737991601705,
     "user": {
      "displayName": "Jones Granatyr",
      "userId": "10042675233362078631"
     },
     "user_tz": 180
    },
    "id": "4Q8CSZu-XsyE"
   },
   "outputs": [],
   "source": [
    "sing_matrix = np.array(\n",
    "        [[1, 3, 2,  5], # ----|\n",
    "         [3, 2, 8,  1], #     x2\n",
    "         [2, 6, 4, 10], # <---|\n",
    "         [5, 1, 7,  4]]\n",
    ")"
   ]
  },
  {
   "cell_type": "code",
   "execution_count": 32,
   "metadata": {
    "colab": {
     "base_uri": "https://localhost:8080/",
     "height": 300
    },
    "executionInfo": {
     "elapsed": 340,
     "status": "error",
     "timestamp": 1737991616704,
     "user": {
      "displayName": "Jones Granatyr",
      "userId": "10042675233362078631"
     },
     "user_tz": 180
    },
    "id": "1VEy7My5X0To",
    "outputId": "458de219-cdf1-4867-baac-2535629865b0"
   },
   "outputs": [
    {
     "name": "stdout",
     "output_type": "stream",
     "text": [
      "Matriz singular – não tem inversa.\n"
     ]
    }
   ],
   "source": [
    "if np.linalg.det(sing_matrix) != 0:\n",
    "    inv = np.linalg.inv(sing_matrix)\n",
    "else:\n",
    "    print(\"Matriz singular – não tem inversa.\")"
   ]
  },
  {
   "cell_type": "code",
   "execution_count": 52,
   "metadata": {
    "colab": {
     "base_uri": "https://localhost:8080/"
    },
    "executionInfo": {
     "elapsed": 341,
     "status": "ok",
     "timestamp": 1737991709930,
     "user": {
      "displayName": "Jones Granatyr",
      "userId": "10042675233362078631"
     },
     "user_tz": 180
    },
    "id": "X93RRhpoX8Ah",
    "outputId": "6e6a036b-cfd7-4b6e-fc38-3d7112d5bbfd"
   },
   "outputs": [
    {
     "data": {
      "text/plain": [
       "array([[-0.02134168, -0.14181439, -0.04268335,  0.22419187],\n",
       "       [ 0.03524505,  0.16579771,  0.07049009, -0.21063608],\n",
       "       [-0.00389294,  0.15328467, -0.00778589, -0.04379562],\n",
       "       [ 0.02467848, -0.13242961,  0.04935697,  0.09906152]])"
      ]
     },
     "execution_count": 52,
     "metadata": {},
     "output_type": "execute_result"
    }
   ],
   "source": [
    "sing_matrix_inv = np.linalg.pinv(sing_matrix)\n",
    "sing_matrix_inv"
   ]
  },
  {
   "cell_type": "code",
   "execution_count": 53,
   "metadata": {
    "colab": {
     "base_uri": "https://localhost:8080/"
    },
    "executionInfo": {
     "elapsed": 237,
     "status": "ok",
     "timestamp": 1737991750156,
     "user": {
      "displayName": "Jones Granatyr",
      "userId": "10042675233362078631"
     },
     "user_tz": 180
    },
    "id": "HdR74PBBYWrM",
    "outputId": "1fb60bd0-adf8-4e94-f191-3e2c916fcf57"
   },
   "outputs": [
    {
     "data": {
      "text/plain": [
       "array([[  1.  ,   1.  ,   2.  ,   2.  ,  10.  , 127.35],\n",
       "       [  2.  ,   2.  ,   2.  ,   1.  ,  10.  , 128.1 ],\n",
       "       [  2.  ,   1.  ,   2.  ,   2.  ,  10.  , 134.85],\n",
       "       [  2.  ,   1.  ,   2.  ,   1.  ,  10.  , 119.85]])"
      ]
     },
     "execution_count": 53,
     "metadata": {},
     "output_type": "execute_result"
    }
   ],
   "source": [
    "matrix"
   ]
  },
  {
   "cell_type": "code",
   "execution_count": 37,
   "metadata": {
    "colab": {
     "base_uri": "https://localhost:8080/",
     "height": 300
    },
    "executionInfo": {
     "elapsed": 281,
     "status": "error",
     "timestamp": 1737991768165,
     "user": {
      "displayName": "Jones Granatyr",
      "userId": "10042675233362078631"
     },
     "user_tz": 180
    },
    "id": "PWG8bLddYaie",
    "outputId": "b1184706-73b8-42f8-ce7b-678324e3dd9b"
   },
   "outputs": [
    {
     "name": "stdout",
     "output_type": "stream",
     "text": [
      "Matriz não quadrada – calculando a pseudo-inversa.\n",
      "Pseudo-inversa:\n",
      " [[-0.89264595 -0.13513244  0.63533039  0.37824551]\n",
      " [ 0.11808946  0.85135432 -0.40113657 -0.58392994]\n",
      " [ 0.06092331 -0.04750463 -0.13399241  0.13683291]\n",
      " [ 0.21470811 -0.27026488  0.27066078 -0.24350898]\n",
      " [ 0.30461655 -0.23752317 -0.66996205  0.68416453]\n",
      " [-0.01431387  0.01801766  0.04862261 -0.05043273]]\n"
     ]
    }
   ],
   "source": [
    "# Verifica se a matriz é quadrada\n",
    "if matrix.shape[0] == matrix.shape[1]:\n",
    "    if not np.isclose(np.linalg.det(matrix), 0.0):\n",
    "        inv = np.linalg.inv(matrix)\n",
    "        print(\"Matriz inversa:\\n\", inv)\n",
    "    else:\n",
    "        print(\"Matriz singular – não tem inversa.\")\n",
    "        pinv = np.linalg.pinv(matrix)\n",
    "        print(\"Pseudo-inversa:\\n\", pinv)\n",
    "else:\n",
    "    print(\"Matriz não quadrada – calculando a pseudo-inversa.\")\n",
    "    pinv = np.linalg.pinv(matrix)\n",
    "    print(\"Pseudo-inversa:\\n\", pinv)"
   ]
  },
  {
   "cell_type": "code",
   "execution_count": 45,
   "metadata": {
    "colab": {
     "base_uri": "https://localhost:8080/"
    },
    "executionInfo": {
     "elapsed": 331,
     "status": "ok",
     "timestamp": 1737991897589,
     "user": {
      "displayName": "Jones Granatyr",
      "userId": "10042675233362078631"
     },
     "user_tz": 180
    },
    "id": "Loz0caDyYotY",
    "outputId": "39a55c2e-9796-4818-997c-46448766a675"
   },
   "outputs": [
    {
     "data": {
      "text/plain": [
       "array([[ 1.,  0., -0., -0.],\n",
       "       [-0.,  1., -0.,  0.],\n",
       "       [-0.,  0.,  1.,  0.],\n",
       "       [-0.,  0., -0.,  1.]])"
      ]
     },
     "execution_count": 45,
     "metadata": {},
     "output_type": "execute_result"
    }
   ],
   "source": [
    "# Teste de produto interno para obter indentidade\n",
    "np.dot(matrix, np.linalg.pinv(matrix)).round()"
   ]
  },
  {
   "cell_type": "markdown",
   "metadata": {
    "id": "y1j5brITy5UT"
   },
   "source": [
    "## Determinante"
   ]
  },
  {
   "cell_type": "code",
   "execution_count": 42,
   "metadata": {
    "colab": {
     "base_uri": "https://localhost:8080/"
    },
    "executionInfo": {
     "elapsed": 284,
     "status": "ok",
     "timestamp": 1737992061950,
     "user": {
      "displayName": "Jones Granatyr",
      "userId": "10042675233362078631"
     },
     "user_tz": 180
    },
    "id": "Q1Rcg_3kZi1M",
    "outputId": "2c968bf5-bfe1-40d2-9c40-9ac9f906945a"
   },
   "outputs": [
    {
     "data": {
      "text/plain": [
       "array([[1, 3, 2, 5],\n",
       "       [3, 2, 8, 1],\n",
       "       [2, 8, 6, 7],\n",
       "       [5, 1, 7, 4]])"
      ]
     },
     "execution_count": 42,
     "metadata": {},
     "output_type": "execute_result"
    }
   ],
   "source": [
    "sym_matrix"
   ]
  },
  {
   "cell_type": "code",
   "execution_count": 43,
   "metadata": {
    "colab": {
     "base_uri": "https://localhost:8080/"
    },
    "executionInfo": {
     "elapsed": 254,
     "status": "ok",
     "timestamp": 1737992082857,
     "user": {
      "displayName": "Jones Granatyr",
      "userId": "10042675233362078631"
     },
     "user_tz": 180
    },
    "id": "VeYt-OM_ZluI",
    "outputId": "b6b0426d-3064-4ece-c821-f5e7baee5a1c"
   },
   "outputs": [
    {
     "data": {
      "text/plain": [
       "216.99999999999986"
      ]
     },
     "execution_count": 43,
     "metadata": {},
     "output_type": "execute_result"
    }
   ],
   "source": [
    "np.linalg.det(sym_matrix)"
   ]
  },
  {
   "cell_type": "code",
   "execution_count": 61,
   "metadata": {
    "colab": {
     "base_uri": "https://localhost:8080/"
    },
    "executionInfo": {
     "elapsed": 362,
     "status": "ok",
     "timestamp": 1737992094339,
     "user": {
      "displayName": "Jones Granatyr",
      "userId": "10042675233362078631"
     },
     "user_tz": 180
    },
    "id": "2Rj_0qjQZqur",
    "outputId": "9b3577ac-d709-4779-cdc3-1a6687582863"
   },
   "outputs": [
    {
     "data": {
      "text/plain": [
       "array([[ 1,  3,  2,  5],\n",
       "       [ 3,  2,  8,  1],\n",
       "       [ 2,  6,  4, 10],\n",
       "       [ 5,  1,  7,  4]])"
      ]
     },
     "execution_count": 61,
     "metadata": {},
     "output_type": "execute_result"
    }
   ],
   "source": [
    "sing_matrix"
   ]
  },
  {
   "cell_type": "code",
   "execution_count": 63,
   "metadata": {
    "colab": {
     "base_uri": "https://localhost:8080/"
    },
    "executionInfo": {
     "elapsed": 399,
     "status": "ok",
     "timestamp": 1737992119938,
     "user": {
      "displayName": "Jones Granatyr",
      "userId": "10042675233362078631"
     },
     "user_tz": 180
    },
    "id": "NXj4oGCtZtn1",
    "outputId": "262b5502-9dfd-494e-efa4-2121ceba7697"
   },
   "outputs": [
    {
     "data": {
      "text/plain": [
       "0.0"
      ]
     },
     "execution_count": 63,
     "metadata": {},
     "output_type": "execute_result"
    }
   ],
   "source": [
    "np.linalg.det(sing_matrix)"
   ]
  },
  {
   "cell_type": "markdown",
   "metadata": {
    "id": "wwkbZZmr0Gy0"
   },
   "source": [
    "## Matriz ortogonal"
   ]
  },
  {
   "cell_type": "markdown",
   "metadata": {
    "id": "dvQyt4p2-r9S"
   },
   "source": [
    "> *Os vetores que representam as linhas, ou os vetores que representam as colunas, são todos ortonormais (ou seja, ortogonais e unitários).*"
   ]
  },
  {
   "cell_type": "code",
   "execution_count": 64,
   "metadata": {
    "executionInfo": {
     "elapsed": 305,
     "status": "ok",
     "timestamp": 1737992296198,
     "user": {
      "displayName": "Jones Granatyr",
      "userId": "10042675233362078631"
     },
     "user_tz": 180
    },
    "id": "ZF0DKDrEabxQ"
   },
   "outputs": [],
   "source": [
    "orthogonal_matrix = np.array([\n",
    "    [ 1/2, -1/2,  1/2,  1/2],\n",
    "    [ 1/2,  1/2, -1/2,  1/2],\n",
    "    [-1/2,  1/2,  1/2,  1/2],\n",
    "    [ 1/2,  1/2,  1/2, -1/2]\n",
    "])"
   ]
  },
  {
   "cell_type": "code",
   "execution_count": 65,
   "metadata": {
    "colab": {
     "base_uri": "https://localhost:8080/"
    },
    "executionInfo": {
     "elapsed": 341,
     "status": "ok",
     "timestamp": 1737992394164,
     "user": {
      "displayName": "Jones Granatyr",
      "userId": "10042675233362078631"
     },
     "user_tz": 180
    },
    "id": "NpZCkffjam2u",
    "outputId": "94654527-17bd-432a-b023-afff6b37be4d"
   },
   "outputs": [
    {
     "data": {
      "text/plain": [
       "array([1., 1., 1., 1.])"
      ]
     },
     "execution_count": 65,
     "metadata": {},
     "output_type": "execute_result"
    }
   ],
   "source": [
    "np.linalg.norm(orthogonal_matrix, axis = 0)"
   ]
  },
  {
   "cell_type": "code",
   "execution_count": 66,
   "metadata": {
    "colab": {
     "base_uri": "https://localhost:8080/"
    },
    "executionInfo": {
     "elapsed": 288,
     "status": "ok",
     "timestamp": 1737992417542,
     "user": {
      "displayName": "Jones Granatyr",
      "userId": "10042675233362078631"
     },
     "user_tz": 180
    },
    "id": "wN-i3g68a45y",
    "outputId": "b0e3f8ca-34b3-4724-d692-ad12d68de2bd"
   },
   "outputs": [
    {
     "data": {
      "text/plain": [
       "array([1., 1., 1., 1.])"
      ]
     },
     "execution_count": 66,
     "metadata": {},
     "output_type": "execute_result"
    }
   ],
   "source": [
    "np.linalg.norm(orthogonal_matrix, axis = 1)"
   ]
  },
  {
   "cell_type": "markdown",
   "metadata": {
    "id": "P9BywSPG1Mp2"
   },
   "source": [
    "$A^T A = AA^T = I$"
   ]
  },
  {
   "cell_type": "code",
   "execution_count": 67,
   "metadata": {
    "colab": {
     "base_uri": "https://localhost:8080/"
    },
    "executionInfo": {
     "elapsed": 366,
     "status": "ok",
     "timestamp": 1737992539266,
     "user": {
      "displayName": "Jones Granatyr",
      "userId": "10042675233362078631"
     },
     "user_tz": 180
    },
    "id": "3cqq1vrmbOAm",
    "outputId": "82097fa9-1f90-45f2-9e5e-53d1cef16e31"
   },
   "outputs": [
    {
     "data": {
      "text/plain": [
       "array([[1., 0., 0., 0.],\n",
       "       [0., 1., 0., 0.],\n",
       "       [0., 0., 1., 0.],\n",
       "       [0., 0., 0., 1.]])"
      ]
     },
     "execution_count": 67,
     "metadata": {},
     "output_type": "execute_result"
    }
   ],
   "source": [
    "np.dot(orthogonal_matrix.T, orthogonal_matrix)"
   ]
  },
  {
   "cell_type": "code",
   "execution_count": 68,
   "metadata": {
    "colab": {
     "base_uri": "https://localhost:8080/"
    },
    "executionInfo": {
     "elapsed": 257,
     "status": "ok",
     "timestamp": 1737992564398,
     "user": {
      "displayName": "Jones Granatyr",
      "userId": "10042675233362078631"
     },
     "user_tz": 180
    },
    "id": "2Y2oTa2ZbcUf",
    "outputId": "b9bf4f16-0c6e-4fdd-9837-61f5b1b13e57"
   },
   "outputs": [
    {
     "data": {
      "text/plain": [
       "array([[1., 0., 0., 0.],\n",
       "       [0., 1., 0., 0.],\n",
       "       [0., 0., 1., 0.],\n",
       "       [0., 0., 0., 1.]])"
      ]
     },
     "execution_count": 68,
     "metadata": {},
     "output_type": "execute_result"
    }
   ],
   "source": [
    "np.dot(orthogonal_matrix, orthogonal_matrix.T)"
   ]
  },
  {
   "cell_type": "code",
   "execution_count": 69,
   "metadata": {
    "colab": {
     "base_uri": "https://localhost:8080/"
    },
    "executionInfo": {
     "elapsed": 3,
     "status": "ok",
     "timestamp": 1737992582193,
     "user": {
      "displayName": "Jones Granatyr",
      "userId": "10042675233362078631"
     },
     "user_tz": 180
    },
    "id": "LRX_pAt-bgtS",
    "outputId": "2eb2be3a-cc9a-45f2-86d0-584624704e72"
   },
   "outputs": [
    {
     "data": {
      "text/plain": [
       "array([[1., 0., 0., 0.],\n",
       "       [0., 1., 0., 0.],\n",
       "       [0., 0., 1., 0.],\n",
       "       [0., 0., 0., 1.]])"
      ]
     },
     "execution_count": 69,
     "metadata": {},
     "output_type": "execute_result"
    }
   ],
   "source": [
    "np.identity(n = 4)"
   ]
  },
  {
   "cell_type": "markdown",
   "metadata": {
    "id": "fxplXzmg2yx6"
   },
   "source": [
    "$A^T = A^{-1}I = A^{-1}$"
   ]
  },
  {
   "cell_type": "code",
   "execution_count": 70,
   "metadata": {
    "colab": {
     "base_uri": "https://localhost:8080/"
    },
    "executionInfo": {
     "elapsed": 348,
     "status": "ok",
     "timestamp": 1737992620675,
     "user": {
      "displayName": "Jones Granatyr",
      "userId": "10042675233362078631"
     },
     "user_tz": 180
    },
    "id": "QQTJRHksbqU5",
    "outputId": "81bd4293-0758-4982-ab59-6325908b7ed1"
   },
   "outputs": [
    {
     "data": {
      "text/plain": [
       "array([[ 0.5,  0.5, -0.5,  0.5],\n",
       "       [-0.5,  0.5,  0.5,  0.5],\n",
       "       [ 0.5, -0.5,  0.5,  0.5],\n",
       "       [ 0.5,  0.5,  0.5, -0.5]])"
      ]
     },
     "execution_count": 70,
     "metadata": {},
     "output_type": "execute_result"
    }
   ],
   "source": [
    "orthogonal_matrix.T"
   ]
  },
  {
   "cell_type": "code",
   "execution_count": 71,
   "metadata": {
    "colab": {
     "base_uri": "https://localhost:8080/"
    },
    "executionInfo": {
     "elapsed": 246,
     "status": "ok",
     "timestamp": 1737992654035,
     "user": {
      "displayName": "Jones Granatyr",
      "userId": "10042675233362078631"
     },
     "user_tz": 180
    },
    "id": "DFE4qIOfbxgw",
    "outputId": "308767bf-1bdc-49c8-8ea0-7104ced869a0"
   },
   "outputs": [
    {
     "data": {
      "text/plain": [
       "array([[ 0.5,  0.5, -0.5,  0.5],\n",
       "       [-0.5,  0.5,  0.5,  0.5],\n",
       "       [ 0.5, -0.5,  0.5,  0.5],\n",
       "       [ 0.5,  0.5,  0.5, -0.5]])"
      ]
     },
     "execution_count": 71,
     "metadata": {},
     "output_type": "execute_result"
    }
   ],
   "source": [
    "np.linalg.inv(orthogonal_matrix)"
   ]
  },
  {
   "cell_type": "code",
   "execution_count": 73,
   "metadata": {
    "colab": {
     "base_uri": "https://localhost:8080/"
    },
    "executionInfo": {
     "elapsed": 237,
     "status": "ok",
     "timestamp": 1737992721629,
     "user": {
      "displayName": "Jones Granatyr",
      "userId": "10042675233362078631"
     },
     "user_tz": 180
    },
    "id": "uxJOAedob9zg",
    "outputId": "5c9e0a73-9ecd-4097-8fe5-8ed90e0648f5"
   },
   "outputs": [
    {
     "data": {
      "text/plain": [
       "True"
      ]
     },
     "execution_count": 73,
     "metadata": {},
     "output_type": "execute_result"
    }
   ],
   "source": [
    "np.all(orthogonal_matrix.T == np.linalg.inv(orthogonal_matrix))"
   ]
  }
 ],
 "metadata": {
  "colab": {
   "provenance": [
    {
     "file_id": "1i1AJT_Su-yAUJ6cVFwyNqOhGBRKU_saY",
     "timestamp": 1737980903920
    }
   ]
  },
  "kernelspec": {
   "display_name": "base",
   "language": "python",
   "name": "python3"
  },
  "language_info": {
   "codemirror_mode": {
    "name": "ipython",
    "version": 3
   },
   "file_extension": ".py",
   "mimetype": "text/x-python",
   "name": "python",
   "nbconvert_exporter": "python",
   "pygments_lexer": "ipython3",
   "version": "3.11.5"
  }
 },
 "nbformat": 4,
 "nbformat_minor": 0
}
