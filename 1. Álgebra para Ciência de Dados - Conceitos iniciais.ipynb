{
 "cells": [
  {
   "cell_type": "markdown",
   "metadata": {
    "id": "ya79uxioT32P"
   },
   "source": [
    "# Instalações e importações"
   ]
  },
  {
   "cell_type": "code",
   "execution_count": 7,
   "metadata": {
    "id": "74qEJq7FVEMf"
   },
   "outputs": [],
   "source": [
    "# !pip install -U sentence-transformers"
   ]
  },
  {
   "cell_type": "code",
   "execution_count": 8,
   "metadata": {
    "colab": {
     "base_uri": "https://localhost:8080/",
     "height": 56
    },
    "executionInfo": {
     "elapsed": 7,
     "status": "ok",
     "timestamp": 1737463960094,
     "user": {
      "displayName": "Jones Granatyr",
      "userId": "10042675233362078631"
     },
     "user_tz": 180
    },
    "id": "uCGivMBfVeVa",
    "outputId": "60744801-18a1-4829-d5fe-dfe74abcece2"
   },
   "outputs": [
    {
     "data": {
      "text/plain": [
       "'3.9.2'"
      ]
     },
     "execution_count": 8,
     "metadata": {},
     "output_type": "execute_result"
    }
   ],
   "source": [
    "import matplotlib\n",
    "import matplotlib.pyplot as plt\n",
    "import matplotlib.image as mpimg\n",
    "matplotlib.__version__"
   ]
  },
  {
   "cell_type": "code",
   "execution_count": 9,
   "metadata": {
    "colab": {
     "base_uri": "https://localhost:8080/",
     "height": 56
    },
    "executionInfo": {
     "elapsed": 5,
     "status": "ok",
     "timestamp": 1737463960094,
     "user": {
      "displayName": "Jones Granatyr",
      "userId": "10042675233362078631"
     },
     "user_tz": 180
    },
    "id": "KCKx649IVxW1",
    "outputId": "ec1d8b80-5eba-4048-dff5-92013260493b"
   },
   "outputs": [
    {
     "data": {
      "text/plain": [
       "'1.26.4'"
      ]
     },
     "execution_count": 9,
     "metadata": {},
     "output_type": "execute_result"
    }
   ],
   "source": [
    "import numpy as np\n",
    "np.__version__"
   ]
  },
  {
   "cell_type": "code",
   "execution_count": 10,
   "metadata": {
    "colab": {
     "base_uri": "https://localhost:8080/",
     "height": 56
    },
    "executionInfo": {
     "elapsed": 1066,
     "status": "ok",
     "timestamp": 1737463961155,
     "user": {
      "displayName": "Jones Granatyr",
      "userId": "10042675233362078631"
     },
     "user_tz": 180
    },
    "id": "ebdwq5fIV43B",
    "outputId": "8da1e222-1190-47e0-c8a8-e4d6c0c92d56"
   },
   "outputs": [
    {
     "data": {
      "text/plain": [
       "'2.3.0'"
      ]
     },
     "execution_count": 10,
     "metadata": {},
     "output_type": "execute_result"
    }
   ],
   "source": [
    "import pandas as pd\n",
    "pd.__version__"
   ]
  },
  {
   "cell_type": "code",
   "execution_count": 11,
   "metadata": {
    "colab": {
     "base_uri": "https://localhost:8080/",
     "height": 56
    },
    "executionInfo": {
     "elapsed": 35407,
     "status": "ok",
     "timestamp": 1737463996559,
     "user": {
      "displayName": "Jones Granatyr",
      "userId": "10042675233362078631"
     },
     "user_tz": 180
    },
    "id": "e0_puvxRWAfZ",
    "outputId": "0dd2067f-b7d7-48cd-e463-72d8ec4412ed"
   },
   "outputs": [
    {
     "data": {
      "text/plain": [
       "'4.1.0'"
      ]
     },
     "execution_count": 11,
     "metadata": {},
     "output_type": "execute_result"
    }
   ],
   "source": [
    "import sentence_transformers\n",
    "from sentence_transformers import SentenceTransformer\n",
    "sentence_transformers.__version__"
   ]
  },
  {
   "cell_type": "code",
   "execution_count": 12,
   "metadata": {
    "colab": {
     "base_uri": "https://localhost:8080/",
     "height": 56
    },
    "executionInfo": {
     "elapsed": 38,
     "status": "ok",
     "timestamp": 1737463996559,
     "user": {
      "displayName": "Jones Granatyr",
      "userId": "10042675233362078631"
     },
     "user_tz": 180
    },
    "id": "6rQkF1v7WTkp",
    "outputId": "dc208283-32d8-48dc-f1d3-35e4f84fad52"
   },
   "outputs": [
    {
     "data": {
      "text/plain": [
       "'2.14.0'"
      ]
     },
     "execution_count": 12,
     "metadata": {},
     "output_type": "execute_result"
    }
   ],
   "source": [
    "import tensorflow as tf\n",
    "tf.__version__"
   ]
  },
  {
   "cell_type": "code",
   "execution_count": 14,
   "metadata": {
    "colab": {
     "base_uri": "https://localhost:8080/",
     "height": 56
    },
    "executionInfo": {
     "elapsed": 36,
     "status": "ok",
     "timestamp": 1737463996559,
     "user": {
      "displayName": "Jones Granatyr",
      "userId": "10042675233362078631"
     },
     "user_tz": 180
    },
    "id": "WR4-aoG-WbF5",
    "outputId": "ad92dcc0-0890-47a9-ded9-ad5c3cc9a4c5"
   },
   "outputs": [
    {
     "data": {
      "text/plain": [
       "'2.7.1+cpu'"
      ]
     },
     "execution_count": 14,
     "metadata": {},
     "output_type": "execute_result"
    }
   ],
   "source": [
    "import torch\n",
    "torch.__version__"
   ]
  },
  {
   "cell_type": "code",
   "execution_count": 15,
   "metadata": {
    "id": "JdObnbk7WjZv"
   },
   "outputs": [],
   "source": [
    "#pip install tensorflow == 2.17.1"
   ]
  },
  {
   "cell_type": "markdown",
   "metadata": {
    "id": "Aq5S0dy1D8KD"
   },
   "source": [
    "# Tensores"
   ]
  },
  {
   "cell_type": "markdown",
   "metadata": {
    "id": "nXjHBs0QEBuy"
   },
   "source": [
    "## Escalares"
   ]
  },
  {
   "cell_type": "code",
   "execution_count": 16,
   "metadata": {
    "colab": {
     "base_uri": "https://localhost:8080/"
    },
    "executionInfo": {
     "elapsed": 35,
     "status": "ok",
     "timestamp": 1737463996559,
     "user": {
      "displayName": "Jones Granatyr",
      "userId": "10042675233362078631"
     },
     "user_tz": 180
    },
    "id": "QxvRcHIj7_bC",
    "outputId": "1fff6878-3b18-4337-ab89-7b049b28f6b4"
   },
   "outputs": [
    {
     "data": {
      "text/plain": [
       "3"
      ]
     },
     "execution_count": 16,
     "metadata": {},
     "output_type": "execute_result"
    }
   ],
   "source": [
    "3"
   ]
  },
  {
   "cell_type": "code",
   "execution_count": 17,
   "metadata": {
    "colab": {
     "base_uri": "https://localhost:8080/"
    },
    "executionInfo": {
     "elapsed": 34,
     "status": "ok",
     "timestamp": 1737463996559,
     "user": {
      "displayName": "Jones Granatyr",
      "userId": "10042675233362078631"
     },
     "user_tz": 180
    },
    "id": "ENUo1rYR8CMZ",
    "outputId": "db4124d2-b14d-4aec-a725-f0502c6fc70c"
   },
   "outputs": [
    {
     "data": {
      "text/plain": [
       "-2"
      ]
     },
     "execution_count": 17,
     "metadata": {},
     "output_type": "execute_result"
    }
   ],
   "source": [
    "-2"
   ]
  },
  {
   "cell_type": "code",
   "execution_count": 18,
   "metadata": {
    "colab": {
     "base_uri": "https://localhost:8080/"
    },
    "executionInfo": {
     "elapsed": 33,
     "status": "ok",
     "timestamp": 1737463996559,
     "user": {
      "displayName": "Jones Granatyr",
      "userId": "10042675233362078631"
     },
     "user_tz": 180
    },
    "id": "YUwJF49D8D4q",
    "outputId": "1071d699-3895-4716-88ea-a1237d29020e"
   },
   "outputs": [
    {
     "data": {
      "text/plain": [
       "0.7142857142857143"
      ]
     },
     "execution_count": 18,
     "metadata": {},
     "output_type": "execute_result"
    }
   ],
   "source": [
    "5/7"
   ]
  },
  {
   "cell_type": "code",
   "execution_count": 19,
   "metadata": {
    "colab": {
     "base_uri": "https://localhost:8080/"
    },
    "executionInfo": {
     "elapsed": 32,
     "status": "ok",
     "timestamp": 1737463996559,
     "user": {
      "displayName": "Jones Granatyr",
      "userId": "10042675233362078631"
     },
     "user_tz": 180
    },
    "id": "X_UnJiUz8HOv",
    "outputId": "3fd683cf-b86e-432e-fddc-9b8547899359"
   },
   "outputs": [
    {
     "data": {
      "text/plain": [
       "49"
      ]
     },
     "execution_count": 19,
     "metadata": {},
     "output_type": "execute_result"
    }
   ],
   "source": [
    "7**2"
   ]
  },
  {
   "cell_type": "code",
   "execution_count": 20,
   "metadata": {
    "colab": {
     "base_uri": "https://localhost:8080/"
    },
    "executionInfo": {
     "elapsed": 30,
     "status": "ok",
     "timestamp": 1737463996559,
     "user": {
      "displayName": "Jones Granatyr",
      "userId": "10042675233362078631"
     },
     "user_tz": 180
    },
    "id": "a0SKdDhu8Khb",
    "outputId": "779c303f-7c00-41f3-bb95-19e4370268ff"
   },
   "outputs": [
    {
     "data": {
      "text/plain": [
       "343"
      ]
     },
     "execution_count": 20,
     "metadata": {},
     "output_type": "execute_result"
    }
   ],
   "source": [
    "7**3"
   ]
  },
  {
   "cell_type": "code",
   "execution_count": 21,
   "metadata": {
    "colab": {
     "base_uri": "https://localhost:8080/"
    },
    "executionInfo": {
     "elapsed": 29,
     "status": "ok",
     "timestamp": 1737463996559,
     "user": {
      "displayName": "Jones Granatyr",
      "userId": "10042675233362078631"
     },
     "user_tz": 180
    },
    "id": "Qp2iBByq8O0w",
    "outputId": "f87a3adc-6b85-4210-fb19-778f56e0ef81"
   },
   "outputs": [
    {
     "data": {
      "text/plain": [
       "2.23606797749979"
      ]
     },
     "execution_count": 21,
     "metadata": {},
     "output_type": "execute_result"
    }
   ],
   "source": [
    "5**(1/2)"
   ]
  },
  {
   "cell_type": "code",
   "execution_count": 22,
   "metadata": {
    "id": "E9Wf1r358S31"
   },
   "outputs": [],
   "source": [
    "scalar = np.array(8)"
   ]
  },
  {
   "cell_type": "code",
   "execution_count": 23,
   "metadata": {
    "colab": {
     "base_uri": "https://localhost:8080/"
    },
    "executionInfo": {
     "elapsed": 28,
     "status": "ok",
     "timestamp": 1737463996559,
     "user": {
      "displayName": "Jones Granatyr",
      "userId": "10042675233362078631"
     },
     "user_tz": 180
    },
    "id": "KgYQ-khp8XwZ",
    "outputId": "8e573610-3008-4a2c-bf6b-dc6f6ecd9a05"
   },
   "outputs": [
    {
     "name": "stdout",
     "output_type": "stream",
     "text": [
      "8\n"
     ]
    }
   ],
   "source": [
    "print(scalar)"
   ]
  },
  {
   "cell_type": "code",
   "execution_count": 24,
   "metadata": {
    "colab": {
     "base_uri": "https://localhost:8080/"
    },
    "executionInfo": {
     "elapsed": 27,
     "status": "ok",
     "timestamp": 1737463996559,
     "user": {
      "displayName": "Jones Granatyr",
      "userId": "10042675233362078631"
     },
     "user_tz": 180
    },
    "id": "_7cdZiTq8Z_i",
    "outputId": "911f6c7e-9094-4817-9fc6-f0ff215e2bfd"
   },
   "outputs": [
    {
     "data": {
      "text/plain": [
       "numpy.ndarray"
      ]
     },
     "execution_count": 24,
     "metadata": {},
     "output_type": "execute_result"
    }
   ],
   "source": [
    "type(scalar)"
   ]
  },
  {
   "cell_type": "code",
   "execution_count": 25,
   "metadata": {
    "colab": {
     "base_uri": "https://localhost:8080/"
    },
    "executionInfo": {
     "elapsed": 26,
     "status": "ok",
     "timestamp": 1737463996559,
     "user": {
      "displayName": "Jones Granatyr",
      "userId": "10042675233362078631"
     },
     "user_tz": 180
    },
    "id": "ge_Lepyo8eC6",
    "outputId": "8617ea57-b2cf-4cac-f209-9ac891c361f7"
   },
   "outputs": [
    {
     "data": {
      "text/plain": [
       "0"
      ]
     },
     "execution_count": 25,
     "metadata": {},
     "output_type": "execute_result"
    }
   ],
   "source": [
    "scalar.ndim"
   ]
  },
  {
   "cell_type": "markdown",
   "metadata": {
    "id": "scQoBV2rETby"
   },
   "source": [
    "## Vetores"
   ]
  },
  {
   "cell_type": "code",
   "execution_count": 26,
   "metadata": {
    "id": "ZOIHBjp3817r"
   },
   "outputs": [],
   "source": [
    "lista = [1, 2, 3]"
   ]
  },
  {
   "cell_type": "code",
   "execution_count": 27,
   "metadata": {
    "colab": {
     "base_uri": "https://localhost:8080/"
    },
    "executionInfo": {
     "elapsed": 26,
     "status": "ok",
     "timestamp": 1737463996560,
     "user": {
      "displayName": "Jones Granatyr",
      "userId": "10042675233362078631"
     },
     "user_tz": 180
    },
    "id": "-WEGSwZ3864k",
    "outputId": "b5c0bc0d-ad9e-4782-a958-26ba556c2b27"
   },
   "outputs": [
    {
     "name": "stdout",
     "output_type": "stream",
     "text": [
      "[1, 2, 3]\n"
     ]
    }
   ],
   "source": [
    "print(lista)"
   ]
  },
  {
   "cell_type": "code",
   "execution_count": 28,
   "metadata": {
    "colab": {
     "base_uri": "https://localhost:8080/"
    },
    "executionInfo": {
     "elapsed": 26,
     "status": "ok",
     "timestamp": 1737463996560,
     "user": {
      "displayName": "Jones Granatyr",
      "userId": "10042675233362078631"
     },
     "user_tz": 180
    },
    "id": "nFWiqKk088ya",
    "outputId": "1cca4a3f-0ae2-489f-a2e1-9ff02785affd"
   },
   "outputs": [
    {
     "data": {
      "text/plain": [
       "list"
      ]
     },
     "execution_count": 28,
     "metadata": {},
     "output_type": "execute_result"
    }
   ],
   "source": [
    "type(lista)"
   ]
  },
  {
   "cell_type": "code",
   "execution_count": 29,
   "metadata": {
    "colab": {
     "base_uri": "https://localhost:8080/"
    },
    "executionInfo": {
     "elapsed": 25,
     "status": "ok",
     "timestamp": 1737463996560,
     "user": {
      "displayName": "Jones Granatyr",
      "userId": "10042675233362078631"
     },
     "user_tz": 180
    },
    "id": "jFME18my8_xS",
    "outputId": "f204aa4c-c36a-4eff-98ed-5951e83345b4"
   },
   "outputs": [
    {
     "data": {
      "text/plain": [
       "[1, 2, 3, 1, 2, 3]"
      ]
     },
     "execution_count": 29,
     "metadata": {},
     "output_type": "execute_result"
    }
   ],
   "source": [
    "lista * 2"
   ]
  },
  {
   "cell_type": "code",
   "execution_count": 30,
   "metadata": {
    "id": "IP9anOQ29Inf"
   },
   "outputs": [],
   "source": [
    "vector = np.array([1, 2, 3])"
   ]
  },
  {
   "cell_type": "code",
   "execution_count": 31,
   "metadata": {
    "colab": {
     "base_uri": "https://localhost:8080/"
    },
    "executionInfo": {
     "elapsed": 24,
     "status": "ok",
     "timestamp": 1737463996560,
     "user": {
      "displayName": "Jones Granatyr",
      "userId": "10042675233362078631"
     },
     "user_tz": 180
    },
    "id": "WR4POhUh9M4q",
    "outputId": "97da647b-084b-41f6-bb2e-807db674c4f9"
   },
   "outputs": [
    {
     "name": "stdout",
     "output_type": "stream",
     "text": [
      "[1 2 3]\n"
     ]
    }
   ],
   "source": [
    "print(vector)"
   ]
  },
  {
   "cell_type": "code",
   "execution_count": 32,
   "metadata": {
    "colab": {
     "base_uri": "https://localhost:8080/"
    },
    "executionInfo": {
     "elapsed": 23,
     "status": "ok",
     "timestamp": 1737463996560,
     "user": {
      "displayName": "Jones Granatyr",
      "userId": "10042675233362078631"
     },
     "user_tz": 180
    },
    "id": "vif-ovCN9SYP",
    "outputId": "1bd3abd3-40bf-43fe-d2c9-9f83e342aa6c"
   },
   "outputs": [
    {
     "data": {
      "text/plain": [
       "numpy.ndarray"
      ]
     },
     "execution_count": 32,
     "metadata": {},
     "output_type": "execute_result"
    }
   ],
   "source": [
    "type(vector)"
   ]
  },
  {
   "cell_type": "code",
   "execution_count": 33,
   "metadata": {
    "colab": {
     "base_uri": "https://localhost:8080/"
    },
    "executionInfo": {
     "elapsed": 22,
     "status": "ok",
     "timestamp": 1737463996560,
     "user": {
      "displayName": "Jones Granatyr",
      "userId": "10042675233362078631"
     },
     "user_tz": 180
    },
    "id": "wFtWq2qM9UtL",
    "outputId": "62a07825-c088-428b-b423-825a2366ad9a"
   },
   "outputs": [
    {
     "data": {
      "text/plain": [
       "1"
      ]
     },
     "execution_count": 33,
     "metadata": {},
     "output_type": "execute_result"
    }
   ],
   "source": [
    "vector.ndim"
   ]
  },
  {
   "cell_type": "code",
   "execution_count": 34,
   "metadata": {
    "colab": {
     "base_uri": "https://localhost:8080/"
    },
    "executionInfo": {
     "elapsed": 21,
     "status": "ok",
     "timestamp": 1737463996560,
     "user": {
      "displayName": "Jones Granatyr",
      "userId": "10042675233362078631"
     },
     "user_tz": 180
    },
    "id": "eTKtkxUc9hpW",
    "outputId": "6fb30174-41fc-4510-f4f8-446ac9ddddf8"
   },
   "outputs": [
    {
     "data": {
      "text/plain": [
       "array([2, 4, 6])"
      ]
     },
     "execution_count": 34,
     "metadata": {},
     "output_type": "execute_result"
    }
   ],
   "source": [
    "vector * 2"
   ]
  },
  {
   "cell_type": "markdown",
   "metadata": {
    "id": "j09HPfmzFak3"
   },
   "source": [
    "## Matriz"
   ]
  },
  {
   "cell_type": "code",
   "execution_count": 35,
   "metadata": {
    "id": "eremQK4C-Jky"
   },
   "outputs": [],
   "source": [
    "matrix = np.array(\n",
    "    [\n",
    "        [1, 2, 3],\n",
    "        [4, 5, 6],\n",
    "        [7, 8, 9]\n",
    "    ]\n",
    ")"
   ]
  },
  {
   "cell_type": "code",
   "execution_count": 36,
   "metadata": {
    "colab": {
     "base_uri": "https://localhost:8080/"
    },
    "executionInfo": {
     "elapsed": 20,
     "status": "ok",
     "timestamp": 1737463996560,
     "user": {
      "displayName": "Jones Granatyr",
      "userId": "10042675233362078631"
     },
     "user_tz": 180
    },
    "id": "bd2taGPK-WL3",
    "outputId": "f38904f7-8f44-4e0c-e00e-ff543e130d65"
   },
   "outputs": [
    {
     "name": "stdout",
     "output_type": "stream",
     "text": [
      "[[1 2 3]\n",
      " [4 5 6]\n",
      " [7 8 9]]\n"
     ]
    }
   ],
   "source": [
    "print(matrix)"
   ]
  },
  {
   "cell_type": "code",
   "execution_count": 37,
   "metadata": {
    "colab": {
     "base_uri": "https://localhost:8080/"
    },
    "executionInfo": {
     "elapsed": 19,
     "status": "ok",
     "timestamp": 1737463996560,
     "user": {
      "displayName": "Jones Granatyr",
      "userId": "10042675233362078631"
     },
     "user_tz": 180
    },
    "id": "BTz5oGqK-anA",
    "outputId": "5b9ab5db-4444-43f1-d0ea-8fc3f0ddb9ca"
   },
   "outputs": [
    {
     "data": {
      "text/plain": [
       "numpy.ndarray"
      ]
     },
     "execution_count": 37,
     "metadata": {},
     "output_type": "execute_result"
    }
   ],
   "source": [
    "type(matrix)"
   ]
  },
  {
   "cell_type": "code",
   "execution_count": 38,
   "metadata": {
    "colab": {
     "base_uri": "https://localhost:8080/"
    },
    "executionInfo": {
     "elapsed": 18,
     "status": "ok",
     "timestamp": 1737463996560,
     "user": {
      "displayName": "Jones Granatyr",
      "userId": "10042675233362078631"
     },
     "user_tz": 180
    },
    "id": "LmmOHnFc-dMy",
    "outputId": "020febff-725f-4e56-b334-cccad906e996"
   },
   "outputs": [
    {
     "data": {
      "text/plain": [
       "2"
      ]
     },
     "execution_count": 38,
     "metadata": {},
     "output_type": "execute_result"
    }
   ],
   "source": [
    "matrix.ndim"
   ]
  },
  {
   "cell_type": "code",
   "execution_count": 39,
   "metadata": {
    "colab": {
     "base_uri": "https://localhost:8080/"
    },
    "executionInfo": {
     "elapsed": 17,
     "status": "ok",
     "timestamp": 1737463996560,
     "user": {
      "displayName": "Jones Granatyr",
      "userId": "10042675233362078631"
     },
     "user_tz": 180
    },
    "id": "TBSW6tFn-xfS",
    "outputId": "2a807668-0434-4d72-aa03-737d62409e72"
   },
   "outputs": [
    {
     "data": {
      "text/plain": [
       "8"
      ]
     },
     "execution_count": 39,
     "metadata": {},
     "output_type": "execute_result"
    }
   ],
   "source": [
    "matrix[2][1]"
   ]
  },
  {
   "cell_type": "code",
   "execution_count": 40,
   "metadata": {
    "colab": {
     "base_uri": "https://localhost:8080/"
    },
    "executionInfo": {
     "elapsed": 17,
     "status": "ok",
     "timestamp": 1737463996560,
     "user": {
      "displayName": "Jones Granatyr",
      "userId": "10042675233362078631"
     },
     "user_tz": 180
    },
    "id": "ga73zVJJ_DH-",
    "outputId": "4a1542c0-951c-4a0d-be9b-52f0fc69adb6"
   },
   "outputs": [
    {
     "data": {
      "text/plain": [
       "array([[ 2,  4,  6],\n",
       "       [ 8, 10, 12],\n",
       "       [14, 16, 18]])"
      ]
     },
     "execution_count": 40,
     "metadata": {},
     "output_type": "execute_result"
    }
   ],
   "source": [
    "matrix * 2"
   ]
  },
  {
   "cell_type": "markdown",
   "metadata": {
    "id": "epmqsLJ9GIAr"
   },
   "source": [
    "## Tensores"
   ]
  },
  {
   "cell_type": "code",
   "execution_count": 41,
   "metadata": {
    "id": "AL9sAcc-_OR6"
   },
   "outputs": [],
   "source": [
    "tensor_np = np.array(\n",
    "    [\n",
    "        [\n",
    "            [1, 2, 3],\n",
    "            [4, 5, 6]\n",
    "        ],\n",
    "        [\n",
    "            [7, 8, 9],\n",
    "            [10, 11, 12] # listas internas\n",
    "        ]\n",
    "    ] # lista intermediária\n",
    ") # lista externa"
   ]
  },
  {
   "cell_type": "code",
   "execution_count": 42,
   "metadata": {
    "colab": {
     "base_uri": "https://localhost:8080/"
    },
    "executionInfo": {
     "elapsed": 16,
     "status": "ok",
     "timestamp": 1737463996560,
     "user": {
      "displayName": "Jones Granatyr",
      "userId": "10042675233362078631"
     },
     "user_tz": 180
    },
    "id": "1Ixls2LP_rxl",
    "outputId": "94aeb7fa-1f00-4201-9f79-81c226faa0a0"
   },
   "outputs": [
    {
     "name": "stdout",
     "output_type": "stream",
     "text": [
      "[[[ 1  2  3]\n",
      "  [ 4  5  6]]\n",
      "\n",
      " [[ 7  8  9]\n",
      "  [10 11 12]]]\n"
     ]
    }
   ],
   "source": [
    "print(tensor_np)"
   ]
  },
  {
   "cell_type": "code",
   "execution_count": 43,
   "metadata": {
    "colab": {
     "base_uri": "https://localhost:8080/"
    },
    "executionInfo": {
     "elapsed": 15,
     "status": "ok",
     "timestamp": 1737463996560,
     "user": {
      "displayName": "Jones Granatyr",
      "userId": "10042675233362078631"
     },
     "user_tz": 180
    },
    "id": "R24Zai-d_2SA",
    "outputId": "63675ecc-67c0-4b4b-c539-a5eb34d93cec"
   },
   "outputs": [
    {
     "data": {
      "text/plain": [
       "numpy.ndarray"
      ]
     },
     "execution_count": 43,
     "metadata": {},
     "output_type": "execute_result"
    }
   ],
   "source": [
    "type(tensor_np)"
   ]
  },
  {
   "cell_type": "code",
   "execution_count": 44,
   "metadata": {
    "colab": {
     "base_uri": "https://localhost:8080/"
    },
    "executionInfo": {
     "elapsed": 14,
     "status": "ok",
     "timestamp": 1737463996560,
     "user": {
      "displayName": "Jones Granatyr",
      "userId": "10042675233362078631"
     },
     "user_tz": 180
    },
    "id": "LiFj4Atu_4ns",
    "outputId": "908a1edb-479a-4b4d-9a77-964039ac69ab"
   },
   "outputs": [
    {
     "data": {
      "text/plain": [
       "3"
      ]
     },
     "execution_count": 44,
     "metadata": {},
     "output_type": "execute_result"
    }
   ],
   "source": [
    "tensor_np.ndim"
   ]
  },
  {
   "cell_type": "code",
   "execution_count": 45,
   "metadata": {
    "colab": {
     "base_uri": "https://localhost:8080/"
    },
    "executionInfo": {
     "elapsed": 13,
     "status": "ok",
     "timestamp": 1737463996560,
     "user": {
      "displayName": "Jones Granatyr",
      "userId": "10042675233362078631"
     },
     "user_tz": 180
    },
    "id": "54KY0TXiAF6f",
    "outputId": "82389f22-0661-423d-94a6-a0454375bfcb"
   },
   "outputs": [
    {
     "data": {
      "text/plain": [
       "array([[[ 2,  4,  6],\n",
       "        [ 8, 10, 12]],\n",
       "\n",
       "       [[14, 16, 18],\n",
       "        [20, 22, 24]]])"
      ]
     },
     "execution_count": 45,
     "metadata": {},
     "output_type": "execute_result"
    }
   ],
   "source": [
    "tensor_np * 2"
   ]
  },
  {
   "cell_type": "code",
   "execution_count": 46,
   "metadata": {
    "id": "jHpH6cGVAQ3V"
   },
   "outputs": [],
   "source": [
    "tensor_tf = tf.convert_to_tensor(tensor_np)"
   ]
  },
  {
   "cell_type": "code",
   "execution_count": 47,
   "metadata": {
    "colab": {
     "base_uri": "https://localhost:8080/"
    },
    "executionInfo": {
     "elapsed": 12,
     "status": "ok",
     "timestamp": 1737463996560,
     "user": {
      "displayName": "Jones Granatyr",
      "userId": "10042675233362078631"
     },
     "user_tz": 180
    },
    "id": "l-P6JQrlAamT",
    "outputId": "5a8c7547-3cfc-4975-e424-2e179fb515a8"
   },
   "outputs": [
    {
     "name": "stdout",
     "output_type": "stream",
     "text": [
      "tf.Tensor(\n",
      "[[[ 1  2  3]\n",
      "  [ 4  5  6]]\n",
      "\n",
      " [[ 7  8  9]\n",
      "  [10 11 12]]], shape=(2, 2, 3), dtype=int32)\n"
     ]
    }
   ],
   "source": [
    "print(tensor_tf)"
   ]
  },
  {
   "cell_type": "code",
   "execution_count": 49,
   "metadata": {
    "colab": {
     "base_uri": "https://localhost:8080/"
    },
    "executionInfo": {
     "elapsed": 11,
     "status": "ok",
     "timestamp": 1737463996560,
     "user": {
      "displayName": "Jones Granatyr",
      "userId": "10042675233362078631"
     },
     "user_tz": 180
    },
    "id": "InM8TLLGA1rV",
    "outputId": "877800c8-9bda-46c2-be92-e3f2ac51856d"
   },
   "outputs": [
    {
     "data": {
      "text/plain": [
       "tensorflow.python.framework.ops.EagerTensor"
      ]
     },
     "execution_count": 49,
     "metadata": {},
     "output_type": "execute_result"
    }
   ],
   "source": [
    "type(tensor_tf)"
   ]
  },
  {
   "cell_type": "code",
   "execution_count": 50,
   "metadata": {
    "colab": {
     "base_uri": "https://localhost:8080/"
    },
    "executionInfo": {
     "elapsed": 10,
     "status": "ok",
     "timestamp": 1737463996560,
     "user": {
      "displayName": "Jones Granatyr",
      "userId": "10042675233362078631"
     },
     "user_tz": 180
    },
    "id": "IHFcBaeSA_E3",
    "outputId": "024d24a4-ca3e-4530-d74c-60a12ead64fa"
   },
   "outputs": [
    {
     "data": {
      "text/plain": [
       "3"
      ]
     },
     "execution_count": 50,
     "metadata": {},
     "output_type": "execute_result"
    }
   ],
   "source": [
    "tensor_tf.ndim"
   ]
  },
  {
   "cell_type": "code",
   "execution_count": 51,
   "metadata": {
    "colab": {
     "base_uri": "https://localhost:8080/"
    },
    "executionInfo": {
     "elapsed": 10,
     "status": "ok",
     "timestamp": 1737463996560,
     "user": {
      "displayName": "Jones Granatyr",
      "userId": "10042675233362078631"
     },
     "user_tz": 180
    },
    "id": "wcEIeTmxBCCw",
    "outputId": "e6d54db5-ab2f-4f5a-fa26-0c2c73681880"
   },
   "outputs": [
    {
     "data": {
      "text/plain": [
       "<tf.Tensor: shape=(2, 2, 3), dtype=int32, numpy=\n",
       "array([[[ 2,  4,  6],\n",
       "        [ 8, 10, 12]],\n",
       "\n",
       "       [[14, 16, 18],\n",
       "        [20, 22, 24]]])>"
      ]
     },
     "execution_count": 51,
     "metadata": {},
     "output_type": "execute_result"
    }
   ],
   "source": [
    "tensor_tf * 2"
   ]
  },
  {
   "cell_type": "code",
   "execution_count": 52,
   "metadata": {
    "colab": {
     "base_uri": "https://localhost:8080/"
    },
    "executionInfo": {
     "elapsed": 9,
     "status": "ok",
     "timestamp": 1737463996560,
     "user": {
      "displayName": "Jones Granatyr",
      "userId": "10042675233362078631"
     },
     "user_tz": 180
    },
    "id": "qpqqElgQBLxb",
    "outputId": "a46f12cd-7d73-452c-981b-63d8abcdb8fe"
   },
   "outputs": [
    {
     "data": {
      "text/plain": [
       "array([[[ 1,  2,  3],\n",
       "        [ 4,  5,  6]],\n",
       "\n",
       "       [[ 7,  8,  9],\n",
       "        [10, 11, 12]]])"
      ]
     },
     "execution_count": 52,
     "metadata": {},
     "output_type": "execute_result"
    }
   ],
   "source": [
    "tensor_tf.numpy()"
   ]
  },
  {
   "cell_type": "code",
   "execution_count": 53,
   "metadata": {
    "id": "lvOY3iYpBVRJ"
   },
   "outputs": [],
   "source": [
    "tensor_pt = torch.tensor(tensor_np)"
   ]
  },
  {
   "cell_type": "code",
   "execution_count": 54,
   "metadata": {
    "colab": {
     "base_uri": "https://localhost:8080/"
    },
    "executionInfo": {
     "elapsed": 10,
     "status": "ok",
     "timestamp": 1737463997007,
     "user": {
      "displayName": "Jones Granatyr",
      "userId": "10042675233362078631"
     },
     "user_tz": 180
    },
    "id": "I8j3OcLuBbcV",
    "outputId": "f0f863bd-5def-4fff-f286-ccadcdb8b59e"
   },
   "outputs": [
    {
     "name": "stdout",
     "output_type": "stream",
     "text": [
      "tensor([[[ 1,  2,  3],\n",
      "         [ 4,  5,  6]],\n",
      "\n",
      "        [[ 7,  8,  9],\n",
      "         [10, 11, 12]]], dtype=torch.int32)\n"
     ]
    }
   ],
   "source": [
    "print(tensor_pt)"
   ]
  },
  {
   "cell_type": "code",
   "execution_count": 55,
   "metadata": {
    "colab": {
     "base_uri": "https://localhost:8080/"
    },
    "executionInfo": {
     "elapsed": 9,
     "status": "ok",
     "timestamp": 1737463997007,
     "user": {
      "displayName": "Jones Granatyr",
      "userId": "10042675233362078631"
     },
     "user_tz": 180
    },
    "id": "eAa83InlBgiX",
    "outputId": "a62cecfc-9f2a-4d91-a5b3-800a5729ee96"
   },
   "outputs": [
    {
     "data": {
      "text/plain": [
       "torch.Tensor"
      ]
     },
     "execution_count": 55,
     "metadata": {},
     "output_type": "execute_result"
    }
   ],
   "source": [
    "type(tensor_pt)"
   ]
  },
  {
   "cell_type": "code",
   "execution_count": 56,
   "metadata": {
    "colab": {
     "base_uri": "https://localhost:8080/"
    },
    "executionInfo": {
     "elapsed": 8,
     "status": "ok",
     "timestamp": 1737463997007,
     "user": {
      "displayName": "Jones Granatyr",
      "userId": "10042675233362078631"
     },
     "user_tz": 180
    },
    "id": "OmZq4g-lBjs8",
    "outputId": "a65e181c-cb7b-4c22-8ca8-fbf44466f33c"
   },
   "outputs": [
    {
     "data": {
      "text/plain": [
       "3"
      ]
     },
     "execution_count": 56,
     "metadata": {},
     "output_type": "execute_result"
    }
   ],
   "source": [
    "tensor_pt.ndim"
   ]
  },
  {
   "cell_type": "code",
   "execution_count": 57,
   "metadata": {
    "colab": {
     "base_uri": "https://localhost:8080/"
    },
    "executionInfo": {
     "elapsed": 7,
     "status": "ok",
     "timestamp": 1737463997008,
     "user": {
      "displayName": "Jones Granatyr",
      "userId": "10042675233362078631"
     },
     "user_tz": 180
    },
    "id": "ZBAvS6v1BvhG",
    "outputId": "495fa93b-bda1-46cb-8da6-c382f603a3ea"
   },
   "outputs": [
    {
     "data": {
      "text/plain": [
       "tensor([[[ 2,  4,  6],\n",
       "         [ 8, 10, 12]],\n",
       "\n",
       "        [[14, 16, 18],\n",
       "         [20, 22, 24]]], dtype=torch.int32)"
      ]
     },
     "execution_count": 57,
     "metadata": {},
     "output_type": "execute_result"
    }
   ],
   "source": [
    "tensor_pt * 2"
   ]
  },
  {
   "cell_type": "code",
   "execution_count": 58,
   "metadata": {
    "colab": {
     "base_uri": "https://localhost:8080/"
    },
    "executionInfo": {
     "elapsed": 6,
     "status": "ok",
     "timestamp": 1737463997008,
     "user": {
      "displayName": "Jones Granatyr",
      "userId": "10042675233362078631"
     },
     "user_tz": 180
    },
    "id": "ZJM1gM5gByQA",
    "outputId": "82a178f9-9cca-4152-bdb7-5279b314038c"
   },
   "outputs": [
    {
     "data": {
      "text/plain": [
       "array([[[ 1,  2,  3],\n",
       "        [ 4,  5,  6]],\n",
       "\n",
       "       [[ 7,  8,  9],\n",
       "        [10, 11, 12]]])"
      ]
     },
     "execution_count": 58,
     "metadata": {},
     "output_type": "execute_result"
    }
   ],
   "source": [
    "tensor_pt.numpy()"
   ]
  },
  {
   "cell_type": "markdown",
   "metadata": {
    "id": "1HWz3wv9M2uv"
   },
   "source": [
    "# Sistemas lineares"
   ]
  },
  {
   "cell_type": "markdown",
   "metadata": {
    "id": "-3PJefjRM5bk"
   },
   "source": [
    "Vamos plotar as retas referentes às formas simplificadas de `casal_1` e `casal_2`."
   ]
  },
  {
   "cell_type": "markdown",
   "metadata": {
    "id": "XL91SHWYJpz0"
   },
   "source": [
    "\\begin{aligned}\n",
    "127.35 &= x_1 + x_2\\\\\n",
    "128.10 &= 2x_1 + 2x_2\\\\\n",
    "\\end{aligned}\n",
    "\n",
    "<center>⏬ rearranjando para isolar $x_2$⏬</center>\n",
    "\n",
    "\\begin{aligned}\n",
    "x_2 &= 127.35 - x_1\\\\\n",
    "x_2 &= 64.05 - x_1\n",
    "\\end{aligned}"
   ]
  },
  {
   "cell_type": "code",
   "execution_count": 59,
   "metadata": {
    "id": "e7FJr7uiWeiG"
   },
   "outputs": [],
   "source": [
    "x1_r1 = np.array([0, 10, 20, 30, 40, 50])\n",
    "x1_r2 = np.array([0, 10, 20, 30, 40, 50])"
   ]
  },
  {
   "cell_type": "code",
   "execution_count": 60,
   "metadata": {
    "id": "E0GIoNcKWscx"
   },
   "outputs": [],
   "source": [
    "x2_r1 = 127.35 - x1_r1\n",
    "x2_r2 = 64.05 - x1_r2"
   ]
  },
  {
   "cell_type": "code",
   "execution_count": 61,
   "metadata": {
    "colab": {
     "base_uri": "https://localhost:8080/"
    },
    "executionInfo": {
     "elapsed": 5,
     "status": "ok",
     "timestamp": 1737463997008,
     "user": {
      "displayName": "Jones Granatyr",
      "userId": "10042675233362078631"
     },
     "user_tz": 180
    },
    "id": "d7Z_N3S1W5Ei",
    "outputId": "fc70b2d1-1740-49f5-d757-6d440a051124"
   },
   "outputs": [
    {
     "name": "stdout",
     "output_type": "stream",
     "text": [
      "[127.35 117.35 107.35  97.35  87.35  77.35]\n"
     ]
    }
   ],
   "source": [
    "print(x2_r1)"
   ]
  },
  {
   "cell_type": "code",
   "execution_count": 62,
   "metadata": {
    "colab": {
     "base_uri": "https://localhost:8080/"
    },
    "executionInfo": {
     "elapsed": 4,
     "status": "ok",
     "timestamp": 1737463997008,
     "user": {
      "displayName": "Jones Granatyr",
      "userId": "10042675233362078631"
     },
     "user_tz": 180
    },
    "id": "bzNoQTtwXAK9",
    "outputId": "0f6baa70-02be-4781-8267-12578efdcdde"
   },
   "outputs": [
    {
     "name": "stdout",
     "output_type": "stream",
     "text": [
      "[64.05 54.05 44.05 34.05 24.05 14.05]\n"
     ]
    }
   ],
   "source": [
    "print(x2_r2)"
   ]
  },
  {
   "cell_type": "code",
   "execution_count": 63,
   "metadata": {
    "colab": {
     "base_uri": "https://localhost:8080/",
     "height": 451
    },
    "executionInfo": {
     "elapsed": 528,
     "status": "ok",
     "timestamp": 1737463997533,
     "user": {
      "displayName": "Jones Granatyr",
      "userId": "10042675233362078631"
     },
     "user_tz": 180
    },
    "id": "psuPjfnsXxg2",
    "outputId": "670ad78f-d973-4890-d612-ab9fba173f5a"
   },
   "outputs": [
    {
     "data": {
      "image/png": "[encoded data removed]",
      "text/plain": [
       "<Figure size 640x480 with 1 Axes>"
      ]
     },
     "metadata": {},
     "output_type": "display_data"
    }
   ],
   "source": [
    "plt.plot(x1_r1, x2_r1, label = \"casal_1\")\n",
    "plt.plot(x1_r2, x2_r2, label = \"casal_2\")\n",
    "plt.legend();"
   ]
  },
  {
   "cell_type": "markdown",
   "metadata": {
    "id": "LlWNeSIjNm2Z"
   },
   "source": [
    "Vamos avaliar um sistema formado por `casal_1` e `casal-3`."
   ]
  },
  {
   "cell_type": "markdown",
   "metadata": {
    "id": "Y1JT3t-ZMXB3"
   },
   "source": [
    "\\begin{aligned}\n",
    "127.35 &= x_1 + x_2\\\\\n",
    "134.85 &= 2x_1 + x_2\\\\\n",
    "\\end{aligned}\n",
    "\n",
    "<center>⏬</center>\n",
    "\n",
    "\\begin{aligned}\n",
    "x_2 &= 127.35 - x_1\\\\\n",
    "x_2 &= 134.85 - 2x_1\n",
    "\\end{aligned}"
   ]
  },
  {
   "cell_type": "code",
   "execution_count": 64,
   "metadata": {
    "id": "QP1xyQoBYXKr"
   },
   "outputs": [],
   "source": [
    "x1_r3 = np.array([0, 10, 20, 30, 40, 50])\n",
    "x2_r3 = 134.85 - 2 * x1_r3"
   ]
  },
  {
   "cell_type": "code",
   "execution_count": 65,
   "metadata": {
    "colab": {
     "base_uri": "https://localhost:8080/"
    },
    "executionInfo": {
     "elapsed": 574,
     "status": "ok",
     "timestamp": 1737463998105,
     "user": {
      "displayName": "Jones Granatyr",
      "userId": "10042675233362078631"
     },
     "user_tz": 180
    },
    "id": "NE9hoMiUYhix",
    "outputId": "8f389cf0-2072-4a29-b465-94a91d1e0672"
   },
   "outputs": [
    {
     "data": {
      "text/plain": [
       "array([134.85, 114.85,  94.85,  74.85,  54.85,  34.85])"
      ]
     },
     "execution_count": 65,
     "metadata": {},
     "output_type": "execute_result"
    }
   ],
   "source": [
    "x2_r3"
   ]
  },
  {
   "cell_type": "code",
   "execution_count": 66,
   "metadata": {
    "colab": {
     "base_uri": "https://localhost:8080/",
     "height": 451
    },
    "executionInfo": {
     "elapsed": 11,
     "status": "ok",
     "timestamp": 1737463998105,
     "user": {
      "displayName": "Jones Granatyr",
      "userId": "10042675233362078631"
     },
     "user_tz": 180
    },
    "id": "DKEsguZ0Ykf2",
    "outputId": "98e21a14-ad9c-44aa-9e2c-b3d6f4e6ab42"
   },
   "outputs": [
    {
     "data": {
      "image/png": "[encoded data removed]",
      "text/plain": [
       "<Figure size 640x480 with 1 Axes>"
      ]
     },
     "metadata": {},
     "output_type": "display_data"
    }
   ],
   "source": [
    "plt.plot(x1_r1, x2_r1, label = \"casal_1\")\n",
    "plt.plot(x1_r3, x2_r3, label = \"casal_3\")\n",
    "plt.legend();"
   ]
  },
  {
   "cell_type": "markdown",
   "metadata": {
    "id": "OXezuPzsOW1_"
   },
   "source": [
    "# Representação de dados"
   ]
  },
  {
   "cell_type": "markdown",
   "metadata": {
    "id": "kQrHRvZeOand"
   },
   "source": [
    "## Dados tabulares"
   ]
  },
  {
   "cell_type": "code",
   "execution_count": 67,
   "metadata": {
    "id": "6EUJje-zK80J"
   },
   "outputs": [],
   "source": [
    "df = pd.DataFrame(\n",
    "    {\n",
    "        \"número de bebidas\": [1, 2, 2, 2],\n",
    "        \"número de entradas\": [1, 2, 1, 1],\n",
    "        \"número de pratos principais\": [2, 2, 2, 2],\n",
    "        \"número de sobremesas\": [2, 1, 2, 1],\n",
    "        \"valor total do couvert\": [10, 10, 10, 10],\n",
    "        \"valor da conta\": [127.35, 128.10, 134.85, 119.85]\n",
    "    },\n",
    "    index = ['casal_1', 'casal_2', 'casal_3', 'casal_4']\n",
    ")"
   ]
  },
  {
   "cell_type": "code",
   "execution_count": 68,
   "metadata": {
    "colab": {
     "base_uri": "https://localhost:8080/",
     "height": 209
    },
    "executionInfo": {
     "elapsed": 7,
     "status": "ok",
     "timestamp": 1737468249785,
     "user": {
      "displayName": "Jones Granatyr",
      "userId": "10042675233362078631"
     },
     "user_tz": 180
    },
    "id": "GucXYkDtLXj8",
    "outputId": "99420b33-b7e0-4334-cd91-d9e617ae91ec"
   },
   "outputs": [
    {
     "data": {
      "text/html": [
       "<div>\n",
       "<style scoped>\n",
       "    .dataframe tbody tr th:only-of-type {\n",
       "        vertical-align: middle;\n",
       "    }\n",
       "\n",
       "    .dataframe tbody tr th {\n",
       "        vertical-align: top;\n",
       "    }\n",
       "\n",
       "    .dataframe thead th {\n",
       "        text-align: right;\n",
       "    }\n",
       "</style>\n",
       "<table border=\"1\" class=\"dataframe\">\n",
       "  <thead>\n",
       "    <tr style=\"text-align: right;\">\n",
       "      <th></th>\n",
       "      <th>número de bebidas</th>\n",
       "      <th>número de entradas</th>\n",
       "      <th>número de pratos principais</th>\n",
       "      <th>número de sobremesas</th>\n",
       "      <th>valor total do couvert</th>\n",
       "      <th>valor da conta</th>\n",
       "    </tr>\n",
       "  </thead>\n",
       "  <tbody>\n",
       "    <tr>\n",
       "      <th>casal_1</th>\n",
       "      <td>1</td>\n",
       "      <td>1</td>\n",
       "      <td>2</td>\n",
       "      <td>2</td>\n",
       "      <td>10</td>\n",
       "      <td>127.35</td>\n",
       "    </tr>\n",
       "    <tr>\n",
       "      <th>casal_2</th>\n",
       "      <td>2</td>\n",
       "      <td>2</td>\n",
       "      <td>2</td>\n",
       "      <td>1</td>\n",
       "      <td>10</td>\n",
       "      <td>128.10</td>\n",
       "    </tr>\n",
       "    <tr>\n",
       "      <th>casal_3</th>\n",
       "      <td>2</td>\n",
       "      <td>1</td>\n",
       "      <td>2</td>\n",
       "      <td>2</td>\n",
       "      <td>10</td>\n",
       "      <td>134.85</td>\n",
       "    </tr>\n",
       "    <tr>\n",
       "      <th>casal_4</th>\n",
       "      <td>2</td>\n",
       "      <td>1</td>\n",
       "      <td>2</td>\n",
       "      <td>1</td>\n",
       "      <td>10</td>\n",
       "      <td>119.85</td>\n",
       "    </tr>\n",
       "  </tbody>\n",
       "</table>\n",
       "</div>"
      ],
      "text/plain": [
       "         número de bebidas  número de entradas  número de pratos principais  \\\n",
       "casal_1                  1                   1                            2   \n",
       "casal_2                  2                   2                            2   \n",
       "casal_3                  2                   1                            2   \n",
       "casal_4                  2                   1                            2   \n",
       "\n",
       "         número de sobremesas  valor total do couvert  valor da conta  \n",
       "casal_1                     2                      10          127.35  \n",
       "casal_2                     1                      10          128.10  \n",
       "casal_3                     2                      10          134.85  \n",
       "casal_4                     1                      10          119.85  "
      ]
     },
     "execution_count": 68,
     "metadata": {},
     "output_type": "execute_result"
    }
   ],
   "source": [
    "df"
   ]
  },
  {
   "cell_type": "code",
   "execution_count": 69,
   "metadata": {
    "id": "GlaaGZl6LcqS"
   },
   "outputs": [],
   "source": [
    "df_values = df.values"
   ]
  },
  {
   "cell_type": "code",
   "execution_count": 70,
   "metadata": {
    "colab": {
     "base_uri": "https://localhost:8080/"
    },
    "executionInfo": {
     "elapsed": 5,
     "status": "ok",
     "timestamp": 1737468299880,
     "user": {
      "displayName": "Jones Granatyr",
      "userId": "10042675233362078631"
     },
     "user_tz": 180
    },
    "id": "DGvcO1AyLjIk",
    "outputId": "77a152b2-d49b-4493-c45f-01ed791ca03b"
   },
   "outputs": [
    {
     "name": "stdout",
     "output_type": "stream",
     "text": [
      "[[  1.     1.     2.     2.    10.   127.35]\n",
      " [  2.     2.     2.     1.    10.   128.1 ]\n",
      " [  2.     1.     2.     2.    10.   134.85]\n",
      " [  2.     1.     2.     1.    10.   119.85]]\n"
     ]
    }
   ],
   "source": [
    "print(df.values)"
   ]
  },
  {
   "cell_type": "code",
   "execution_count": 71,
   "metadata": {
    "id": "4kdm3X0ILq6m"
   },
   "outputs": [],
   "source": [
    "X = df.values[:, 0:5]"
   ]
  },
  {
   "cell_type": "code",
   "execution_count": 72,
   "metadata": {
    "colab": {
     "base_uri": "https://localhost:8080/"
    },
    "executionInfo": {
     "elapsed": 415,
     "status": "ok",
     "timestamp": 1737468460666,
     "user": {
      "displayName": "Jones Granatyr",
      "userId": "10042675233362078631"
     },
     "user_tz": 180
    },
    "id": "dmcPZWsDMKag",
    "outputId": "f20d0805-6ff3-416e-9c72-7b383d004bd6"
   },
   "outputs": [
    {
     "name": "stdout",
     "output_type": "stream",
     "text": [
      "[[ 1.  1.  2.  2. 10.]\n",
      " [ 2.  2.  2.  1. 10.]\n",
      " [ 2.  1.  2.  2. 10.]\n",
      " [ 2.  1.  2.  1. 10.]]\n"
     ]
    }
   ],
   "source": [
    "print(X)"
   ]
  },
  {
   "cell_type": "code",
   "execution_count": 73,
   "metadata": {
    "id": "qujryKJCMOdh"
   },
   "outputs": [],
   "source": [
    "y = df_values[:, 5]"
   ]
  },
  {
   "cell_type": "code",
   "execution_count": 74,
   "metadata": {
    "colab": {
     "base_uri": "https://localhost:8080/"
    },
    "executionInfo": {
     "elapsed": 432,
     "status": "ok",
     "timestamp": 1737468490070,
     "user": {
      "displayName": "Jones Granatyr",
      "userId": "10042675233362078631"
     },
     "user_tz": 180
    },
    "id": "Im-Ab-mBMRku",
    "outputId": "418f0a65-38c4-4b41-ea9d-5dd232166030"
   },
   "outputs": [
    {
     "name": "stdout",
     "output_type": "stream",
     "text": [
      "[127.35 128.1  134.85 119.85]\n"
     ]
    }
   ],
   "source": [
    "print(y)"
   ]
  },
  {
   "cell_type": "code",
   "execution_count": 75,
   "metadata": {
    "id": "2C-sQ9UIMkBD"
   },
   "outputs": [],
   "source": [
    "instance = df_values[0:1]"
   ]
  },
  {
   "cell_type": "code",
   "execution_count": 76,
   "metadata": {
    "colab": {
     "base_uri": "https://localhost:8080/"
    },
    "executionInfo": {
     "elapsed": 3,
     "status": "ok",
     "timestamp": 1737468583384,
     "user": {
      "displayName": "Jones Granatyr",
      "userId": "10042675233362078631"
     },
     "user_tz": 180
    },
    "id": "6bdbtm_5Mnvy",
    "outputId": "70e6aba5-869f-49e7-e58d-8049592f0566"
   },
   "outputs": [
    {
     "name": "stdout",
     "output_type": "stream",
     "text": [
      "[[  1.     1.     2.     2.    10.   127.35]]\n"
     ]
    }
   ],
   "source": [
    "print(instance)"
   ]
  },
  {
   "cell_type": "code",
   "execution_count": 77,
   "metadata": {
    "colab": {
     "base_uri": "https://localhost:8080/"
    },
    "executionInfo": {
     "elapsed": 607,
     "status": "ok",
     "timestamp": 1737468596596,
     "user": {
      "displayName": "Jones Granatyr",
      "userId": "10042675233362078631"
     },
     "user_tz": 180
    },
    "id": "6Fmujg9CMrlH",
    "outputId": "03d428bc-f1b6-4c60-9bc0-dc2631f06301"
   },
   "outputs": [
    {
     "data": {
      "text/plain": [
       "(1, 6)"
      ]
     },
     "execution_count": 77,
     "metadata": {},
     "output_type": "execute_result"
    }
   ],
   "source": [
    "instance.shape"
   ]
  },
  {
   "cell_type": "markdown",
   "metadata": {
    "id": "tVRiAZVAPkCX"
   },
   "source": [
    "## Séries temporais"
   ]
  },
  {
   "cell_type": "markdown",
   "metadata": {
    "id": "PlwH38wNPdrb"
   },
   "source": [
    "Fonte: https://archive.ics.uci.edu/dataset/360/air+quality"
   ]
  },
  {
   "cell_type": "code",
   "execution_count": 79,
   "metadata": {
    "id": "XQywlLa4Nadb"
   },
   "outputs": [],
   "source": [
    "from ucimlrepo import fetch_ucirepo\n",
    "air_quality = fetch_ucirepo(id=360)"
   ]
  },
  {
   "cell_type": "code",
   "execution_count": 80,
   "metadata": {
    "id": "EWQjlqvaNlnC"
   },
   "outputs": [],
   "source": [
    "X = air_quality.data.features"
   ]
  },
  {
   "cell_type": "code",
   "execution_count": 88,
   "metadata": {
    "colab": {
     "base_uri": "https://localhost:8080/",
     "height": 436
    },
    "executionInfo": {
     "elapsed": 6,
     "status": "ok",
     "timestamp": 1737468845081,
     "user": {
      "displayName": "Jones Granatyr",
      "userId": "10042675233362078631"
     },
     "user_tz": 180
    },
    "id": "sN0mXIq_No03",
    "outputId": "f09294b2-2b5a-4bd9-9513-95199f79db73"
   },
   "outputs": [
    {
     "data": {
      "text/html": [
       "<div>\n",
       "<style scoped>\n",
       "    .dataframe tbody tr th:only-of-type {\n",
       "        vertical-align: middle;\n",
       "    }\n",
       "\n",
       "    .dataframe tbody tr th {\n",
       "        vertical-align: top;\n",
       "    }\n",
       "\n",
       "    .dataframe thead th {\n",
       "        text-align: right;\n",
       "    }\n",
       "</style>\n",
       "<table border=\"1\" class=\"dataframe\">\n",
       "  <thead>\n",
       "    <tr style=\"text-align: right;\">\n",
       "      <th></th>\n",
       "      <th>Date</th>\n",
       "      <th>Time</th>\n",
       "      <th>CO(GT)</th>\n",
       "      <th>PT08.S1(CO)</th>\n",
       "      <th>NMHC(GT)</th>\n",
       "      <th>C6H6(GT)</th>\n",
       "      <th>PT08.S2(NMHC)</th>\n",
       "      <th>NOx(GT)</th>\n",
       "      <th>PT08.S3(NOx)</th>\n",
       "      <th>NO2(GT)</th>\n",
       "      <th>PT08.S4(NO2)</th>\n",
       "      <th>PT08.S5(O3)</th>\n",
       "      <th>T</th>\n",
       "      <th>RH</th>\n",
       "      <th>AH</th>\n",
       "    </tr>\n",
       "  </thead>\n",
       "  <tbody>\n",
       "    <tr>\n",
       "      <th>0</th>\n",
       "      <td>3/10/2004</td>\n",
       "      <td>18:00:00</td>\n",
       "      <td>2.6</td>\n",
       "      <td>1360</td>\n",
       "      <td>150</td>\n",
       "      <td>11.9</td>\n",
       "      <td>1046</td>\n",
       "      <td>166</td>\n",
       "      <td>1056</td>\n",
       "      <td>113</td>\n",
       "      <td>1692</td>\n",
       "      <td>1268</td>\n",
       "      <td>13.6</td>\n",
       "      <td>48.9</td>\n",
       "      <td>0.7578</td>\n",
       "    </tr>\n",
       "    <tr>\n",
       "      <th>1</th>\n",
       "      <td>3/10/2004</td>\n",
       "      <td>19:00:00</td>\n",
       "      <td>2.0</td>\n",
       "      <td>1292</td>\n",
       "      <td>112</td>\n",
       "      <td>9.4</td>\n",
       "      <td>955</td>\n",
       "      <td>103</td>\n",
       "      <td>1174</td>\n",
       "      <td>92</td>\n",
       "      <td>1559</td>\n",
       "      <td>972</td>\n",
       "      <td>13.3</td>\n",
       "      <td>47.7</td>\n",
       "      <td>0.7255</td>\n",
       "    </tr>\n",
       "    <tr>\n",
       "      <th>2</th>\n",
       "      <td>3/10/2004</td>\n",
       "      <td>20:00:00</td>\n",
       "      <td>2.2</td>\n",
       "      <td>1402</td>\n",
       "      <td>88</td>\n",
       "      <td>9.0</td>\n",
       "      <td>939</td>\n",
       "      <td>131</td>\n",
       "      <td>1140</td>\n",
       "      <td>114</td>\n",
       "      <td>1555</td>\n",
       "      <td>1074</td>\n",
       "      <td>11.9</td>\n",
       "      <td>54.0</td>\n",
       "      <td>0.7502</td>\n",
       "    </tr>\n",
       "    <tr>\n",
       "      <th>3</th>\n",
       "      <td>3/10/2004</td>\n",
       "      <td>21:00:00</td>\n",
       "      <td>2.2</td>\n",
       "      <td>1376</td>\n",
       "      <td>80</td>\n",
       "      <td>9.2</td>\n",
       "      <td>948</td>\n",
       "      <td>172</td>\n",
       "      <td>1092</td>\n",
       "      <td>122</td>\n",
       "      <td>1584</td>\n",
       "      <td>1203</td>\n",
       "      <td>11.0</td>\n",
       "      <td>60.0</td>\n",
       "      <td>0.7867</td>\n",
       "    </tr>\n",
       "    <tr>\n",
       "      <th>4</th>\n",
       "      <td>3/10/2004</td>\n",
       "      <td>22:00:00</td>\n",
       "      <td>1.6</td>\n",
       "      <td>1272</td>\n",
       "      <td>51</td>\n",
       "      <td>6.5</td>\n",
       "      <td>836</td>\n",
       "      <td>131</td>\n",
       "      <td>1205</td>\n",
       "      <td>116</td>\n",
       "      <td>1490</td>\n",
       "      <td>1110</td>\n",
       "      <td>11.2</td>\n",
       "      <td>59.6</td>\n",
       "      <td>0.7888</td>\n",
       "    </tr>\n",
       "    <tr>\n",
       "      <th>...</th>\n",
       "      <td>...</td>\n",
       "      <td>...</td>\n",
       "      <td>...</td>\n",
       "      <td>...</td>\n",
       "      <td>...</td>\n",
       "      <td>...</td>\n",
       "      <td>...</td>\n",
       "      <td>...</td>\n",
       "      <td>...</td>\n",
       "      <td>...</td>\n",
       "      <td>...</td>\n",
       "      <td>...</td>\n",
       "      <td>...</td>\n",
       "      <td>...</td>\n",
       "      <td>...</td>\n",
       "    </tr>\n",
       "    <tr>\n",
       "      <th>9352</th>\n",
       "      <td>4/4/2005</td>\n",
       "      <td>10:00:00</td>\n",
       "      <td>3.1</td>\n",
       "      <td>1314</td>\n",
       "      <td>-200</td>\n",
       "      <td>13.5</td>\n",
       "      <td>1101</td>\n",
       "      <td>472</td>\n",
       "      <td>539</td>\n",
       "      <td>190</td>\n",
       "      <td>1374</td>\n",
       "      <td>1729</td>\n",
       "      <td>21.9</td>\n",
       "      <td>29.3</td>\n",
       "      <td>0.7568</td>\n",
       "    </tr>\n",
       "    <tr>\n",
       "      <th>9353</th>\n",
       "      <td>4/4/2005</td>\n",
       "      <td>11:00:00</td>\n",
       "      <td>2.4</td>\n",
       "      <td>1163</td>\n",
       "      <td>-200</td>\n",
       "      <td>11.4</td>\n",
       "      <td>1027</td>\n",
       "      <td>353</td>\n",
       "      <td>604</td>\n",
       "      <td>179</td>\n",
       "      <td>1264</td>\n",
       "      <td>1269</td>\n",
       "      <td>24.3</td>\n",
       "      <td>23.7</td>\n",
       "      <td>0.7119</td>\n",
       "    </tr>\n",
       "    <tr>\n",
       "      <th>9354</th>\n",
       "      <td>4/4/2005</td>\n",
       "      <td>12:00:00</td>\n",
       "      <td>2.4</td>\n",
       "      <td>1142</td>\n",
       "      <td>-200</td>\n",
       "      <td>12.4</td>\n",
       "      <td>1063</td>\n",
       "      <td>293</td>\n",
       "      <td>603</td>\n",
       "      <td>175</td>\n",
       "      <td>1241</td>\n",
       "      <td>1092</td>\n",
       "      <td>26.9</td>\n",
       "      <td>18.3</td>\n",
       "      <td>0.6406</td>\n",
       "    </tr>\n",
       "    <tr>\n",
       "      <th>9355</th>\n",
       "      <td>4/4/2005</td>\n",
       "      <td>13:00:00</td>\n",
       "      <td>2.1</td>\n",
       "      <td>1003</td>\n",
       "      <td>-200</td>\n",
       "      <td>9.5</td>\n",
       "      <td>961</td>\n",
       "      <td>235</td>\n",
       "      <td>702</td>\n",
       "      <td>156</td>\n",
       "      <td>1041</td>\n",
       "      <td>770</td>\n",
       "      <td>28.3</td>\n",
       "      <td>13.5</td>\n",
       "      <td>0.5139</td>\n",
       "    </tr>\n",
       "    <tr>\n",
       "      <th>9356</th>\n",
       "      <td>4/4/2005</td>\n",
       "      <td>14:00:00</td>\n",
       "      <td>2.2</td>\n",
       "      <td>1071</td>\n",
       "      <td>-200</td>\n",
       "      <td>11.9</td>\n",
       "      <td>1047</td>\n",
       "      <td>265</td>\n",
       "      <td>654</td>\n",
       "      <td>168</td>\n",
       "      <td>1129</td>\n",
       "      <td>816</td>\n",
       "      <td>28.5</td>\n",
       "      <td>13.1</td>\n",
       "      <td>0.5028</td>\n",
       "    </tr>\n",
       "  </tbody>\n",
       "</table>\n",
       "<p>9357 rows × 15 columns</p>\n",
       "</div>"
      ],
      "text/plain": [
       "           Date      Time  CO(GT)  PT08.S1(CO)  NMHC(GT)  C6H6(GT)  \\\n",
       "0     3/10/2004  18:00:00     2.6         1360       150      11.9   \n",
       "1     3/10/2004  19:00:00     2.0         1292       112       9.4   \n",
       "2     3/10/2004  20:00:00     2.2         1402        88       9.0   \n",
       "3     3/10/2004  21:00:00     2.2         1376        80       9.2   \n",
       "4     3/10/2004  22:00:00     1.6         1272        51       6.5   \n",
       "...         ...       ...     ...          ...       ...       ...   \n",
       "9352   4/4/2005  10:00:00     3.1         1314      -200      13.5   \n",
       "9353   4/4/2005  11:00:00     2.4         1163      -200      11.4   \n",
       "9354   4/4/2005  12:00:00     2.4         1142      -200      12.4   \n",
       "9355   4/4/2005  13:00:00     2.1         1003      -200       9.5   \n",
       "9356   4/4/2005  14:00:00     2.2         1071      -200      11.9   \n",
       "\n",
       "      PT08.S2(NMHC)  NOx(GT)  PT08.S3(NOx)  NO2(GT)  PT08.S4(NO2)  \\\n",
       "0              1046      166          1056      113          1692   \n",
       "1               955      103          1174       92          1559   \n",
       "2               939      131          1140      114          1555   \n",
       "3               948      172          1092      122          1584   \n",
       "4               836      131          1205      116          1490   \n",
       "...             ...      ...           ...      ...           ...   \n",
       "9352           1101      472           539      190          1374   \n",
       "9353           1027      353           604      179          1264   \n",
       "9354           1063      293           603      175          1241   \n",
       "9355            961      235           702      156          1041   \n",
       "9356           1047      265           654      168          1129   \n",
       "\n",
       "      PT08.S5(O3)     T    RH      AH  \n",
       "0            1268  13.6  48.9  0.7578  \n",
       "1             972  13.3  47.7  0.7255  \n",
       "2            1074  11.9  54.0  0.7502  \n",
       "3            1203  11.0  60.0  0.7867  \n",
       "4            1110  11.2  59.6  0.7888  \n",
       "...           ...   ...   ...     ...  \n",
       "9352         1729  21.9  29.3  0.7568  \n",
       "9353         1269  24.3  23.7  0.7119  \n",
       "9354         1092  26.9  18.3  0.6406  \n",
       "9355          770  28.3  13.5  0.5139  \n",
       "9356          816  28.5  13.1  0.5028  \n",
       "\n",
       "[9357 rows x 15 columns]"
      ]
     },
     "execution_count": 88,
     "metadata": {},
     "output_type": "execute_result"
    }
   ],
   "source": [
    "X"
   ]
  },
  {
   "cell_type": "code",
   "execution_count": 89,
   "metadata": {
    "colab": {
     "base_uri": "https://localhost:8080/",
     "height": 436
    },
    "executionInfo": {
     "elapsed": 866,
     "status": "ok",
     "timestamp": 1737469044138,
     "user": {
      "displayName": "Jones Granatyr",
      "userId": "10042675233362078631"
     },
     "user_tz": 180
    },
    "id": "72taqeKUOKB_",
    "outputId": "064c20fc-a96e-4a29-f487-f615abd97cd7"
   },
   "outputs": [
    {
     "data": {
      "text/html": [
       "<div>\n",
       "<style scoped>\n",
       "    .dataframe tbody tr th:only-of-type {\n",
       "        vertical-align: middle;\n",
       "    }\n",
       "\n",
       "    .dataframe tbody tr th {\n",
       "        vertical-align: top;\n",
       "    }\n",
       "\n",
       "    .dataframe thead th {\n",
       "        text-align: right;\n",
       "    }\n",
       "</style>\n",
       "<table border=\"1\" class=\"dataframe\">\n",
       "  <thead>\n",
       "    <tr style=\"text-align: right;\">\n",
       "      <th></th>\n",
       "      <th>CO(GT)</th>\n",
       "      <th>PT08.S1(CO)</th>\n",
       "      <th>NMHC(GT)</th>\n",
       "      <th>C6H6(GT)</th>\n",
       "      <th>PT08.S2(NMHC)</th>\n",
       "      <th>NOx(GT)</th>\n",
       "      <th>PT08.S3(NOx)</th>\n",
       "      <th>NO2(GT)</th>\n",
       "      <th>PT08.S4(NO2)</th>\n",
       "      <th>PT08.S5(O3)</th>\n",
       "      <th>T</th>\n",
       "      <th>RH</th>\n",
       "      <th>AH</th>\n",
       "    </tr>\n",
       "  </thead>\n",
       "  <tbody>\n",
       "    <tr>\n",
       "      <th>0</th>\n",
       "      <td>2.6</td>\n",
       "      <td>1360</td>\n",
       "      <td>150</td>\n",
       "      <td>11.9</td>\n",
       "      <td>1046</td>\n",
       "      <td>166</td>\n",
       "      <td>1056</td>\n",
       "      <td>113</td>\n",
       "      <td>1692</td>\n",
       "      <td>1268</td>\n",
       "      <td>13.6</td>\n",
       "      <td>48.9</td>\n",
       "      <td>0.7578</td>\n",
       "    </tr>\n",
       "    <tr>\n",
       "      <th>1</th>\n",
       "      <td>2.0</td>\n",
       "      <td>1292</td>\n",
       "      <td>112</td>\n",
       "      <td>9.4</td>\n",
       "      <td>955</td>\n",
       "      <td>103</td>\n",
       "      <td>1174</td>\n",
       "      <td>92</td>\n",
       "      <td>1559</td>\n",
       "      <td>972</td>\n",
       "      <td>13.3</td>\n",
       "      <td>47.7</td>\n",
       "      <td>0.7255</td>\n",
       "    </tr>\n",
       "    <tr>\n",
       "      <th>2</th>\n",
       "      <td>2.2</td>\n",
       "      <td>1402</td>\n",
       "      <td>88</td>\n",
       "      <td>9.0</td>\n",
       "      <td>939</td>\n",
       "      <td>131</td>\n",
       "      <td>1140</td>\n",
       "      <td>114</td>\n",
       "      <td>1555</td>\n",
       "      <td>1074</td>\n",
       "      <td>11.9</td>\n",
       "      <td>54.0</td>\n",
       "      <td>0.7502</td>\n",
       "    </tr>\n",
       "    <tr>\n",
       "      <th>3</th>\n",
       "      <td>2.2</td>\n",
       "      <td>1376</td>\n",
       "      <td>80</td>\n",
       "      <td>9.2</td>\n",
       "      <td>948</td>\n",
       "      <td>172</td>\n",
       "      <td>1092</td>\n",
       "      <td>122</td>\n",
       "      <td>1584</td>\n",
       "      <td>1203</td>\n",
       "      <td>11.0</td>\n",
       "      <td>60.0</td>\n",
       "      <td>0.7867</td>\n",
       "    </tr>\n",
       "    <tr>\n",
       "      <th>4</th>\n",
       "      <td>1.6</td>\n",
       "      <td>1272</td>\n",
       "      <td>51</td>\n",
       "      <td>6.5</td>\n",
       "      <td>836</td>\n",
       "      <td>131</td>\n",
       "      <td>1205</td>\n",
       "      <td>116</td>\n",
       "      <td>1490</td>\n",
       "      <td>1110</td>\n",
       "      <td>11.2</td>\n",
       "      <td>59.6</td>\n",
       "      <td>0.7888</td>\n",
       "    </tr>\n",
       "    <tr>\n",
       "      <th>...</th>\n",
       "      <td>...</td>\n",
       "      <td>...</td>\n",
       "      <td>...</td>\n",
       "      <td>...</td>\n",
       "      <td>...</td>\n",
       "      <td>...</td>\n",
       "      <td>...</td>\n",
       "      <td>...</td>\n",
       "      <td>...</td>\n",
       "      <td>...</td>\n",
       "      <td>...</td>\n",
       "      <td>...</td>\n",
       "      <td>...</td>\n",
       "    </tr>\n",
       "    <tr>\n",
       "      <th>9352</th>\n",
       "      <td>3.1</td>\n",
       "      <td>1314</td>\n",
       "      <td>-200</td>\n",
       "      <td>13.5</td>\n",
       "      <td>1101</td>\n",
       "      <td>472</td>\n",
       "      <td>539</td>\n",
       "      <td>190</td>\n",
       "      <td>1374</td>\n",
       "      <td>1729</td>\n",
       "      <td>21.9</td>\n",
       "      <td>29.3</td>\n",
       "      <td>0.7568</td>\n",
       "    </tr>\n",
       "    <tr>\n",
       "      <th>9353</th>\n",
       "      <td>2.4</td>\n",
       "      <td>1163</td>\n",
       "      <td>-200</td>\n",
       "      <td>11.4</td>\n",
       "      <td>1027</td>\n",
       "      <td>353</td>\n",
       "      <td>604</td>\n",
       "      <td>179</td>\n",
       "      <td>1264</td>\n",
       "      <td>1269</td>\n",
       "      <td>24.3</td>\n",
       "      <td>23.7</td>\n",
       "      <td>0.7119</td>\n",
       "    </tr>\n",
       "    <tr>\n",
       "      <th>9354</th>\n",
       "      <td>2.4</td>\n",
       "      <td>1142</td>\n",
       "      <td>-200</td>\n",
       "      <td>12.4</td>\n",
       "      <td>1063</td>\n",
       "      <td>293</td>\n",
       "      <td>603</td>\n",
       "      <td>175</td>\n",
       "      <td>1241</td>\n",
       "      <td>1092</td>\n",
       "      <td>26.9</td>\n",
       "      <td>18.3</td>\n",
       "      <td>0.6406</td>\n",
       "    </tr>\n",
       "    <tr>\n",
       "      <th>9355</th>\n",
       "      <td>2.1</td>\n",
       "      <td>1003</td>\n",
       "      <td>-200</td>\n",
       "      <td>9.5</td>\n",
       "      <td>961</td>\n",
       "      <td>235</td>\n",
       "      <td>702</td>\n",
       "      <td>156</td>\n",
       "      <td>1041</td>\n",
       "      <td>770</td>\n",
       "      <td>28.3</td>\n",
       "      <td>13.5</td>\n",
       "      <td>0.5139</td>\n",
       "    </tr>\n",
       "    <tr>\n",
       "      <th>9356</th>\n",
       "      <td>2.2</td>\n",
       "      <td>1071</td>\n",
       "      <td>-200</td>\n",
       "      <td>11.9</td>\n",
       "      <td>1047</td>\n",
       "      <td>265</td>\n",
       "      <td>654</td>\n",
       "      <td>168</td>\n",
       "      <td>1129</td>\n",
       "      <td>816</td>\n",
       "      <td>28.5</td>\n",
       "      <td>13.1</td>\n",
       "      <td>0.5028</td>\n",
       "    </tr>\n",
       "  </tbody>\n",
       "</table>\n",
       "<p>9357 rows × 13 columns</p>\n",
       "</div>"
      ],
      "text/plain": [
       "      CO(GT)  PT08.S1(CO)  NMHC(GT)  C6H6(GT)  PT08.S2(NMHC)  NOx(GT)  \\\n",
       "0        2.6         1360       150      11.9           1046      166   \n",
       "1        2.0         1292       112       9.4            955      103   \n",
       "2        2.2         1402        88       9.0            939      131   \n",
       "3        2.2         1376        80       9.2            948      172   \n",
       "4        1.6         1272        51       6.5            836      131   \n",
       "...      ...          ...       ...       ...            ...      ...   \n",
       "9352     3.1         1314      -200      13.5           1101      472   \n",
       "9353     2.4         1163      -200      11.4           1027      353   \n",
       "9354     2.4         1142      -200      12.4           1063      293   \n",
       "9355     2.1         1003      -200       9.5            961      235   \n",
       "9356     2.2         1071      -200      11.9           1047      265   \n",
       "\n",
       "      PT08.S3(NOx)  NO2(GT)  PT08.S4(NO2)  PT08.S5(O3)     T    RH      AH  \n",
       "0             1056      113          1692         1268  13.6  48.9  0.7578  \n",
       "1             1174       92          1559          972  13.3  47.7  0.7255  \n",
       "2             1140      114          1555         1074  11.9  54.0  0.7502  \n",
       "3             1092      122          1584         1203  11.0  60.0  0.7867  \n",
       "4             1205      116          1490         1110  11.2  59.6  0.7888  \n",
       "...            ...      ...           ...          ...   ...   ...     ...  \n",
       "9352           539      190          1374         1729  21.9  29.3  0.7568  \n",
       "9353           604      179          1264         1269  24.3  23.7  0.7119  \n",
       "9354           603      175          1241         1092  26.9  18.3  0.6406  \n",
       "9355           702      156          1041          770  28.3  13.5  0.5139  \n",
       "9356           654      168          1129          816  28.5  13.1  0.5028  \n",
       "\n",
       "[9357 rows x 13 columns]"
      ]
     },
     "execution_count": 89,
     "metadata": {},
     "output_type": "execute_result"
    }
   ],
   "source": [
    "measurements = X.loc[:, 'CO(GT)':'AH']\n",
    "measurements"
   ]
  },
  {
   "cell_type": "code",
   "execution_count": 90,
   "metadata": {
    "colab": {
     "base_uri": "https://localhost:8080/"
    },
    "executionInfo": {
     "elapsed": 518,
     "status": "ok",
     "timestamp": 1737469101901,
     "user": {
      "displayName": "Jones Granatyr",
      "userId": "10042675233362078631"
     },
     "user_tz": 180
    },
    "id": "iQ33efOVOib8",
    "outputId": "f79ed0e6-c057-463b-dc1b-c5078b7935da"
   },
   "outputs": [
    {
     "data": {
      "text/plain": [
       "array([[ 2.600e+00,  1.360e+03,  1.500e+02, ...,  1.360e+01,  4.890e+01,\n",
       "         7.578e-01],\n",
       "       [ 2.000e+00,  1.292e+03,  1.120e+02, ...,  1.330e+01,  4.770e+01,\n",
       "         7.255e-01],\n",
       "       [ 2.200e+00,  1.402e+03,  8.800e+01, ...,  1.190e+01,  5.400e+01,\n",
       "         7.502e-01],\n",
       "       ...,\n",
       "       [ 2.400e+00,  1.142e+03, -2.000e+02, ...,  2.690e+01,  1.830e+01,\n",
       "         6.406e-01],\n",
       "       [ 2.100e+00,  1.003e+03, -2.000e+02, ...,  2.830e+01,  1.350e+01,\n",
       "         5.139e-01],\n",
       "       [ 2.200e+00,  1.071e+03, -2.000e+02, ...,  2.850e+01,  1.310e+01,\n",
       "         5.028e-01]])"
      ]
     },
     "execution_count": 90,
     "metadata": {},
     "output_type": "execute_result"
    }
   ],
   "source": [
    "measurements_array = measurements.values\n",
    "measurements_array"
   ]
  },
  {
   "cell_type": "code",
   "execution_count": 91,
   "metadata": {
    "colab": {
     "base_uri": "https://localhost:8080/"
    },
    "executionInfo": {
     "elapsed": 493,
     "status": "ok",
     "timestamp": 1737469122176,
     "user": {
      "displayName": "Jones Granatyr",
      "userId": "10042675233362078631"
     },
     "user_tz": 180
    },
    "id": "BAXOA7g7OrBX",
    "outputId": "ac1ef137-1583-46ac-b023-948b6ae3688d"
   },
   "outputs": [
    {
     "data": {
      "text/plain": [
       "(9357, 13)"
      ]
     },
     "execution_count": 91,
     "metadata": {},
     "output_type": "execute_result"
    }
   ],
   "source": [
    "measurements_array.shape"
   ]
  },
  {
   "cell_type": "code",
   "execution_count": 92,
   "metadata": {
    "colab": {
     "base_uri": "https://localhost:8080/"
    },
    "executionInfo": {
     "elapsed": 424,
     "status": "ok",
     "timestamp": 1737469303231,
     "user": {
      "displayName": "Jones Granatyr",
      "userId": "10042675233362078631"
     },
     "user_tz": 180
    },
    "id": "DbTcnBA6PR_m",
    "outputId": "e40c38ab-bd26-480c-b0f0-98e7243c5329"
   },
   "outputs": [
    {
     "data": {
      "text/plain": [
       "array([[[ 2.600e+00,  1.360e+03,  1.500e+02, ...,  1.360e+01,\n",
       "          4.890e+01,  7.578e-01]],\n",
       "\n",
       "       [[ 2.000e+00,  1.292e+03,  1.120e+02, ...,  1.330e+01,\n",
       "          4.770e+01,  7.255e-01]],\n",
       "\n",
       "       [[ 2.200e+00,  1.402e+03,  8.800e+01, ...,  1.190e+01,\n",
       "          5.400e+01,  7.502e-01]],\n",
       "\n",
       "       ...,\n",
       "\n",
       "       [[ 2.400e+00,  1.142e+03, -2.000e+02, ...,  2.690e+01,\n",
       "          1.830e+01,  6.406e-01]],\n",
       "\n",
       "       [[ 2.100e+00,  1.003e+03, -2.000e+02, ...,  2.830e+01,\n",
       "          1.350e+01,  5.139e-01]],\n",
       "\n",
       "       [[ 2.200e+00,  1.071e+03, -2.000e+02, ...,  2.850e+01,\n",
       "          1.310e+01,  5.028e-01]]])"
      ]
     },
     "execution_count": 92,
     "metadata": {},
     "output_type": "execute_result"
    }
   ],
   "source": [
    "measurements_array_corrected = np.expand_dims(measurements_array, axis = 1)\n",
    "measurements_array_corrected"
   ]
  },
  {
   "cell_type": "code",
   "execution_count": 94,
   "metadata": {
    "colab": {
     "base_uri": "https://localhost:8080/"
    },
    "executionInfo": {
     "elapsed": 2,
     "status": "ok",
     "timestamp": 1737469318507,
     "user": {
      "displayName": "Jones Granatyr",
      "userId": "10042675233362078631"
     },
     "user_tz": 180
    },
    "id": "f6R6qNTsPa1i",
    "outputId": "55070f34-f20a-43b2-b693-c6006a7e8ec6"
   },
   "outputs": [
    {
     "data": {
      "text/plain": [
       "(9357, 1, 13)"
      ]
     },
     "execution_count": 94,
     "metadata": {},
     "output_type": "execute_result"
    }
   ],
   "source": [
    "measurements_array_corrected.shape"
   ]
  },
  {
   "cell_type": "markdown",
   "metadata": {
    "id": "L1t9mkkhWP66"
   },
   "source": [
    "## Imagens"
   ]
  },
  {
   "cell_type": "markdown",
   "metadata": {
    "id": "jdg6661Md2va"
   },
   "source": [
    "Vamos baixar uma imagem da Wikipedia ([créditos](https://en.wikipedia.org/wiki/File:Beach_at_Fort_Lauderdale.jpg)) e carregar no ambiente Python."
   ]
  },
  {
   "cell_type": "code",
   "execution_count": 95,
   "metadata": {
    "colab": {
     "base_uri": "https://localhost:8080/"
    },
    "executionInfo": {
     "elapsed": 1240,
     "status": "ok",
     "timestamp": 1737473422236,
     "user": {
      "displayName": "Jones Granatyr",
      "userId": "10042675233362078631"
     },
     "user_tz": 180
    },
    "id": "Fw5cjKeWd-oB",
    "outputId": "50128d15-e410-4a99-e0df-45f0c270a0b7"
   },
   "outputs": [],
   "source": [
    "import requests\n",
    "url = \"https://upload.wikimedia.org/wikipedia/commons/thumb/7/73/Beach_at_Fort_Lauderdale.jpg/330px-Beach_at_Fort_Lauderdale.jpg\"\n",
    "response = requests.get(url)\n",
    "\n",
    "with open(\"praia.jpg\", \"wb\") as f:\n",
    "    f.write(response.content)"
   ]
  },
  {
   "cell_type": "code",
   "execution_count": 97,
   "metadata": {
    "id": "aXQ6MJodfIJY"
   },
   "outputs": [],
   "source": [
    "image = mpimg.imread(\"praia.jpg\")"
   ]
  },
  {
   "cell_type": "code",
   "execution_count": 98,
   "metadata": {
    "colab": {
     "base_uri": "https://localhost:8080/",
     "height": 433
    },
    "executionInfo": {
     "elapsed": 1546,
     "status": "ok",
     "timestamp": 1737473480003,
     "user": {
      "displayName": "Jones Granatyr",
      "userId": "10042675233362078631"
     },
     "user_tz": 180
    },
    "id": "DbeEMLyxfSZ5",
    "outputId": "ef59a222-7015-48f0-a66a-a488bbd1784d"
   },
   "outputs": [
    {
     "data": {
      "text/plain": [
       "<matplotlib.image.AxesImage at 0x208bbc41950>"
      ]
     },
     "execution_count": 98,
     "metadata": {},
     "output_type": "execute_result"
    },
    {
     "data": {
      "image/png": "[encoded data removed]",
      "text/plain": [
       "<Figure size 640x480 with 1 Axes>"
      ]
     },
     "metadata": {},
     "output_type": "display_data"
    }
   ],
   "source": [
    "plt.imshow(image)"
   ]
  },
  {
   "cell_type": "code",
   "execution_count": 99,
   "metadata": {
    "colab": {
     "base_uri": "https://localhost:8080/"
    },
    "executionInfo": {
     "elapsed": 527,
     "status": "ok",
     "timestamp": 1737473494950,
     "user": {
      "displayName": "Jones Granatyr",
      "userId": "10042675233362078631"
     },
     "user_tz": 180
    },
    "id": "nFTy6MYCfXhi",
    "outputId": "238e6c5f-f017-4b66-81fc-34451712db48"
   },
   "outputs": [
    {
     "name": "stdout",
     "output_type": "stream",
     "text": [
      "[[[137 187 250]\n",
      "  [138 188 251]\n",
      "  [138 188 251]\n",
      "  ...\n",
      "  [134 182 255]\n",
      "  [132 180 254]\n",
      "  [132 180 254]]\n",
      "\n",
      " [[138 188 251]\n",
      "  [138 188 251]\n",
      "  [138 188 251]\n",
      "  ...\n",
      "  [134 182 255]\n",
      "  [133 181 255]\n",
      "  [133 181 255]]\n",
      "\n",
      " [[139 187 251]\n",
      "  [139 187 251]\n",
      "  [139 187 251]\n",
      "  ...\n",
      "  [135 183 255]\n",
      "  [134 182 255]\n",
      "  [134 182 255]]\n",
      "\n",
      " ...\n",
      "\n",
      " [[205 170 142]\n",
      "  [206 171 143]\n",
      "  [200 166 138]\n",
      "  ...\n",
      "  [187 165 152]\n",
      "  [190 168 155]\n",
      "  [189 167 154]]\n",
      "\n",
      " [[204 170 143]\n",
      "  [205 171 144]\n",
      "  [201 167 140]\n",
      "  ...\n",
      "  [204 182 169]\n",
      "  [199 177 164]\n",
      "  [200 178 165]]\n",
      "\n",
      " [[210 176 149]\n",
      "  [210 176 149]\n",
      "  [205 171 144]\n",
      "  ...\n",
      "  [208 186 173]\n",
      "  [200 178 165]\n",
      "  [202 180 167]]]\n"
     ]
    }
   ],
   "source": [
    "print(image)"
   ]
  },
  {
   "cell_type": "code",
   "execution_count": 101,
   "metadata": {
    "colab": {
     "base_uri": "https://localhost:8080/"
    },
    "executionInfo": {
     "elapsed": 583,
     "status": "ok",
     "timestamp": 1737473531872,
     "user": {
      "displayName": "Jones Granatyr",
      "userId": "10042675233362078631"
     },
     "user_tz": 180
    },
    "id": "JHmmqZW-fgNh",
    "outputId": "e662d230-e7ff-402d-d2db-077dbff1fe9d"
   },
   "outputs": [
    {
     "data": {
      "text/plain": [
       "(220, 330, 3)"
      ]
     },
     "execution_count": 101,
     "metadata": {},
     "output_type": "execute_result"
    }
   ],
   "source": [
    "image.shape #largura X altura x canais"
   ]
  },
  {
   "cell_type": "markdown",
   "metadata": {
    "id": "mZ9f2lx3X3fH"
   },
   "source": [
    "## Embeddings"
   ]
  },
  {
   "cell_type": "code",
   "execution_count": 102,
   "metadata": {
    "id": "ICNC6jgEfxzF"
   },
   "outputs": [
    {
     "data": {
      "application/vnd.jupyter.widget-view+json": {
       "model_id": "252134f45cc44c09ae916abda0931ce4",
       "version_major": 2,
       "version_minor": 0
      },
      "text/plain": [
       "modules.json:   0%|          | 0.00/349 [00:00<?, ?B/s]"
      ]
     },
     "metadata": {},
     "output_type": "display_data"
    },
    {
     "name": "stderr",
     "output_type": "stream",
     "text": [
      "c:\\Users\\lucas.souza\\AppData\\Local\\anaconda3\\Lib\\site-packages\\huggingface_hub\\file_download.py:143: UserWarning: `huggingface_hub` cache-system uses symlinks by default to efficiently store duplicated files but your machine does not support them in C:\\Users\\lucas.souza\\.cache\\huggingface\\hub\\models--sentence-transformers--all-MiniLM-L6-v2. Caching files will still work but in a degraded version that might require more space on your disk. This warning can be disabled by setting the `HF_HUB_DISABLE_SYMLINKS_WARNING` environment variable. For more details, see https://huggingface.co/docs/huggingface_hub/how-to-cache#limitations.\n",
      "To support symlinks on Windows, you either need to activate Developer Mode or to run Python as an administrator. In order to activate developer mode, see this article: https://docs.microsoft.com/en-us/windows/apps/get-started/enable-your-device-for-development\n",
      "  warnings.warn(message)\n"
     ]
    },
    {
     "data": {
      "application/vnd.jupyter.widget-view+json": {
       "model_id": "aafc227ff9ac496893eaeea041234002",
       "version_major": 2,
       "version_minor": 0
      },
      "text/plain": [
       "config_sentence_transformers.json:   0%|          | 0.00/116 [00:00<?, ?B/s]"
      ]
     },
     "metadata": {},
     "output_type": "display_data"
    },
    {
     "data": {
      "application/vnd.jupyter.widget-view+json": {
       "model_id": "fe0a60aebd1845c8893da09a516c3b22",
       "version_major": 2,
       "version_minor": 0
      },
      "text/plain": [
       "README.md:   0%|          | 0.00/10.5k [00:00<?, ?B/s]"
      ]
     },
     "metadata": {},
     "output_type": "display_data"
    },
    {
     "data": {
      "application/vnd.jupyter.widget-view+json": {
       "model_id": "5a1a5ebbd70d4d409c635f3d85326ce7",
       "version_major": 2,
       "version_minor": 0
      },
      "text/plain": [
       "sentence_bert_config.json:   0%|          | 0.00/53.0 [00:00<?, ?B/s]"
      ]
     },
     "metadata": {},
     "output_type": "display_data"
    },
    {
     "data": {
      "application/vnd.jupyter.widget-view+json": {
       "model_id": "faf40c294b114d0e950175fe5d7ce457",
       "version_major": 2,
       "version_minor": 0
      },
      "text/plain": [
       "config.json:   0%|          | 0.00/612 [00:00<?, ?B/s]"
      ]
     },
     "metadata": {},
     "output_type": "display_data"
    },
    {
     "name": "stderr",
     "output_type": "stream",
     "text": [
      "Xet Storage is enabled for this repo, but the 'hf_xet' package is not installed. Falling back to regular HTTP download. For better performance, install the package with: `pip install huggingface_hub[hf_xet]` or `pip install hf_xet`\n"
     ]
    },
    {
     "data": {
      "application/vnd.jupyter.widget-view+json": {
       "model_id": "cbaf4457bd3d48f995a25742b39141c9",
       "version_major": 2,
       "version_minor": 0
      },
      "text/plain": [
       "model.safetensors:   0%|          | 0.00/90.9M [00:00<?, ?B/s]"
      ]
     },
     "metadata": {},
     "output_type": "display_data"
    },
    {
     "data": {
      "application/vnd.jupyter.widget-view+json": {
       "model_id": "0887d94f7ae64beda678203f983418ea",
       "version_major": 2,
       "version_minor": 0
      },
      "text/plain": [
       "tokenizer_config.json:   0%|          | 0.00/350 [00:00<?, ?B/s]"
      ]
     },
     "metadata": {},
     "output_type": "display_data"
    },
    {
     "data": {
      "application/vnd.jupyter.widget-view+json": {
       "model_id": "00d75ba4a52345bfa04315171113f019",
       "version_major": 2,
       "version_minor": 0
      },
      "text/plain": [
       "vocab.txt:   0%|          | 0.00/232k [00:00<?, ?B/s]"
      ]
     },
     "metadata": {},
     "output_type": "display_data"
    },
    {
     "data": {
      "application/vnd.jupyter.widget-view+json": {
       "model_id": "2db513826c7649118326bf1dd4f55865",
       "version_major": 2,
       "version_minor": 0
      },
      "text/plain": [
       "tokenizer.json:   0%|          | 0.00/466k [00:00<?, ?B/s]"
      ]
     },
     "metadata": {},
     "output_type": "display_data"
    },
    {
     "data": {
      "application/vnd.jupyter.widget-view+json": {
       "model_id": "ba79dbe42d1840e39c2cf895c9cfac8d",
       "version_major": 2,
       "version_minor": 0
      },
      "text/plain": [
       "special_tokens_map.json:   0%|          | 0.00/112 [00:00<?, ?B/s]"
      ]
     },
     "metadata": {},
     "output_type": "display_data"
    },
    {
     "data": {
      "application/vnd.jupyter.widget-view+json": {
       "model_id": "f7ce5e6ad82c45679f5354aa2cc25e8c",
       "version_major": 2,
       "version_minor": 0
      },
      "text/plain": [
       "config.json:   0%|          | 0.00/190 [00:00<?, ?B/s]"
      ]
     },
     "metadata": {},
     "output_type": "display_data"
    }
   ],
   "source": [
    "model = SentenceTransformer('sentence-transformers/all-MiniLM-L6-v2')"
   ]
  },
  {
   "cell_type": "code",
   "execution_count": 103,
   "metadata": {
    "id": "W5khk-QfgML9"
   },
   "outputs": [],
   "source": [
    "sentence = \"Let's learn about embeddings!\""
   ]
  },
  {
   "cell_type": "code",
   "execution_count": 104,
   "metadata": {
    "id": "9ZRN86xfgO9m"
   },
   "outputs": [],
   "source": [
    "embedding = model.encode(sentence)"
   ]
  },
  {
   "cell_type": "code",
   "execution_count": 106,
   "metadata": {
    "colab": {
     "base_uri": "https://localhost:8080/"
    },
    "executionInfo": {
     "elapsed": 493,
     "status": "ok",
     "timestamp": 1737473748996,
     "user": {
      "displayName": "Jones Granatyr",
      "userId": "10042675233362078631"
     },
     "user_tz": 180
    },
    "id": "5a1IqeL2gVTh",
    "outputId": "843dc512-f3c8-462b-9418-d7e34e859771"
   },
   "outputs": [
    {
     "data": {
      "text/plain": [
       "array([-1.05464542e-02, -9.20099616e-02,  3.69459987e-02, -1.68928467e-02,\n",
       "        2.44279690e-02,  6.76726028e-02, -2.79040541e-03, -2.61450652e-02,\n",
       "        2.21931133e-02, -1.63905304e-02,  1.11521091e-02,  6.13049455e-02,\n",
       "        5.32797910e-02,  3.90112251e-02, -6.12070560e-02,  2.04284191e-02,\n",
       "        4.84100506e-02,  7.08587393e-02, -5.64654060e-02,  4.32821661e-02,\n",
       "       -2.66907904e-02, -4.05354165e-02,  5.31500801e-02, -8.44882876e-02,\n",
       "        3.73470411e-02, -1.49060283e-02, -7.27091581e-02,  3.74734364e-02,\n",
       "        5.42388856e-02, -7.68458322e-02,  5.99049181e-02,  1.19145690e-02,\n",
       "       -4.49430384e-02,  7.84102604e-02, -2.05883905e-02,  5.97213432e-02,\n",
       "        4.82383780e-02, -4.88421181e-04, -3.79360951e-02, -1.57335605e-02,\n",
       "        4.09667939e-02,  4.04896624e-02, -5.48939817e-02,  8.13244283e-02,\n",
       "        3.61579433e-02, -2.70198509e-02, -5.22039719e-02, -5.71052730e-02,\n",
       "       -6.69854656e-02,  4.17419039e-02, -6.76433444e-02, -3.89055982e-02,\n",
       "       -4.48486060e-02, -1.40057775e-04, -4.65498567e-02, -2.96081509e-02,\n",
       "       -1.12294182e-02, -7.84006789e-02,  8.15723091e-03, -1.67770032e-02,\n",
       "        2.91444045e-02, -3.89175005e-02,  3.34062278e-02,  3.37223336e-02,\n",
       "        4.51402105e-02, -5.59799075e-02,  5.93123201e-04,  1.26767054e-01,\n",
       "       -3.85492630e-02,  3.88861001e-02, -4.38162647e-02,  5.59777208e-02,\n",
       "       -8.22395459e-02,  1.55089702e-02, -3.27035636e-02, -9.89748165e-04,\n",
       "       -1.56843178e-02, -8.36902931e-02,  7.84540251e-02, -7.89116323e-02,\n",
       "        3.66438478e-02, -3.02753132e-02, -1.06076598e-02, -8.84197280e-03,\n",
       "        5.91274835e-02,  2.25571934e-02,  2.73371935e-02, -6.09199367e-02,\n",
       "       -1.05008304e-01, -3.00743263e-02,  1.03103817e-02, -6.97179884e-02,\n",
       "        4.55030985e-02,  9.12944674e-02,  1.65271983e-02, -4.80537005e-02,\n",
       "        3.01323761e-03,  4.90789711e-02, -4.83698286e-02,  7.15174377e-02,\n",
       "       -6.04385547e-02,  2.33356915e-02,  7.76007473e-02,  1.37059549e-02,\n",
       "       -4.28721029e-03, -3.80876400e-02, -3.42936851e-02,  3.86454687e-02,\n",
       "       -2.99664102e-02, -1.02359444e-01, -2.89425366e-02, -3.37687060e-02,\n",
       "       -3.01318914e-02,  5.39306663e-02,  4.48225178e-02, -8.06363598e-02,\n",
       "        9.59117040e-02, -2.13300865e-02,  6.39117509e-02,  3.10646705e-02,\n",
       "        1.35846920e-02,  5.13738729e-02, -1.69924591e-02,  1.84450038e-02,\n",
       "        4.36815023e-02, -6.83572665e-02, -6.96354061e-02, -1.18980673e-33,\n",
       "        6.15487136e-02, -6.48086704e-03,  3.93793406e-03,  1.09536089e-01,\n",
       "        5.77716008e-02, -2.11129524e-03, -4.93158102e-02,  1.04400925e-01,\n",
       "       -3.38722803e-02,  1.85701419e-02, -1.57459807e-02,  4.51136157e-02,\n",
       "        1.77689213e-02,  1.35482579e-01,  3.13695781e-02,  1.24018984e-02,\n",
       "       -1.86386649e-02, -3.08049507e-02, -4.92173666e-03, -3.30522321e-02,\n",
       "       -5.14734089e-02,  6.35256805e-03, -2.81144790e-02, -5.02958074e-02,\n",
       "       -7.99799189e-02,  2.56565437e-02,  6.27940446e-02, -8.78114328e-02,\n",
       "       -7.94527028e-03,  2.10033450e-02, -1.19648241e-01, -7.26582333e-02,\n",
       "        2.22282447e-02,  3.44767384e-02,  1.32946484e-02,  3.79140079e-02,\n",
       "       -7.36597506e-03, -2.70669442e-02, -6.51232079e-02, -5.43486699e-02,\n",
       "        3.55239809e-02, -7.90981855e-03, -2.67908424e-02, -4.51573096e-02,\n",
       "       -1.22979628e-02,  2.10220329e-02,  6.58292770e-02,  9.49676614e-03,\n",
       "       -2.49947794e-02, -5.99773787e-02,  2.75146719e-02,  4.64079939e-02,\n",
       "       -7.63612054e-03, -7.17213675e-02,  6.94896281e-02, -3.40613513e-03,\n",
       "       -3.89917381e-02, -3.02417716e-03,  2.81691346e-02, -4.22518291e-02,\n",
       "       -6.68051615e-02,  6.54816022e-03,  6.55912310e-02, -7.09121898e-02,\n",
       "       -4.96604741e-02,  7.83610567e-02, -1.24892499e-02, -3.26020569e-02,\n",
       "        2.85290536e-02,  3.25473212e-02, -5.72033599e-02,  9.24983695e-02,\n",
       "       -7.01056346e-02, -4.20013033e-02, -5.58868311e-02, -7.04203406e-03,\n",
       "       -6.58327267e-02, -1.08739451e-01,  2.12669875e-02,  5.90397604e-02,\n",
       "       -6.65580272e-04, -9.59647000e-02, -4.12444398e-02, -4.02745940e-02,\n",
       "       -4.12782431e-02, -1.22968681e-01,  8.09579790e-02, -1.28228739e-01,\n",
       "        4.30175886e-02,  2.01323908e-02,  7.22664176e-03, -3.50575261e-02,\n",
       "       -7.52940541e-03, -2.48900130e-02,  3.44481431e-02, -4.86895867e-34,\n",
       "        3.05019994e-03,  2.68183816e-02, -5.48885353e-02,  4.69607525e-02,\n",
       "        2.19523013e-02,  2.28685196e-02,  4.62187491e-02,  1.04849458e-01,\n",
       "       -4.67719175e-02,  8.85354728e-03, -9.67927799e-02,  1.53634511e-02,\n",
       "       -8.99280794e-03, -7.07693249e-02, -1.79676227e-02, -2.10513435e-02,\n",
       "        2.89462088e-03, -1.38946846e-02,  2.98091248e-02,  1.05357012e-02,\n",
       "       -3.03465407e-02,  2.68234182e-02, -1.54365757e-02,  8.20613727e-02,\n",
       "        7.55298883e-02,  1.24917924e-01,  6.10762835e-03,  1.59478337e-02,\n",
       "       -3.53836231e-02, -2.14084480e-02, -2.13790126e-02, -7.00451061e-02,\n",
       "       -8.04338753e-02, -5.26736816e-03, -2.00387277e-02,  7.04450812e-03,\n",
       "        6.58682361e-02,  4.59987447e-02, -6.15635328e-02, -5.74662313e-02,\n",
       "        6.76563382e-02,  5.66672571e-02, -9.85162184e-02,  5.95398471e-02,\n",
       "       -1.11643597e-02, -6.03944808e-02, -4.23750933e-03,  1.57267712e-02,\n",
       "        6.69714808e-02, -4.27022502e-02, -4.29274589e-02, -5.11479191e-02,\n",
       "       -9.26629268e-03, -9.80623662e-02,  1.97964441e-02, -6.32595569e-02,\n",
       "        1.71610937e-02, -3.06641646e-02,  6.61777109e-02,  2.52051167e-02,\n",
       "       -9.61490721e-03, -4.44283448e-02, -1.61103774e-02,  7.43443053e-03,\n",
       "        3.29566449e-02, -9.57923904e-02, -3.54023874e-02,  6.04368113e-02,\n",
       "       -5.69145009e-02, -1.41474567e-02,  3.41672972e-02,  1.82339959e-02,\n",
       "       -5.93011640e-02, -5.98920183e-03,  6.71286806e-02,  1.59629844e-02,\n",
       "        1.11108132e-01,  3.38543840e-02,  2.02142261e-02, -2.84868889e-02,\n",
       "        1.02147860e-02, -6.16677441e-02,  5.03457561e-02,  4.85841557e-02,\n",
       "        1.06161892e-01,  1.16323702e-01,  7.50000626e-02,  1.29646529e-02,\n",
       "        2.67327414e-03, -4.17551212e-02,  6.37330406e-04,  3.78607176e-02,\n",
       "       -3.15623358e-02,  1.05545431e-01,  4.81863879e-02, -2.03116652e-08,\n",
       "       -7.76955783e-02,  4.93518673e-02,  7.36839995e-02, -6.08373573e-03,\n",
       "       -3.68337855e-02, -4.92627397e-02, -9.02824197e-03,  3.47174667e-02,\n",
       "       -7.69828558e-02, -3.43814399e-03,  5.07856049e-02,  2.89677978e-02,\n",
       "       -7.40342364e-02,  4.31834459e-02,  1.08692519e-01,  8.96824151e-02,\n",
       "        7.23726721e-03, -8.16086365e-04, -6.63072569e-03,  5.63741736e-02,\n",
       "       -4.41719107e-02,  6.45613968e-02,  4.54146117e-02, -1.53789541e-03,\n",
       "       -6.97718412e-02, -1.64283123e-02, -5.28581627e-02,  2.91227233e-02,\n",
       "        6.02060817e-02,  3.10837999e-02,  1.14744725e-02,  7.77057409e-02,\n",
       "       -1.27198379e-02, -1.53821870e-03, -5.20095788e-02,  6.48356974e-03,\n",
       "       -4.03575301e-02, -7.53256157e-02, -3.84412110e-02, -9.16098952e-02,\n",
       "       -1.43375807e-02, -5.34107536e-02,  7.02382391e-03, -4.64941189e-02,\n",
       "        1.08877778e-01,  2.60780286e-02,  6.90111369e-02,  2.53204983e-02,\n",
       "       -2.23367400e-02,  3.72746661e-02,  2.64076311e-02, -6.10265955e-02,\n",
       "        2.10579839e-02,  2.56520230e-02,  8.68188962e-02,  1.79729983e-02,\n",
       "        3.08412183e-02,  3.22887488e-02, -8.35191272e-03,  4.61929142e-02,\n",
       "       -4.49921824e-02,  4.57878551e-03,  6.31356239e-02,  3.02649681e-02],\n",
       "      dtype=float32)"
      ]
     },
     "execution_count": 106,
     "metadata": {},
     "output_type": "execute_result"
    }
   ],
   "source": [
    "embedding"
   ]
  },
  {
   "cell_type": "code",
   "execution_count": 107,
   "metadata": {
    "colab": {
     "base_uri": "https://localhost:8080/"
    },
    "executionInfo": {
     "elapsed": 489,
     "status": "ok",
     "timestamp": 1737473814836,
     "user": {
      "displayName": "Jones Granatyr",
      "userId": "10042675233362078631"
     },
     "user_tz": 180
    },
    "id": "mB8BF1Xzgk6G",
    "outputId": "41a68520-ad6d-4b92-fb57-e5fd876905c5"
   },
   "outputs": [
    {
     "data": {
      "text/plain": [
       "(384,)"
      ]
     },
     "execution_count": 107,
     "metadata": {},
     "output_type": "execute_result"
    }
   ],
   "source": [
    "embedding.shape"
   ]
  },
  {
   "cell_type": "markdown",
   "metadata": {
    "id": "f5p0lfUsZiHg"
   },
   "source": [
    "## Estrutura de redes neurais"
   ]
  },
  {
   "cell_type": "code",
   "execution_count": 108,
   "metadata": {
    "id": "-qyUni0_g4dI"
   },
   "outputs": [],
   "source": [
    "nn = tf.keras.models.Sequential(\n",
    "    [tf.keras.layers.Dense(3, input_shape = [1]),\n",
    "     tf.keras.layers.Dense(2)]\n",
    ")"
   ]
  },
  {
   "cell_type": "code",
   "execution_count": null,
   "metadata": {
    "colab": {
     "base_uri": "https://localhost:8080/"
    },
    "executionInfo": {
     "elapsed": 414,
     "status": "ok",
     "timestamp": 1737474012781,
     "user": {
      "displayName": "Jones Granatyr",
      "userId": "10042675233362078631"
     },
     "user_tz": 180
    },
    "id": "pOSGBlBwhKQ6",
    "outputId": "153f5c2c-97e3-4a98-b478-7fa64e25e5f9"
   },
   "outputs": [
    {
     "data": {
      "text/plain": [
       "[array([[ 0.01755273,  0.04346836],\n",
       "        [-0.39124274, -0.55739254],\n",
       "        [-0.74603444,  0.5776788 ]], dtype=float32),\n",
       " array([0., 0.], dtype=float32)]"
      ]
     },
     "execution_count": 109,
     "metadata": {},
     "output_type": "execute_result"
    }
   ],
   "source": [
    "nn.layers[1].get_weights() #pesos da segunda camada e um vetor que representa o bias"
   ]
  },
  {
   "cell_type": "code",
   "execution_count": null,
   "metadata": {},
   "outputs": [],
   "source": []
  },
  {
   "cell_type": "code",
   "execution_count": null,
   "metadata": {},
   "outputs": [],
   "source": []
  }
 ],
 "metadata": {
  "colab": {
   "provenance": [
    {
     "file_id": "16-3O7hvR2WZ9oIWw-qjIzNm9pmoPq1hR",
     "timestamp": 1736886848842
    }
   ],
   "toc_visible": true
  },
  "kernelspec": {
   "display_name": "base",
   "language": "python",
   "name": "python3"
  },
  "language_info": {
   "codemirror_mode": {
    "name": "ipython",
    "version": 3
   },
   "file_extension": ".py",
   "mimetype": "text/x-python",
   "name": "python",
   "nbconvert_exporter": "python",
   "pygments_lexer": "ipython3",
   "version": "3.11.5"
  }
 },
 "nbformat": 4,
 "nbformat_minor": 0
}
