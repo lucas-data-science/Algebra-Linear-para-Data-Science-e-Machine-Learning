{
 "cells": [
  {
   "cell_type": "markdown",
   "metadata": {
    "id": "ya79uxioT32P"
   },
   "source": [
    "# Instalações e importações"
   ]
  },
  {
   "cell_type": "code",
   "execution_count": 1,
   "metadata": {
    "colab": {
     "base_uri": "https://localhost:8080/",
     "height": 56
    },
    "executionInfo": {
     "elapsed": 1300,
     "status": "ok",
     "timestamp": 1738340377726,
     "user": {
      "displayName": "Jones Granatyr",
      "userId": "10042675233362078631"
     },
     "user_tz": 180
    },
    "id": "m2VBCkMaD_Oq",
    "outputId": "f531c31d-0a5c-493b-ced3-8754c0f84c3b"
   },
   "outputs": [
    {
     "data": {
      "text/plain": [
       "'1.26.4'"
      ]
     },
     "execution_count": 1,
     "metadata": {},
     "output_type": "execute_result"
    }
   ],
   "source": [
    "import numpy as np\n",
    "np.__version__"
   ]
  },
  {
   "cell_type": "code",
   "execution_count": 2,
   "metadata": {
    "colab": {
     "base_uri": "https://localhost:8080/",
     "height": 56
    },
    "executionInfo": {
     "elapsed": 4,
     "status": "ok",
     "timestamp": 1738340378734,
     "user": {
      "displayName": "Jones Granatyr",
      "userId": "10042675233362078631"
     },
     "user_tz": 180
    },
    "id": "fh5Kb87bJgM_",
    "outputId": "79a863ea-1a58-4a98-dea2-c9ce9ff87a33"
   },
   "outputs": [
    {
     "data": {
      "text/plain": [
       "'3.9.2'"
      ]
     },
     "execution_count": 2,
     "metadata": {},
     "output_type": "execute_result"
    }
   ],
   "source": [
    "import matplotlib\n",
    "import matplotlib.pyplot as plt\n",
    "matplotlib.__version__"
   ]
  },
  {
   "cell_type": "code",
   "execution_count": 3,
   "metadata": {
    "colab": {
     "base_uri": "https://localhost:8080/",
     "height": 56
    },
    "executionInfo": {
     "elapsed": 3902,
     "status": "ok",
     "timestamp": 1738340382633,
     "user": {
      "displayName": "Jones Granatyr",
      "userId": "10042675233362078631"
     },
     "user_tz": 180
    },
    "id": "YxnZBEyBENF5",
    "outputId": "dcf0d81b-572f-421a-f99a-6030a1477e87"
   },
   "outputs": [
    {
     "data": {
      "text/plain": [
       "'1.5.1'"
      ]
     },
     "execution_count": 3,
     "metadata": {},
     "output_type": "execute_result"
    }
   ],
   "source": [
    "import sklearn\n",
    "from sklearn.decomposition import PCA\n",
    "from sklearn.linear_model import LinearRegression\n",
    "sklearn.__version__"
   ]
  },
  {
   "cell_type": "code",
   "execution_count": 4,
   "metadata": {
    "colab": {
     "base_uri": "https://localhost:8080/",
     "height": 56
    },
    "executionInfo": {
     "elapsed": 10,
     "status": "ok",
     "timestamp": 1738340382633,
     "user": {
      "displayName": "Jones Granatyr",
      "userId": "10042675233362078631"
     },
     "user_tz": 180
    },
    "id": "z9dYx-wpyeqz",
    "outputId": "b96d12a9-2fe3-44b3-f38b-af918bef6442"
   },
   "outputs": [
    {
     "data": {
      "text/plain": [
       "'1.14.1'"
      ]
     },
     "execution_count": 4,
     "metadata": {},
     "output_type": "execute_result"
    }
   ],
   "source": [
    "import scipy\n",
    "scipy.__version__"
   ]
  },
  {
   "cell_type": "code",
   "execution_count": 5,
   "metadata": {
    "executionInfo": {
     "elapsed": 9,
     "status": "ok",
     "timestamp": 1738340382634,
     "user": {
      "displayName": "Jones Granatyr",
      "userId": "10042675233362078631"
     },
     "user_tz": 180
    },
    "id": "6UIbx7y3Wgzn"
   },
   "outputs": [],
   "source": [
    "def plot_vectors(arrays, transformation_matrix):\n",
    "    plt.figure(figsize=(5, 5))\n",
    "    plt.axhline(y=0, linestyle='--')\n",
    "    plt.axvline(x=0, linestyle='--')\n",
    "    plt.xticks(np.arange(-10, 10, 0.5))\n",
    "    plt.yticks(np.arange(-10, 10, 0.5))\n",
    "    color_palete = [('blue', 'orange'), ('green', 'brown')]\n",
    "    for i, array in enumerate(arrays):\n",
    "        array_transformed = np.matmul(transformation_matrix, array)\n",
    "        plt.arrow(0, 0, *array, length_includes_head=True, head_width=0.05, color=color_palete[i][0], label=f'array_{i+1}')\n",
    "        plt.arrow(0, 0, *array_transformed, length_includes_head=True, head_width=0.05, color=color_palete[i][1], label=f'array_{i+1}_transformed')\n",
    "    plt.legend()"
   ]
  },
  {
   "cell_type": "markdown",
   "metadata": {
    "id": "daIjBUzZVj_4"
   },
   "source": [
    "# Transformações"
   ]
  },
  {
   "cell_type": "markdown",
   "metadata": {
    "id": "RWB3aFZAbL1c"
   },
   "source": [
    "## Matrizes de espelhamento"
   ]
  },
  {
   "cell_type": "code",
   "execution_count": 9,
   "metadata": {
    "executionInfo": {
     "elapsed": 9,
     "status": "ok",
     "timestamp": 1738340382634,
     "user": {
      "displayName": "Jones Granatyr",
      "userId": "10042675233362078631"
     },
     "user_tz": 180
    },
    "id": "QnKSV0e3vq2G"
   },
   "outputs": [],
   "source": [
    "A = np.array([[-1, 0],\n",
    "              [ 0, 1]])"
   ]
  },
  {
   "cell_type": "code",
   "execution_count": 10,
   "metadata": {
    "executionInfo": {
     "elapsed": 9,
     "status": "ok",
     "timestamp": 1738340382634,
     "user": {
      "displayName": "Jones Granatyr",
      "userId": "10042675233362078631"
     },
     "user_tz": 180
    },
    "id": "6lSrXxdxvtZH"
   },
   "outputs": [],
   "source": [
    "B = np.array([[1,  0],\n",
    "              [0, -1]])"
   ]
  },
  {
   "cell_type": "code",
   "execution_count": 11,
   "metadata": {
    "executionInfo": {
     "elapsed": 8,
     "status": "ok",
     "timestamp": 1738340382634,
     "user": {
      "displayName": "Jones Granatyr",
      "userId": "10042675233362078631"
     },
     "user_tz": 180
    },
    "id": "ATkqWpZ0vv3C"
   },
   "outputs": [],
   "source": [
    "array_1 = np.array([1, 2])\n",
    "array_2 = np.array([3, 4])"
   ]
  },
  {
   "cell_type": "code",
   "execution_count": 12,
   "metadata": {
    "colab": {
     "base_uri": "https://localhost:8080/"
    },
    "executionInfo": {
     "elapsed": 8,
     "status": "ok",
     "timestamp": 1738340382634,
     "user": {
      "displayName": "Jones Granatyr",
      "userId": "10042675233362078631"
     },
     "user_tz": 180
    },
    "id": "_LNTHVNXwTuF",
    "outputId": "42736218-0ffd-4791-cd39-4a1c84107ce5"
   },
   "outputs": [
    {
     "data": {
      "text/plain": [
       "array([-1,  2])"
      ]
     },
     "execution_count": 12,
     "metadata": {},
     "output_type": "execute_result"
    }
   ],
   "source": [
    "array_1_transformed = np.matmul(A, array_1)\n",
    "array_1_transformed"
   ]
  },
  {
   "cell_type": "code",
   "execution_count": 13,
   "metadata": {
    "colab": {
     "base_uri": "https://localhost:8080/",
     "height": 465
    },
    "executionInfo": {
     "elapsed": 1988,
     "status": "ok",
     "timestamp": 1738340384616,
     "user": {
      "displayName": "Jones Granatyr",
      "userId": "10042675233362078631"
     },
     "user_tz": 180
    },
    "id": "-KzlYy88weMM",
    "outputId": "b06bf7c6-a031-4e7b-bc44-1ffb0167d0f9"
   },
   "outputs": [
    {
     "data": {
      "image/png": "[encoded data removed]",
      "text/plain": [
       "<Figure size 500x500 with 1 Axes>"
      ]
     },
     "metadata": {},
     "output_type": "display_data"
    }
   ],
   "source": [
    "plot_vectors([array_1], A)"
   ]
  },
  {
   "cell_type": "code",
   "execution_count": 14,
   "metadata": {
    "colab": {
     "base_uri": "https://localhost:8080/",
     "height": 465
    },
    "executionInfo": {
     "elapsed": 1034,
     "status": "ok",
     "timestamp": 1738340385647,
     "user": {
      "displayName": "Jones Granatyr",
      "userId": "10042675233362078631"
     },
     "user_tz": 180
    },
    "id": "C2yl79hTxHMT",
    "outputId": "7e630305-4770-491b-8fab-f1eae048ac34"
   },
   "outputs": [
    {
     "data": {
      "image/png": "[encoded data removed]",
      "text/plain": [
       "<Figure size 500x500 with 1 Axes>"
      ]
     },
     "metadata": {},
     "output_type": "display_data"
    }
   ],
   "source": [
    "plot_vectors([array_1], B)"
   ]
  },
  {
   "cell_type": "code",
   "execution_count": 15,
   "metadata": {
    "colab": {
     "base_uri": "https://localhost:8080/",
     "height": 465
    },
    "executionInfo": {
     "elapsed": 1330,
     "status": "ok",
     "timestamp": 1738340386974,
     "user": {
      "displayName": "Jones Granatyr",
      "userId": "10042675233362078631"
     },
     "user_tz": 180
    },
    "id": "SjzV_7IKxkZj",
    "outputId": "07757df4-36c9-4788-eb68-7f6b7905fbe5"
   },
   "outputs": [
    {
     "data": {
      "image/png": "[encoded data removed]",
      "text/plain": [
       "<Figure size 500x500 with 1 Axes>"
      ]
     },
     "metadata": {},
     "output_type": "display_data"
    }
   ],
   "source": [
    "plot_vectors([array_2], B)"
   ]
  },
  {
   "cell_type": "markdown",
   "metadata": {
    "id": "9BcBRQ8OZGzS"
   },
   "source": [
    "## Matrizes de escalonamento"
   ]
  },
  {
   "cell_type": "code",
   "execution_count": 16,
   "metadata": {
    "executionInfo": {
     "elapsed": 3,
     "status": "ok",
     "timestamp": 1738340386975,
     "user": {
      "displayName": "Jones Granatyr",
      "userId": "10042675233362078631"
     },
     "user_tz": 180
    },
    "id": "X2UfvO1IxvC1"
   },
   "outputs": [],
   "source": [
    "C = np.array([[3, 0],\n",
    "              [0, 3]])"
   ]
  },
  {
   "cell_type": "code",
   "execution_count": 17,
   "metadata": {
    "colab": {
     "base_uri": "https://localhost:8080/",
     "height": 465
    },
    "executionInfo": {
     "elapsed": 1319,
     "status": "ok",
     "timestamp": 1738340388291,
     "user": {
      "displayName": "Jones Granatyr",
      "userId": "10042675233362078631"
     },
     "user_tz": 180
    },
    "id": "0L4n1W-Qxyrh",
    "outputId": "d32b8fc6-2314-4005-9583-76bf5cda5af2"
   },
   "outputs": [
    {
     "data": {
      "image/png": "[encoded data removed]",
      "text/plain": [
       "<Figure size 500x500 with 1 Axes>"
      ]
     },
     "metadata": {},
     "output_type": "display_data"
    }
   ],
   "source": [
    "plot_vectors([array_1], C)"
   ]
  },
  {
   "cell_type": "markdown",
   "metadata": {
    "id": "Bdm_ujv3ZJbt"
   },
   "source": [
    "## Matrizes de cisalhamento"
   ]
  },
  {
   "cell_type": "code",
   "execution_count": 18,
   "metadata": {
    "executionInfo": {
     "elapsed": 3,
     "status": "ok",
     "timestamp": 1738340388291,
     "user": {
      "displayName": "Jones Granatyr",
      "userId": "10042675233362078631"
     },
     "user_tz": 180
    },
    "id": "ks6DcfQq1CRt"
   },
   "outputs": [],
   "source": [
    "D = np.array([[1,   0],\n",
    "              [0, 2.5]])"
   ]
  },
  {
   "cell_type": "code",
   "execution_count": 19,
   "metadata": {
    "colab": {
     "base_uri": "https://localhost:8080/",
     "height": 465
    },
    "executionInfo": {
     "elapsed": 1483,
     "status": "ok",
     "timestamp": 1738340389771,
     "user": {
      "displayName": "Jones Granatyr",
      "userId": "10042675233362078631"
     },
     "user_tz": 180
    },
    "id": "QDCbCdQA1Y1_",
    "outputId": "52772f0b-4512-4faa-ab6a-83d4549d9eb8"
   },
   "outputs": [
    {
     "data": {
      "image/png": "[encoded data removed]",
      "text/plain": [
       "<Figure size 500x500 with 1 Axes>"
      ]
     },
     "metadata": {},
     "output_type": "display_data"
    }
   ],
   "source": [
    "plot_vectors([array_1], D)"
   ]
  },
  {
   "cell_type": "markdown",
   "metadata": {
    "id": "0OFA4rSmaSIU"
   },
   "source": [
    "## Matrizes de rotação"
   ]
  },
  {
   "cell_type": "code",
   "execution_count": 20,
   "metadata": {
    "colab": {
     "base_uri": "https://localhost:8080/"
    },
    "executionInfo": {
     "elapsed": 5,
     "status": "ok",
     "timestamp": 1738340389771,
     "user": {
      "displayName": "Jones Granatyr",
      "userId": "10042675233362078631"
     },
     "user_tz": 180
    },
    "id": "VYN9NpHS1877",
    "outputId": "3905a69c-098b-4c9d-d7a3-3f58e81fd7d7"
   },
   "outputs": [
    {
     "data": {
      "text/plain": [
       "array([[ 0.98480775, -0.17364818],\n",
       "       [ 0.17364818,  0.98480775]])"
      ]
     },
     "execution_count": 20,
     "metadata": {},
     "output_type": "execute_result"
    }
   ],
   "source": [
    "degrees = 10\n",
    "E = np.array([[np.cos(np.deg2rad(degrees)), -np.sin(np.deg2rad(degrees))],\n",
    "              [np.sin(np.deg2rad(degrees)),  np.cos(np.deg2rad(degrees))]])\n",
    "E"
   ]
  },
  {
   "cell_type": "code",
   "execution_count": 21,
   "metadata": {
    "executionInfo": {
     "elapsed": 4,
     "status": "ok",
     "timestamp": 1738340389771,
     "user": {
      "displayName": "Jones Granatyr",
      "userId": "10042675233362078631"
     },
     "user_tz": 180
    },
    "id": "tm9Wkrj_2SyN"
   },
   "outputs": [],
   "source": [
    "array_1_transformed = np.matmul(E, array_1)"
   ]
  },
  {
   "cell_type": "code",
   "execution_count": 22,
   "metadata": {
    "colab": {
     "base_uri": "https://localhost:8080/"
    },
    "executionInfo": {
     "elapsed": 4,
     "status": "ok",
     "timestamp": 1738340389771,
     "user": {
      "displayName": "Jones Granatyr",
      "userId": "10042675233362078631"
     },
     "user_tz": 180
    },
    "id": "Msjkgaf82hUV",
    "outputId": "d2e4db3a-9bb7-48b2-91ee-a9c3dcd99319"
   },
   "outputs": [
    {
     "data": {
      "text/plain": [
       "array([1, 2])"
      ]
     },
     "execution_count": 22,
     "metadata": {},
     "output_type": "execute_result"
    }
   ],
   "source": [
    "array_1"
   ]
  },
  {
   "cell_type": "code",
   "execution_count": 23,
   "metadata": {
    "colab": {
     "base_uri": "https://localhost:8080/"
    },
    "executionInfo": {
     "elapsed": 3,
     "status": "ok",
     "timestamp": 1738340389771,
     "user": {
      "displayName": "Jones Granatyr",
      "userId": "10042675233362078631"
     },
     "user_tz": 180
    },
    "id": "ZamPlN3v2ZRD",
    "outputId": "606f2463-ec1c-40e2-bfb1-80372175da02"
   },
   "outputs": [
    {
     "data": {
      "text/plain": [
       "array([0.6375114 , 2.14326368])"
      ]
     },
     "execution_count": 23,
     "metadata": {},
     "output_type": "execute_result"
    }
   ],
   "source": [
    "array_1_transformed"
   ]
  },
  {
   "cell_type": "code",
   "execution_count": 24,
   "metadata": {
    "colab": {
     "base_uri": "https://localhost:8080/"
    },
    "executionInfo": {
     "elapsed": 2,
     "status": "ok",
     "timestamp": 1738340389771,
     "user": {
      "displayName": "Jones Granatyr",
      "userId": "10042675233362078631"
     },
     "user_tz": 180
    },
    "id": "IbWbXLyZ2mhJ",
    "outputId": "b872b43b-6caf-43c9-e7e8-a7d6b70073f2"
   },
   "outputs": [
    {
     "data": {
      "text/plain": [
       "(2.23606797749979, 2.2360679774997894)"
      ]
     },
     "execution_count": 24,
     "metadata": {},
     "output_type": "execute_result"
    }
   ],
   "source": [
    "np.linalg.norm(array_1), np.linalg.norm(array_1_transformed)"
   ]
  },
  {
   "cell_type": "code",
   "execution_count": 25,
   "metadata": {
    "colab": {
     "base_uri": "https://localhost:8080/",
     "height": 465
    },
    "executionInfo": {
     "elapsed": 2200,
     "status": "ok",
     "timestamp": 1738340391969,
     "user": {
      "displayName": "Jones Granatyr",
      "userId": "10042675233362078631"
     },
     "user_tz": 180
    },
    "id": "ygNcU2pX22gj",
    "outputId": "416d31ac-ed9c-4db2-e71d-b30a843e3d5f"
   },
   "outputs": [
    {
     "data": {
      "image/png": "[encoded data removed]",
      "text/plain": [
       "<Figure size 500x500 with 1 Axes>"
      ]
     },
     "metadata": {},
     "output_type": "display_data"
    }
   ],
   "source": [
    "plot_vectors([array_1], E)"
   ]
  },
  {
   "cell_type": "markdown",
   "metadata": {
    "id": "XhlFiMl-cPMO"
   },
   "source": [
    "## Transformações e determinantes"
   ]
  },
  {
   "cell_type": "code",
   "execution_count": 26,
   "metadata": {
    "executionInfo": {
     "elapsed": 6,
     "status": "ok",
     "timestamp": 1738340391969,
     "user": {
      "displayName": "Jones Granatyr",
      "userId": "10042675233362078631"
     },
     "user_tz": 180
    },
    "id": "1B6SVOiXGdAY"
   },
   "outputs": [],
   "source": [
    "array_1 = [3, 0]\n",
    "array_2 = [0, 3]\n",
    "\n",
    "A = np.array([[0.8, 0.3],\n",
    "              [0.1, 0.7]])"
   ]
  },
  {
   "cell_type": "code",
   "execution_count": 27,
   "metadata": {
    "executionInfo": {
     "elapsed": 5,
     "status": "ok",
     "timestamp": 1738340391970,
     "user": {
      "displayName": "Jones Granatyr",
      "userId": "10042675233362078631"
     },
     "user_tz": 180
    },
    "id": "EBxd_r60GsC2"
   },
   "outputs": [],
   "source": [
    "array_1_transformed = np.matmul(A, array_1)\n",
    "array_2_transformed = np.matmul(A, array_2)"
   ]
  },
  {
   "cell_type": "code",
   "execution_count": 28,
   "metadata": {
    "colab": {
     "base_uri": "https://localhost:8080/"
    },
    "executionInfo": {
     "elapsed": 5,
     "status": "ok",
     "timestamp": 1738340391970,
     "user": {
      "displayName": "Jones Granatyr",
      "userId": "10042675233362078631"
     },
     "user_tz": 180
    },
    "id": "SGtqydt9G0mD",
    "outputId": "5d418961-fc82-468f-e845-298fc2657b8e"
   },
   "outputs": [
    {
     "data": {
      "text/plain": [
       "(array([2.4, 0.3]), array([0.9, 2.1]))"
      ]
     },
     "execution_count": 28,
     "metadata": {},
     "output_type": "execute_result"
    }
   ],
   "source": [
    "array_1_transformed, array_2_transformed"
   ]
  },
  {
   "cell_type": "code",
   "execution_count": 29,
   "metadata": {
    "colab": {
     "base_uri": "https://localhost:8080/",
     "height": 465
    },
    "executionInfo": {
     "elapsed": 1317,
     "status": "ok",
     "timestamp": 1738340393283,
     "user": {
      "displayName": "Jones Granatyr",
      "userId": "10042675233362078631"
     },
     "user_tz": 180
    },
    "id": "DxK-YwzHG9kz",
    "outputId": "758d00d7-bfff-4a97-c5d3-70263a970db1"
   },
   "outputs": [
    {
     "data": {
      "image/png": "[encoded data removed]",
      "text/plain": [
       "<Figure size 500x500 with 1 Axes>"
      ]
     },
     "metadata": {},
     "output_type": "display_data"
    }
   ],
   "source": [
    "plot_vectors([array_1, array_2], A)"
   ]
  },
  {
   "cell_type": "code",
   "execution_count": 30,
   "metadata": {
    "colab": {
     "base_uri": "https://localhost:8080/"
    },
    "executionInfo": {
     "elapsed": 13,
     "status": "ok",
     "timestamp": 1738340393284,
     "user": {
      "displayName": "Jones Granatyr",
      "userId": "10042675233362078631"
     },
     "user_tz": 180
    },
    "id": "GakZ7My0IYlW",
    "outputId": "96261cc6-3482-4e7f-b13d-271aa706eb92"
   },
   "outputs": [
    {
     "data": {
      "text/plain": [
       "9.0"
      ]
     },
     "execution_count": 30,
     "metadata": {},
     "output_type": "execute_result"
    }
   ],
   "source": [
    "area = np.linalg.norm(np.cross(array_1, array_2))\n",
    "area"
   ]
  },
  {
   "cell_type": "code",
   "execution_count": 31,
   "metadata": {
    "colab": {
     "base_uri": "https://localhost:8080/"
    },
    "executionInfo": {
     "elapsed": 12,
     "status": "ok",
     "timestamp": 1738340393284,
     "user": {
      "displayName": "Jones Granatyr",
      "userId": "10042675233362078631"
     },
     "user_tz": 180
    },
    "id": "DEh-3OyCI4VQ",
    "outputId": "f805a5a3-8336-4b21-e272-68886350eeb4"
   },
   "outputs": [
    {
     "data": {
      "text/plain": [
       "4.77"
      ]
     },
     "execution_count": 31,
     "metadata": {},
     "output_type": "execute_result"
    }
   ],
   "source": [
    "area_transformed = np.linalg.norm(np.cross(array_1_transformed, array_2_transformed))\n",
    "area_transformed"
   ]
  },
  {
   "cell_type": "code",
   "execution_count": 32,
   "metadata": {
    "colab": {
     "base_uri": "https://localhost:8080/"
    },
    "executionInfo": {
     "elapsed": 10,
     "status": "ok",
     "timestamp": 1738340393284,
     "user": {
      "displayName": "Jones Granatyr",
      "userId": "10042675233362078631"
     },
     "user_tz": 180
    },
    "id": "lhFkAtVPJIJu",
    "outputId": "90657049-7924-4abd-972f-b73be2cc29c1"
   },
   "outputs": [
    {
     "data": {
      "text/plain": [
       "0.53"
      ]
     },
     "execution_count": 32,
     "metadata": {},
     "output_type": "execute_result"
    }
   ],
   "source": [
    "det  = np.linalg.det(A)\n",
    "det"
   ]
  },
  {
   "cell_type": "code",
   "execution_count": 33,
   "metadata": {
    "colab": {
     "base_uri": "https://localhost:8080/"
    },
    "executionInfo": {
     "elapsed": 9,
     "status": "ok",
     "timestamp": 1738340393284,
     "user": {
      "displayName": "Jones Granatyr",
      "userId": "10042675233362078631"
     },
     "user_tz": 180
    },
    "id": "4qbK3eJAJN6_",
    "outputId": "1445e276-e8b1-4aa5-8b5b-e36bad5bd1ff"
   },
   "outputs": [
    {
     "data": {
      "text/plain": [
       "4.7700000000000005"
      ]
     },
     "execution_count": 33,
     "metadata": {},
     "output_type": "execute_result"
    }
   ],
   "source": [
    "area * det"
   ]
  },
  {
   "cell_type": "markdown",
   "metadata": {
    "id": "tRIXmmR4mSd7"
   },
   "source": [
    "## Transformações e matrizes inversas"
   ]
  },
  {
   "cell_type": "code",
   "execution_count": 34,
   "metadata": {
    "executionInfo": {
     "elapsed": 8,
     "status": "ok",
     "timestamp": 1738340393284,
     "user": {
      "displayName": "Jones Granatyr",
      "userId": "10042675233362078631"
     },
     "user_tz": 180
    },
    "id": "EK1WsQW6J0Gr"
   },
   "outputs": [],
   "source": [
    "array = np.array([3, 5, -2])\n",
    "A = np.array([[3,  2,  1],\n",
    "              [0,  4, -1],\n",
    "              [7, -3,  0]])"
   ]
  },
  {
   "cell_type": "code",
   "execution_count": 35,
   "metadata": {
    "colab": {
     "base_uri": "https://localhost:8080/"
    },
    "executionInfo": {
     "elapsed": 8,
     "status": "ok",
     "timestamp": 1738340393284,
     "user": {
      "displayName": "Jones Granatyr",
      "userId": "10042675233362078631"
     },
     "user_tz": 180
    },
    "id": "cEDDUqNUJ3N-",
    "outputId": "c3a5c928-9731-401d-cb18-2597b2351148"
   },
   "outputs": [
    {
     "data": {
      "text/plain": [
       "array([17, 22,  6])"
      ]
     },
     "execution_count": 35,
     "metadata": {},
     "output_type": "execute_result"
    }
   ],
   "source": [
    "array_transformed = np.matmul(A, array)\n",
    "array_transformed"
   ]
  },
  {
   "cell_type": "code",
   "execution_count": 36,
   "metadata": {
    "colab": {
     "base_uri": "https://localhost:8080/"
    },
    "executionInfo": {
     "elapsed": 6,
     "status": "ok",
     "timestamp": 1738340393284,
     "user": {
      "displayName": "Jones Granatyr",
      "userId": "10042675233362078631"
     },
     "user_tz": 180
    },
    "id": "AyaOh5UQKBed",
    "outputId": "8ef8ff97-c5ef-4066-c267-860e03386b86"
   },
   "outputs": [
    {
     "data": {
      "text/plain": [
       "array([[ 0.05882353,  0.05882353,  0.11764706],\n",
       "       [ 0.1372549 ,  0.1372549 , -0.05882353],\n",
       "       [ 0.54901961, -0.45098039, -0.23529412]])"
      ]
     },
     "execution_count": 36,
     "metadata": {},
     "output_type": "execute_result"
    }
   ],
   "source": [
    "A_inv = np.linalg.inv(A)\n",
    "A_inv"
   ]
  },
  {
   "cell_type": "code",
   "execution_count": 37,
   "metadata": {
    "colab": {
     "base_uri": "https://localhost:8080/"
    },
    "executionInfo": {
     "elapsed": 5,
     "status": "ok",
     "timestamp": 1738340393284,
     "user": {
      "displayName": "Jones Granatyr",
      "userId": "10042675233362078631"
     },
     "user_tz": 180
    },
    "id": "Ay170Tv9KZnP",
    "outputId": "0f616c79-3e8f-4684-dcf3-d7f38b334b9d"
   },
   "outputs": [
    {
     "data": {
      "text/plain": [
       "array([ 3.,  5., -2.])"
      ]
     },
     "execution_count": 37,
     "metadata": {},
     "output_type": "execute_result"
    }
   ],
   "source": [
    "array_detransformed = np.matmul(A_inv, array_transformed)\n",
    "array_detransformed"
   ]
  },
  {
   "cell_type": "markdown",
   "metadata": {
    "id": "mg91CZ8PnqWi"
   },
   "source": [
    "## Transformações e sistemas lineares"
   ]
  },
  {
   "cell_type": "code",
   "execution_count": 38,
   "metadata": {
    "executionInfo": {
     "elapsed": 4,
     "status": "ok",
     "timestamp": 1738340393284,
     "user": {
      "displayName": "Jones Granatyr",
      "userId": "10042675233362078631"
     },
     "user_tz": 180
    },
    "id": "rBHtM_uHLDhG"
   },
   "outputs": [],
   "source": [
    "prices = np.array([7.5, 8.25, 35.8, 15])\n",
    "consumption = np.array([[1, 1, 2, 2],\n",
    "                        [2, 2, 2, 1],\n",
    "                        [2, 1, 2, 2],\n",
    "                        [2, 1, 2, 1]])"
   ]
  },
  {
   "cell_type": "code",
   "execution_count": 39,
   "metadata": {
    "colab": {
     "base_uri": "https://localhost:8080/"
    },
    "executionInfo": {
     "elapsed": 502,
     "status": "ok",
     "timestamp": 1738340393782,
     "user": {
      "displayName": "Jones Granatyr",
      "userId": "10042675233362078631"
     },
     "user_tz": 180
    },
    "id": "0VruAP_JLKv-",
    "outputId": "9c3a6493-c02f-42e0-f539-7a2c73331a8f"
   },
   "outputs": [
    {
     "data": {
      "text/plain": [
       "array([117.35, 118.1 , 124.85, 109.85])"
      ]
     },
     "execution_count": 39,
     "metadata": {},
     "output_type": "execute_result"
    }
   ],
   "source": [
    "bill = np.matmul(consumption, prices)\n",
    "bill"
   ]
  },
  {
   "cell_type": "markdown",
   "metadata": {
    "id": "XydtmgS8oriU"
   },
   "source": [
    "## Eigenvectors e eigenvalues"
   ]
  },
  {
   "cell_type": "code",
   "execution_count": 40,
   "metadata": {
    "executionInfo": {
     "elapsed": 11,
     "status": "ok",
     "timestamp": 1738340393782,
     "user": {
      "displayName": "Jones Granatyr",
      "userId": "10042675233362078631"
     },
     "user_tz": 180
    },
    "id": "G6vif7zIMpeY"
   },
   "outputs": [],
   "source": [
    "A = np.array([[3,  2],\n",
    "              [7, -1]])"
   ]
  },
  {
   "cell_type": "code",
   "execution_count": 41,
   "metadata": {
    "colab": {
     "base_uri": "https://localhost:8080/"
    },
    "executionInfo": {
     "elapsed": 11,
     "status": "ok",
     "timestamp": 1738340393782,
     "user": {
      "displayName": "Jones Granatyr",
      "userId": "10042675233362078631"
     },
     "user_tz": 180
    },
    "id": "yA4fA3VHMtKL",
    "outputId": "6af198df-eb8c-4ac0-e393-2926138d9e0d"
   },
   "outputs": [
    {
     "data": {
      "text/plain": [
       "EigResult(eigenvalues=array([ 5.24264069, -3.24264069]), eigenvectors=array([[ 0.66557907, -0.30510159],\n",
       "       [ 0.74632735,  0.95231981]]))"
      ]
     },
     "execution_count": 41,
     "metadata": {},
     "output_type": "execute_result"
    }
   ],
   "source": [
    "np.linalg.eig(A)"
   ]
  },
  {
   "cell_type": "code",
   "execution_count": 42,
   "metadata": {
    "colab": {
     "base_uri": "https://localhost:8080/"
    },
    "executionInfo": {
     "elapsed": 10,
     "status": "ok",
     "timestamp": 1738340393782,
     "user": {
      "displayName": "Jones Granatyr",
      "userId": "10042675233362078631"
     },
     "user_tz": 180
    },
    "id": "CF3CTC3_M72F",
    "outputId": "959c4b26-6214-4af7-e4a4-be66b7b42a2e"
   },
   "outputs": [
    {
     "data": {
      "text/plain": [
       "(array([ 5.24264069, -3.24264069]),\n",
       " array([[ 0.66557907, -0.30510159],\n",
       "        [ 0.74632735,  0.95231981]]))"
      ]
     },
     "execution_count": 42,
     "metadata": {},
     "output_type": "execute_result"
    }
   ],
   "source": [
    "eigenvalues, eigenvectors = np.linalg.eig(A)\n",
    "eigenvalues, eigenvectors"
   ]
  },
  {
   "cell_type": "code",
   "execution_count": 43,
   "metadata": {
    "colab": {
     "base_uri": "https://localhost:8080/"
    },
    "executionInfo": {
     "elapsed": 8,
     "status": "ok",
     "timestamp": 1738340393782,
     "user": {
      "displayName": "Jones Granatyr",
      "userId": "10042675233362078631"
     },
     "user_tz": 180
    },
    "id": "J1IMjN_LNQKj",
    "outputId": "df82392b-b10e-4899-8cbb-1c7f2226a311"
   },
   "outputs": [
    {
     "data": {
      "text/plain": [
       "array([[ 0.66557907,  0.74632735],\n",
       "       [-0.30510159,  0.95231981]])"
      ]
     },
     "execution_count": 43,
     "metadata": {},
     "output_type": "execute_result"
    }
   ],
   "source": [
    "eigenvectors = eigenvectors.T\n",
    "eigenvectors"
   ]
  },
  {
   "cell_type": "code",
   "execution_count": 44,
   "metadata": {
    "colab": {
     "base_uri": "https://localhost:8080/"
    },
    "executionInfo": {
     "elapsed": 6,
     "status": "ok",
     "timestamp": 1738340393782,
     "user": {
      "displayName": "Jones Granatyr",
      "userId": "10042675233362078631"
     },
     "user_tz": 180
    },
    "id": "PhBRP6WbNcZi",
    "outputId": "a949449d-cd90-41c7-f557-f29b78d13ce1"
   },
   "outputs": [
    {
     "data": {
      "text/plain": [
       "(array([0.66557907, 0.74632735]), array([-0.30510159,  0.95231981]))"
      ]
     },
     "execution_count": 44,
     "metadata": {},
     "output_type": "execute_result"
    }
   ],
   "source": [
    "eigenvector_1, eigenvector_2 = eigenvectors\n",
    "eigenvector_1, eigenvector_2"
   ]
  },
  {
   "cell_type": "code",
   "execution_count": 45,
   "metadata": {
    "colab": {
     "base_uri": "https://localhost:8080/"
    },
    "executionInfo": {
     "elapsed": 5,
     "status": "ok",
     "timestamp": 1738340393782,
     "user": {
      "displayName": "Jones Granatyr",
      "userId": "10042675233362078631"
     },
     "user_tz": 180
    },
    "id": "rOpfcmQUNrD4",
    "outputId": "d1c8ce2a-e724-45b2-d8f8-0efbe35cce9e"
   },
   "outputs": [
    {
     "data": {
      "text/plain": [
       "(5.242640687119285, -3.242640687119285)"
      ]
     },
     "execution_count": 45,
     "metadata": {},
     "output_type": "execute_result"
    }
   ],
   "source": [
    "eigenvalue_1, eigenvalue_2 = eigenvalues\n",
    "eigenvalue_1, eigenvalue_2"
   ]
  },
  {
   "cell_type": "code",
   "execution_count": 46,
   "metadata": {
    "colab": {
     "base_uri": "https://localhost:8080/"
    },
    "executionInfo": {
     "elapsed": 4,
     "status": "ok",
     "timestamp": 1738340393782,
     "user": {
      "displayName": "Jones Granatyr",
      "userId": "10042675233362078631"
     },
     "user_tz": 180
    },
    "id": "I9dsLVKkN2Jn",
    "outputId": "d409cefa-efb7-4de8-b35f-3948aa4fa000"
   },
   "outputs": [
    {
     "data": {
      "text/plain": [
       "(array([3.48939189, 3.91272611]), array([ 0.98933484, -3.08803096]))"
      ]
     },
     "execution_count": 46,
     "metadata": {},
     "output_type": "execute_result"
    }
   ],
   "source": [
    "eigenvector_1_transformed = np.matmul(A, eigenvector_1)\n",
    "eigenvector_2_transformed = np.matmul(A, eigenvector_2)\n",
    "eigenvector_1_transformed, eigenvector_2_transformed"
   ]
  },
  {
   "cell_type": "code",
   "execution_count": 47,
   "metadata": {
    "colab": {
     "base_uri": "https://localhost:8080/"
    },
    "executionInfo": {
     "elapsed": 3,
     "status": "ok",
     "timestamp": 1738340393782,
     "user": {
      "displayName": "Jones Granatyr",
      "userId": "10042675233362078631"
     },
     "user_tz": 180
    },
    "id": "pB3ECtUeOYw3",
    "outputId": "094ed580-a39a-4830-ab05-f90ac1e220ee"
   },
   "outputs": [
    {
     "data": {
      "text/plain": [
       "(array([3.48939189, 3.91272611]), array([ 0.98933484, -3.08803096]))"
      ]
     },
     "execution_count": 47,
     "metadata": {},
     "output_type": "execute_result"
    }
   ],
   "source": [
    "eigenvalue_1 * eigenvector_1, eigenvalue_2 * eigenvector_2"
   ]
  },
  {
   "cell_type": "code",
   "execution_count": 48,
   "metadata": {
    "colab": {
     "base_uri": "https://localhost:8080/",
     "height": 465
    },
    "executionInfo": {
     "elapsed": 1010,
     "status": "ok",
     "timestamp": 1738340394790,
     "user": {
      "displayName": "Jones Granatyr",
      "userId": "10042675233362078631"
     },
     "user_tz": 180
    },
    "id": "a1EHchDeOlS6",
    "outputId": "59111daa-3178-42e0-8d7f-3bf8104210de"
   },
   "outputs": [
    {
     "data": {
      "image/png": "[encoded data removed]",
      "text/plain": [
       "<Figure size 500x500 with 1 Axes>"
      ]
     },
     "metadata": {},
     "output_type": "display_data"
    }
   ],
   "source": [
    "plot_vectors([eigenvector_1, eigenvector_2], A)"
   ]
  },
  {
   "cell_type": "markdown",
   "metadata": {
    "id": "hbVIPpVYwEO0"
   },
   "source": [
    "### Eigenvectors de matrizes singulares"
   ]
  },
  {
   "cell_type": "code",
   "execution_count": 49,
   "metadata": {
    "executionInfo": {
     "elapsed": 14,
     "status": "ok",
     "timestamp": 1738340394790,
     "user": {
      "displayName": "Jones Granatyr",
      "userId": "10042675233362078631"
     },
     "user_tz": 180
    },
    "id": "5JYf866W4djm"
   },
   "outputs": [],
   "source": [
    "A = np.array([[1, 3, 2,  5],\n",
    "              [3, 2, 8,  1],\n",
    "              [2, 6, 4, 10],\n",
    "              [5, 1, 7,  4]])"
   ]
  },
  {
   "cell_type": "code",
   "execution_count": 50,
   "metadata": {
    "executionInfo": {
     "elapsed": 14,
     "status": "ok",
     "timestamp": 1738340394790,
     "user": {
      "displayName": "Jones Granatyr",
      "userId": "10042675233362078631"
     },
     "user_tz": 180
    },
    "id": "IsXv6KT04iOT"
   },
   "outputs": [],
   "source": [
    "eigenvalues, eigenvectors = np.linalg.eig(A)"
   ]
  },
  {
   "cell_type": "code",
   "execution_count": 51,
   "metadata": {
    "colab": {
     "base_uri": "https://localhost:8080/"
    },
    "executionInfo": {
     "elapsed": 13,
     "status": "ok",
     "timestamp": 1738340394790,
     "user": {
      "displayName": "Jones Granatyr",
      "userId": "10042675233362078631"
     },
     "user_tz": 180
    },
    "id": "qSsK0dA04n76",
    "outputId": "749b3cb9-43df-4f7f-99db-e550a75c0409"
   },
   "outputs": [
    {
     "data": {
      "text/plain": [
       "array([ 1.69734705e+01, -7.73331944e+00, -6.63578077e-16,  1.75984889e+00])"
      ]
     },
     "execution_count": 51,
     "metadata": {},
     "output_type": "execute_result"
    }
   ],
   "source": [
    "eigenvalues"
   ]
  },
  {
   "cell_type": "markdown",
   "metadata": {
    "id": "8jrFt8K90o_c"
   },
   "source": [
    "### Eigenvectors de matrizes simétricas"
   ]
  },
  {
   "cell_type": "code",
   "execution_count": 52,
   "metadata": {
    "executionInfo": {
     "elapsed": 11,
     "status": "ok",
     "timestamp": 1738340394790,
     "user": {
      "displayName": "Jones Granatyr",
      "userId": "10042675233362078631"
     },
     "user_tz": 180
    },
    "id": "PI_zQjT75SJd"
   },
   "outputs": [],
   "source": [
    "A = np.array([[ 3,-1, 2, 0],\n",
    "              [-1, 4, 7, 1],\n",
    "              [ 2, 7, 5, 2],\n",
    "              [ 0, 1, 2, 0]])"
   ]
  },
  {
   "cell_type": "code",
   "execution_count": 53,
   "metadata": {
    "colab": {
     "base_uri": "https://localhost:8080/"
    },
    "executionInfo": {
     "elapsed": 11,
     "status": "ok",
     "timestamp": 1738340394790,
     "user": {
      "displayName": "Jones Granatyr",
      "userId": "10042675233362078631"
     },
     "user_tz": 180
    },
    "id": "D-fJGOnK5UlR",
    "outputId": "df6afc2c-5e84-4771-9f1b-b0a06fceace3"
   },
   "outputs": [
    {
     "data": {
      "text/plain": [
       "True"
      ]
     },
     "execution_count": 53,
     "metadata": {},
     "output_type": "execute_result"
    }
   ],
   "source": [
    "scipy.linalg.issymmetric(A)"
   ]
  },
  {
   "cell_type": "code",
   "execution_count": 54,
   "metadata": {
    "colab": {
     "base_uri": "https://localhost:8080/"
    },
    "executionInfo": {
     "elapsed": 10,
     "status": "ok",
     "timestamp": 1738340394790,
     "user": {
      "displayName": "Jones Granatyr",
      "userId": "10042675233362078631"
     },
     "user_tz": 180
    },
    "id": "32Sd5OHQ57Oj",
    "outputId": "58ec5aaf-3266-40bf-82c9-add08da071e8"
   },
   "outputs": [
    {
     "data": {
      "text/plain": [
       "array([[ 3.11071755e-01,  6.47487155e-01, -6.65307573e-01,\n",
       "         2.03373011e-01],\n",
       "       [-8.26676362e-02, -2.56277647e-01,  6.31961708e-03,\n",
       "         9.63040961e-01],\n",
       "       [-9.42474501e-01,  2.98668313e-01, -1.50129486e-01,\n",
       "        -4.37536981e-04],\n",
       "       [-9.02343642e-02, -6.52594354e-01, -7.31291346e-01,\n",
       "        -1.76610687e-01]])"
      ]
     },
     "execution_count": 54,
     "metadata": {},
     "output_type": "execute_result"
    }
   ],
   "source": [
    "eigenvalues, eigenvectors = np.linalg.eigh(A)\n",
    "eigenvectors = eigenvectors.T\n",
    "eigenvectors"
   ]
  },
  {
   "cell_type": "code",
   "execution_count": 55,
   "metadata": {
    "colab": {
     "base_uri": "https://localhost:8080/"
    },
    "executionInfo": {
     "elapsed": 8,
     "status": "ok",
     "timestamp": 1738340394790,
     "user": {
      "displayName": "Jones Granatyr",
      "userId": "10042675233362078631"
     },
     "user_tz": 180
    },
    "id": "YB4VO-8r6ROw",
    "outputId": "238872b4-da5d-4345-c35a-86db440fbcb2"
   },
   "outputs": [
    {
     "name": "stdout",
     "output_type": "stream",
     "text": [
      "eigenvector_1 norm: 0.9999999999999997\n",
      "dot_product with eigenvector_2: 1.6306400674181987e-16\n",
      "\n",
      "eigenvector_1 norm: 0.9999999999999997\n",
      "dot_product with eigenvector_3: 1.3877787807814457e-16\n",
      "\n",
      "eigenvector_1 norm: 0.9999999999999997\n",
      "dot_product with eigenvector_4: 2.7755575615628914e-16\n",
      "\n",
      "eigenvector_2 norm: 0.9999999999999999\n",
      "dot_product with eigenvector_3: 2.7755575615628914e-17\n",
      "\n",
      "eigenvector_2 norm: 0.9999999999999999\n",
      "dot_product with eigenvector_4: -1.0408340855860843e-16\n",
      "\n",
      "eigenvector_3 norm: 1.0\n",
      "dot_product with eigenvector_4: 2.498001805406602e-16\n",
      "\n"
     ]
    }
   ],
   "source": [
    "for i, _ in enumerate(eigenvectors):\n",
    "  for j, _ in enumerate(eigenvectors[i + 1:], start = i + 1):\n",
    "    print(f'eigenvector_{i+1} norm:', np.linalg.norm(eigenvectors[i]))\n",
    "    print(f'dot_product with eigenvector_{j+1}:', np.dot(eigenvectors[i], eigenvectors[j]))\n",
    "    print()"
   ]
  },
  {
   "cell_type": "code",
   "execution_count": 56,
   "metadata": {
    "colab": {
     "base_uri": "https://localhost:8080/"
    },
    "executionInfo": {
     "elapsed": 7,
     "status": "ok",
     "timestamp": 1738340394790,
     "user": {
      "displayName": "Jones Granatyr",
      "userId": "10042675233362078631"
     },
     "user_tz": 180
    },
    "id": "AOZwbmAv7ch0",
    "outputId": "872119e9-d525-459d-b4c0-1454958bd57f"
   },
   "outputs": [
    {
     "data": {
      "text/plain": [
       "36.99999999999998"
      ]
     },
     "execution_count": 56,
     "metadata": {},
     "output_type": "execute_result"
    }
   ],
   "source": [
    "np.linalg.det(A)"
   ]
  },
  {
   "cell_type": "code",
   "execution_count": 57,
   "metadata": {
    "colab": {
     "base_uri": "https://localhost:8080/"
    },
    "executionInfo": {
     "elapsed": 6,
     "status": "ok",
     "timestamp": 1738340394790,
     "user": {
      "displayName": "Jones Granatyr",
      "userId": "10042675233362078631"
     },
     "user_tz": 180
    },
    "id": "G5jJS28G7fSn",
    "outputId": "162d4cd3-a1e1-401e-ec85-171908faa8cf"
   },
   "outputs": [
    {
     "data": {
      "text/plain": [
       "36.99999999999999"
      ]
     },
     "execution_count": 57,
     "metadata": {},
     "output_type": "execute_result"
    }
   ],
   "source": [
    "np.prod(eigenvalues)"
   ]
  },
  {
   "cell_type": "markdown",
   "metadata": {
    "id": "1yuyrqHI4mZA"
   },
   "source": [
    "### Eigendecomposition"
   ]
  },
  {
   "cell_type": "code",
   "execution_count": 58,
   "metadata": {
    "colab": {
     "base_uri": "https://localhost:8080/"
    },
    "executionInfo": {
     "elapsed": 4,
     "status": "ok",
     "timestamp": 1738340394790,
     "user": {
      "displayName": "Jones Granatyr",
      "userId": "10042675233362078631"
     },
     "user_tz": 180
    },
    "id": "gSEFmqTf8U4h",
    "outputId": "f5a59921-39a0-4665-a5e8-4b1eea7b1d29"
   },
   "outputs": [
    {
     "data": {
      "text/plain": [
       "array([[ 3, -1,  2,  0],\n",
       "       [-1,  4,  7,  1],\n",
       "       [ 2,  7,  5,  2],\n",
       "       [ 0,  1,  2,  0]])"
      ]
     },
     "execution_count": 58,
     "metadata": {},
     "output_type": "execute_result"
    }
   ],
   "source": [
    "A"
   ]
  },
  {
   "cell_type": "code",
   "execution_count": 60,
   "metadata": {
    "colab": {
     "base_uri": "https://localhost:8080/"
    },
    "executionInfo": {
     "elapsed": 15,
     "status": "ok",
     "timestamp": 1738340395136,
     "user": {
      "displayName": "Jones Granatyr",
      "userId": "10042675233362078631"
     },
     "user_tz": 180
    },
    "id": "ZeakAGNm8eRD",
    "outputId": "2d109587-21f9-4af2-f479-36e087b25a8e"
   },
   "outputs": [
    {
     "data": {
      "text/plain": [
       "(array([11.97649522,  3.63548381, -3.3589904 , -0.25298863]),\n",
       " array([[ 9.02343642e-02, -9.42474501e-01, -3.11071755e-01,\n",
       "         -8.26676362e-02],\n",
       "        [ 6.52594354e-01,  2.98668313e-01, -6.47487155e-01,\n",
       "         -2.56277647e-01],\n",
       "        [ 7.31291346e-01, -1.50129486e-01,  6.65307573e-01,\n",
       "          6.31961708e-03],\n",
       "        [ 1.76610687e-01, -4.37536981e-04, -2.03373011e-01,\n",
       "          9.63040961e-01]]))"
      ]
     },
     "execution_count": 60,
     "metadata": {},
     "output_type": "execute_result"
    }
   ],
   "source": [
    "l, Q = np.linalg.eig(A)\n",
    "l, Q"
   ]
  },
  {
   "cell_type": "markdown",
   "metadata": {
    "id": "QxkTRYCb9FdH"
   },
   "source": [
    "A matriz Λ (`L`) é a matriz diagonal formada com os valores de λ (`l`)."
   ]
  },
  {
   "cell_type": "code",
   "execution_count": 61,
   "metadata": {
    "colab": {
     "base_uri": "https://localhost:8080/"
    },
    "executionInfo": {
     "elapsed": 14,
     "status": "ok",
     "timestamp": 1738340395136,
     "user": {
      "displayName": "Jones Granatyr",
      "userId": "10042675233362078631"
     },
     "user_tz": 180
    },
    "id": "FzQb8ZGB9H3T",
    "outputId": "d4bc8332-ea01-44d1-c7c0-88182374cb5e"
   },
   "outputs": [
    {
     "data": {
      "text/plain": [
       "array([[11.97649522,  0.        ,  0.        ,  0.        ],\n",
       "       [ 0.        ,  3.63548381,  0.        ,  0.        ],\n",
       "       [ 0.        ,  0.        , -3.3589904 ,  0.        ],\n",
       "       [ 0.        ,  0.        ,  0.        , -0.25298863]])"
      ]
     },
     "execution_count": 61,
     "metadata": {},
     "output_type": "execute_result"
    }
   ],
   "source": [
    "L = np.diag(l)\n",
    "L"
   ]
  },
  {
   "cell_type": "code",
   "execution_count": 62,
   "metadata": {
    "colab": {
     "base_uri": "https://localhost:8080/"
    },
    "executionInfo": {
     "elapsed": 13,
     "status": "ok",
     "timestamp": 1738340395136,
     "user": {
      "displayName": "Jones Granatyr",
      "userId": "10042675233362078631"
     },
     "user_tz": 180
    },
    "id": "OKpAcb449XRQ",
    "outputId": "5739a804-5c08-47b5-d7a3-e71009dbff9e"
   },
   "outputs": [
    {
     "data": {
      "text/plain": [
       "array([[ 9.02343642e-02,  6.52594354e-01,  7.31291346e-01,\n",
       "         1.76610687e-01],\n",
       "       [-9.42474501e-01,  2.98668313e-01, -1.50129486e-01,\n",
       "        -4.37536981e-04],\n",
       "       [-3.11071755e-01, -6.47487155e-01,  6.65307573e-01,\n",
       "        -2.03373011e-01],\n",
       "       [-8.26676362e-02, -2.56277647e-01,  6.31961708e-03,\n",
       "         9.63040961e-01]])"
      ]
     },
     "execution_count": 62,
     "metadata": {},
     "output_type": "execute_result"
    }
   ],
   "source": [
    "Q_inv = np.linalg.inv(Q)\n",
    "Q_inv"
   ]
  },
  {
   "cell_type": "code",
   "execution_count": 63,
   "metadata": {
    "colab": {
     "base_uri": "https://localhost:8080/"
    },
    "executionInfo": {
     "elapsed": 11,
     "status": "ok",
     "timestamp": 1738340395136,
     "user": {
      "displayName": "Jones Granatyr",
      "userId": "10042675233362078631"
     },
     "user_tz": 180
    },
    "id": "Q6i5H_Dn9j7y",
    "outputId": "6232e047-e9af-4b73-8d1b-122213b7a73e"
   },
   "outputs": [
    {
     "data": {
      "text/plain": [
       "(array([[ 3, -1,  2,  0],\n",
       "        [-1,  4,  7,  1],\n",
       "        [ 2,  7,  5,  2],\n",
       "        [ 0,  1,  2,  0]]),\n",
       " array([[ 3.00000000e+00, -1.00000000e+00,  2.00000000e+00,\n",
       "          6.91622394e-16],\n",
       "        [-1.00000000e+00,  4.00000000e+00,  7.00000000e+00,\n",
       "          1.00000000e+00],\n",
       "        [ 2.00000000e+00,  7.00000000e+00,  5.00000000e+00,\n",
       "          2.00000000e+00],\n",
       "        [ 1.76537542e-16,  1.00000000e+00,  2.00000000e+00,\n",
       "          4.10428116e-16]]))"
      ]
     },
     "execution_count": 63,
     "metadata": {},
     "output_type": "execute_result"
    }
   ],
   "source": [
    "A_reconstructed = Q @ L @ Q_inv\n",
    "A, A_reconstructed"
   ]
  },
  {
   "cell_type": "code",
   "execution_count": 64,
   "metadata": {
    "colab": {
     "base_uri": "https://localhost:8080/"
    },
    "executionInfo": {
     "elapsed": 10,
     "status": "ok",
     "timestamp": 1738340395136,
     "user": {
      "displayName": "Jones Granatyr",
      "userId": "10042675233362078631"
     },
     "user_tz": 180
    },
    "id": "9NSacjJZ94ZZ",
    "outputId": "d620b4cd-66f1-4058-8b1e-50fd9c7afce3"
   },
   "outputs": [
    {
     "data": {
      "text/plain": [
       "True"
      ]
     },
     "execution_count": 64,
     "metadata": {},
     "output_type": "execute_result"
    }
   ],
   "source": [
    "np.allclose(A, A_reconstructed)"
   ]
  },
  {
   "cell_type": "code",
   "execution_count": 65,
   "metadata": {
    "colab": {
     "base_uri": "https://localhost:8080/"
    },
    "executionInfo": {
     "elapsed": 9,
     "status": "ok",
     "timestamp": 1738340395136,
     "user": {
      "displayName": "Jones Granatyr",
      "userId": "10042675233362078631"
     },
     "user_tz": 180
    },
    "id": "6yRbrueZ-KtQ",
    "outputId": "4eb50420-787e-493a-9f76-cea38a964ef9"
   },
   "outputs": [
    {
     "data": {
      "text/plain": [
       "array([[ 3.00000000e+00, -1.00000000e+00,  2.00000000e+00,\n",
       "         8.81239526e-16],\n",
       "       [-1.00000000e+00,  4.00000000e+00,  7.00000000e+00,\n",
       "         1.00000000e+00],\n",
       "       [ 2.00000000e+00,  7.00000000e+00,  5.00000000e+00,\n",
       "         2.00000000e+00],\n",
       "       [ 8.53483950e-16,  1.00000000e+00,  2.00000000e+00,\n",
       "         1.11022302e-16]])"
      ]
     },
     "execution_count": 65,
     "metadata": {},
     "output_type": "execute_result"
    }
   ],
   "source": [
    "A_reconstructed_transposed = Q @ L @ Q.T\n",
    "A_reconstructed_transposed"
   ]
  },
  {
   "cell_type": "code",
   "execution_count": 66,
   "metadata": {
    "colab": {
     "base_uri": "https://localhost:8080/"
    },
    "executionInfo": {
     "elapsed": 8,
     "status": "ok",
     "timestamp": 1738340395136,
     "user": {
      "displayName": "Jones Granatyr",
      "userId": "10042675233362078631"
     },
     "user_tz": 180
    },
    "id": "1FXE1PLI-VDu",
    "outputId": "2ac77a08-68ad-47f4-c47b-cb882cfe7d2c"
   },
   "outputs": [
    {
     "data": {
      "text/plain": [
       "True"
      ]
     },
     "execution_count": 66,
     "metadata": {},
     "output_type": "execute_result"
    }
   ],
   "source": [
    "np.allclose(A, A_reconstructed_transposed)"
   ]
  },
  {
   "cell_type": "markdown",
   "metadata": {
    "id": "Dhng1QMQ8VpY"
   },
   "source": [
    "### Singular value decomposition (SVD)"
   ]
  },
  {
   "cell_type": "code",
   "execution_count": 67,
   "metadata": {
    "executionInfo": {
     "elapsed": 6,
     "status": "ok",
     "timestamp": 1738340395136,
     "user": {
      "displayName": "Jones Granatyr",
      "userId": "10042675233362078631"
     },
     "user_tz": 180
    },
    "id": "WZGNl-tK-6-1"
   },
   "outputs": [],
   "source": [
    "A = np.array([[1, 3],\n",
    "              [2, 5],\n",
    "              [0, 2]])"
   ]
  },
  {
   "cell_type": "code",
   "execution_count": 68,
   "metadata": {
    "colab": {
     "base_uri": "https://localhost:8080/"
    },
    "executionInfo": {
     "elapsed": 6,
     "status": "ok",
     "timestamp": 1738340395136,
     "user": {
      "displayName": "Jones Granatyr",
      "userId": "10042675233362078631"
     },
     "user_tz": 180
    },
    "id": "wntuL_Yh--tH",
    "outputId": "0a5005ea-1718-45e8-b5cd-a4d8d87855af"
   },
   "outputs": [
    {
     "data": {
      "text/plain": [
       "(array([[-0.48500293,  0.05354805],\n",
       "        [-0.82508229, -0.35883565],\n",
       "        [-0.28984715,  0.9318635 ]]),\n",
       " array([6.51965885, 0.70288581]),\n",
       " array([[-0.32749682, -0.94485228],\n",
       "        [-0.94485228,  0.32749682]]))"
      ]
     },
     "execution_count": 68,
     "metadata": {},
     "output_type": "execute_result"
    }
   ],
   "source": [
    "U, S, Vh = np.linalg.svd(A, full_matrices=False)\n",
    "U, S, Vh"
   ]
  },
  {
   "cell_type": "code",
   "execution_count": 69,
   "metadata": {
    "colab": {
     "base_uri": "https://localhost:8080/"
    },
    "executionInfo": {
     "elapsed": 6,
     "status": "ok",
     "timestamp": 1738340395137,
     "user": {
      "displayName": "Jones Granatyr",
      "userId": "10042675233362078631"
     },
     "user_tz": 180
    },
    "id": "c-TcZaCx_h8y",
    "outputId": "dcb66c7e-4e83-45da-fd4c-fe927ff10097"
   },
   "outputs": [
    {
     "data": {
      "text/plain": [
       "array([[1.00000000e+00, 3.00000000e+00],\n",
       "       [2.00000000e+00, 5.00000000e+00],\n",
       "       [9.62174388e-17, 2.00000000e+00]])"
      ]
     },
     "execution_count": 69,
     "metadata": {},
     "output_type": "execute_result"
    }
   ],
   "source": [
    "A_reconstructed = U @ np.diag(S) @ Vh.T\n",
    "A_reconstructed"
   ]
  },
  {
   "cell_type": "code",
   "execution_count": 70,
   "metadata": {
    "colab": {
     "base_uri": "https://localhost:8080/"
    },
    "executionInfo": {
     "elapsed": 5,
     "status": "ok",
     "timestamp": 1738340395137,
     "user": {
      "displayName": "Jones Granatyr",
      "userId": "10042675233362078631"
     },
     "user_tz": 180
    },
    "id": "kxivoAzs_96Z",
    "outputId": "d3b84561-3dd7-4b81-eebe-a3258ee7ba69"
   },
   "outputs": [
    {
     "data": {
      "text/plain": [
       "True"
      ]
     },
     "execution_count": 70,
     "metadata": {},
     "output_type": "execute_result"
    }
   ],
   "source": [
    "np.allclose(A, A_reconstructed)"
   ]
  },
  {
   "cell_type": "markdown",
   "metadata": {
    "id": "9rxNNDyo_Re7"
   },
   "source": [
    "### Matriz pseudoinversa de Moore-Penrose"
   ]
  },
  {
   "cell_type": "code",
   "execution_count": 71,
   "metadata": {
    "colab": {
     "base_uri": "https://localhost:8080/"
    },
    "executionInfo": {
     "elapsed": 295,
     "status": "ok",
     "timestamp": 1738340727876,
     "user": {
      "displayName": "Jones Granatyr",
      "userId": "10042675233362078631"
     },
     "user_tz": 180
    },
    "id": "PLz7fGlaLm1Y",
    "outputId": "48947f5f-62e0-417d-9739-cbb06cd05d50"
   },
   "outputs": [
    {
     "data": {
      "text/plain": [
       "array([[1, 3],\n",
       "       [2, 5],\n",
       "       [0, 2]])"
      ]
     },
     "execution_count": 71,
     "metadata": {},
     "output_type": "execute_result"
    }
   ],
   "source": [
    "A"
   ]
  },
  {
   "cell_type": "code",
   "execution_count": 72,
   "metadata": {
    "colab": {
     "base_uri": "https://localhost:8080/"
    },
    "executionInfo": {
     "elapsed": 367,
     "status": "ok",
     "timestamp": 1738340753571,
     "user": {
      "displayName": "Jones Granatyr",
      "userId": "10042675233362078631"
     },
     "user_tz": 180
    },
    "id": "9g3Kep4MLotu",
    "outputId": "f6ce0c4c-6115-46c7-d353-cecf7bb21ea9"
   },
   "outputs": [
    {
     "data": {
      "text/plain": [
       "array([[-0.04761905,  0.52380952, -1.23809524],\n",
       "       [ 0.0952381 , -0.04761905,  0.47619048]])"
      ]
     },
     "execution_count": 72,
     "metadata": {},
     "output_type": "execute_result"
    }
   ],
   "source": [
    "A_pinv = np.linalg.pinv(A)\n",
    "A_pinv"
   ]
  },
  {
   "cell_type": "code",
   "execution_count": 73,
   "metadata": {
    "executionInfo": {
     "elapsed": 414,
     "status": "ok",
     "timestamp": 1738340793302,
     "user": {
      "displayName": "Jones Granatyr",
      "userId": "10042675233362078631"
     },
     "user_tz": 180
    },
    "id": "navKOF06Lw7y"
   },
   "outputs": [],
   "source": [
    "U, S, Vh = np.linalg.svd(A, full_matrices=False)"
   ]
  },
  {
   "cell_type": "code",
   "execution_count": 74,
   "metadata": {
    "colab": {
     "base_uri": "https://localhost:8080/"
    },
    "executionInfo": {
     "elapsed": 259,
     "status": "ok",
     "timestamp": 1738340841910,
     "user": {
      "displayName": "Jones Granatyr",
      "userId": "10042675233362078631"
     },
     "user_tz": 180
    },
    "id": "cgvtCP_NL55u",
    "outputId": "fa043731-6ba0-4acd-a89e-078e386e4153"
   },
   "outputs": [
    {
     "data": {
      "text/plain": [
       "array([[0.15338226, 0.        ],\n",
       "       [0.        , 1.4227062 ]])"
      ]
     },
     "execution_count": 74,
     "metadata": {},
     "output_type": "execute_result"
    }
   ],
   "source": [
    "D_plus = np.diag(1/S)\n",
    "D_plus"
   ]
  },
  {
   "cell_type": "code",
   "execution_count": 75,
   "metadata": {
    "colab": {
     "base_uri": "https://localhost:8080/"
    },
    "executionInfo": {
     "elapsed": 299,
     "status": "ok",
     "timestamp": 1738340905099,
     "user": {
      "displayName": "Jones Granatyr",
      "userId": "10042675233362078631"
     },
     "user_tz": 180
    },
    "id": "QS3u6bI2MH-B",
    "outputId": "b1abd8d7-af15-4c86-ecb3-5b10b1aefecb"
   },
   "outputs": [
    {
     "data": {
      "text/plain": [
       "array([[-0.04761905,  0.0952381 ],\n",
       "       [ 0.52380952, -0.04761905],\n",
       "       [-1.23809524,  0.47619048]])"
      ]
     },
     "execution_count": 75,
     "metadata": {},
     "output_type": "execute_result"
    }
   ],
   "source": [
    "A_pinv_svd = U @ D_plus @ Vh.T\n",
    "A_pinv_svd"
   ]
  },
  {
   "cell_type": "markdown",
   "metadata": {
    "id": "ni2ruMHqJyIh"
   },
   "source": [
    "### Principal component analysis (PCA)"
   ]
  },
  {
   "cell_type": "code",
   "execution_count": 76,
   "metadata": {
    "executionInfo": {
     "elapsed": 307,
     "status": "ok",
     "timestamp": 1738341100339,
     "user": {
      "displayName": "Jones Granatyr",
      "userId": "10042675233362078631"
     },
     "user_tz": 180
    },
    "id": "zTxU-wzPM8am"
   },
   "outputs": [],
   "source": [
    "A = np.array([[-2.1 , -0.26],\n",
    "              [-1.3 ,  0.22],\n",
    "              [ 0.25,  1.7 ],\n",
    "              [ 0.43,  2.1 ],\n",
    "              [ 0.61,  2.32]])"
   ]
  },
  {
   "cell_type": "code",
   "execution_count": 77,
   "metadata": {
    "executionInfo": {
     "elapsed": 365,
     "status": "ok",
     "timestamp": 1738341405961,
     "user": {
      "displayName": "Jones Granatyr",
      "userId": "10042675233362078631"
     },
     "user_tz": 180
    },
    "id": "KFGEqdj_OG47"
   },
   "outputs": [],
   "source": [
    "x_1 = A[:, 0]\n",
    "x_2 = A[:, 1]"
   ]
  },
  {
   "cell_type": "code",
   "execution_count": 78,
   "metadata": {
    "colab": {
     "base_uri": "https://localhost:8080/"
    },
    "executionInfo": {
     "elapsed": 3,
     "status": "ok",
     "timestamp": 1738341413812,
     "user": {
      "displayName": "Jones Granatyr",
      "userId": "10042675233362078631"
     },
     "user_tz": 180
    },
    "id": "CfcznzZeONmE",
    "outputId": "87a908c4-40ec-41c3-9900-d099a9f4ad75"
   },
   "outputs": [
    {
     "data": {
      "text/plain": [
       "(array([-2.1 , -1.3 ,  0.25,  0.43,  0.61]),\n",
       " array([-0.26,  0.22,  1.7 ,  2.1 ,  2.32]))"
      ]
     },
     "execution_count": 78,
     "metadata": {},
     "output_type": "execute_result"
    }
   ],
   "source": [
    "x_1, x_2"
   ]
  },
  {
   "cell_type": "code",
   "execution_count": 79,
   "metadata": {
    "colab": {
     "base_uri": "https://localhost:8080/"
    },
    "executionInfo": {
     "elapsed": 263,
     "status": "ok",
     "timestamp": 1738341463138,
     "user": {
      "displayName": "Jones Granatyr",
      "userId": "10042675233362078631"
     },
     "user_tz": 180
    },
    "id": "78iUAa09OS7v",
    "outputId": "037e7b0e-31e6-496d-bfef-f1c511267711"
   },
   "outputs": [
    {
     "data": {
      "text/plain": [
       "(1.17, 1.08)"
      ]
     },
     "execution_count": 79,
     "metadata": {},
     "output_type": "execute_result"
    }
   ],
   "source": [
    "var_x_1 = np.var(x_1).round(2)\n",
    "var_x_2 = np.var(x_2).round(2)\n",
    "var_x_1, var_x_2"
   ]
  },
  {
   "cell_type": "code",
   "execution_count": 80,
   "metadata": {
    "colab": {
     "base_uri": "https://localhost:8080/"
    },
    "executionInfo": {
     "elapsed": 260,
     "status": "ok",
     "timestamp": 1738341593234,
     "user": {
      "displayName": "Jones Granatyr",
      "userId": "10042675233362078631"
     },
     "user_tz": 180
    },
    "id": "UJ6y-wp3O2YI",
    "outputId": "93c2e1cb-26f8-4570-8e01-cfdeb7319d73"
   },
   "outputs": [
    {
     "data": {
      "text/plain": [
       "(-0.42200000000000004, 1.216)"
      ]
     },
     "execution_count": 80,
     "metadata": {},
     "output_type": "execute_result"
    }
   ],
   "source": [
    "np.mean(x_1), np.mean(x_2)"
   ]
  },
  {
   "cell_type": "code",
   "execution_count": 81,
   "metadata": {
    "colab": {
     "base_uri": "https://localhost:8080/",
     "height": 469
    },
    "executionInfo": {
     "elapsed": 350,
     "status": "ok",
     "timestamp": 1738341783931,
     "user": {
      "displayName": "Jones Granatyr",
      "userId": "10042675233362078631"
     },
     "user_tz": 180
    },
    "id": "jlT9wM8JPKJ7",
    "outputId": "1af9ed47-1be6-4e30-be09-caa9aaee6467"
   },
   "outputs": [
    {
     "data": {
      "image/png": "[encoded data removed]",
      "text/plain": [
       "<Figure size 640x480 with 1 Axes>"
      ]
     },
     "metadata": {},
     "output_type": "display_data"
    }
   ],
   "source": [
    "plt.scatter(x = x_1, y = x_2)\n",
    "plt.axhline(y = 0, linestyle = '--')\n",
    "plt.axvline(x = 0, linestyle = '--')\n",
    "plt.xlabel(f'x_1, var={var_x_1}')\n",
    "plt.ylabel(f'x_2, var={var_x_2}');"
   ]
  },
  {
   "cell_type": "code",
   "execution_count": 82,
   "metadata": {
    "colab": {
     "base_uri": "https://localhost:8080/",
     "height": 100
    },
    "executionInfo": {
     "elapsed": 279,
     "status": "ok",
     "timestamp": 1738341830131,
     "user": {
      "displayName": "Jones Granatyr",
      "userId": "10042675233362078631"
     },
     "user_tz": 180
    },
    "id": "Arcx7XsjPvoW",
    "outputId": "48242c11-408e-46d0-8ef7-9b844050370c"
   },
   "outputs": [
    {
     "data": {
      "text/html": [
       "<style>#sk-container-id-1 {\n",
       "  /* Definition of color scheme common for light and dark mode */\n",
       "  --sklearn-color-text: black;\n",
       "  --sklearn-color-line: gray;\n",
       "  /* Definition of color scheme for unfitted estimators */\n",
       "  --sklearn-color-unfitted-level-0: #fff5e6;\n",
       "  --sklearn-color-unfitted-level-1: #f6e4d2;\n",
       "  --sklearn-color-unfitted-level-2: #ffe0b3;\n",
       "  --sklearn-color-unfitted-level-3: chocolate;\n",
       "  /* Definition of color scheme for fitted estimators */\n",
       "  --sklearn-color-fitted-level-0: #f0f8ff;\n",
       "  --sklearn-color-fitted-level-1: #d4ebff;\n",
       "  --sklearn-color-fitted-level-2: #b3dbfd;\n",
       "  --sklearn-color-fitted-level-3: cornflowerblue;\n",
       "\n",
       "  /* Specific color for light theme */\n",
       "  --sklearn-color-text-on-default-background: var(--sg-text-color, var(--theme-code-foreground, var(--jp-content-font-color1, black)));\n",
       "  --sklearn-color-background: var(--sg-background-color, var(--theme-background, var(--jp-layout-color0, white)));\n",
       "  --sklearn-color-border-box: var(--sg-text-color, var(--theme-code-foreground, var(--jp-content-font-color1, black)));\n",
       "  --sklearn-color-icon: #696969;\n",
       "\n",
       "  @media (prefers-color-scheme: dark) {\n",
       "    /* Redefinition of color scheme for dark theme */\n",
       "    --sklearn-color-text-on-default-background: var(--sg-text-color, var(--theme-code-foreground, var(--jp-content-font-color1, white)));\n",
       "    --sklearn-color-background: var(--sg-background-color, var(--theme-background, var(--jp-layout-color0, #111)));\n",
       "    --sklearn-color-border-box: var(--sg-text-color, var(--theme-code-foreground, var(--jp-content-font-color1, white)));\n",
       "    --sklearn-color-icon: #878787;\n",
       "  }\n",
       "}\n",
       "\n",
       "#sk-container-id-1 {\n",
       "  color: var(--sklearn-color-text);\n",
       "}\n",
       "\n",
       "#sk-container-id-1 pre {\n",
       "  padding: 0;\n",
       "}\n",
       "\n",
       "#sk-container-id-1 input.sk-hidden--visually {\n",
       "  border: 0;\n",
       "  clip: rect(1px 1px 1px 1px);\n",
       "  clip: rect(1px, 1px, 1px, 1px);\n",
       "  height: 1px;\n",
       "  margin: -1px;\n",
       "  overflow: hidden;\n",
       "  padding: 0;\n",
       "  position: absolute;\n",
       "  width: 1px;\n",
       "}\n",
       "\n",
       "#sk-container-id-1 div.sk-dashed-wrapped {\n",
       "  border: 1px dashed var(--sklearn-color-line);\n",
       "  margin: 0 0.4em 0.5em 0.4em;\n",
       "  box-sizing: border-box;\n",
       "  padding-bottom: 0.4em;\n",
       "  background-color: var(--sklearn-color-background);\n",
       "}\n",
       "\n",
       "#sk-container-id-1 div.sk-container {\n",
       "  /* jupyter's `normalize.less` sets `[hidden] { display: none; }`\n",
       "     but bootstrap.min.css set `[hidden] { display: none !important; }`\n",
       "     so we also need the `!important` here to be able to override the\n",
       "     default hidden behavior on the sphinx rendered scikit-learn.org.\n",
       "     See: https://github.com/scikit-learn/scikit-learn/issues/21755 */\n",
       "  display: inline-block !important;\n",
       "  position: relative;\n",
       "}\n",
       "\n",
       "#sk-container-id-1 div.sk-text-repr-fallback {\n",
       "  display: none;\n",
       "}\n",
       "\n",
       "div.sk-parallel-item,\n",
       "div.sk-serial,\n",
       "div.sk-item {\n",
       "  /* draw centered vertical line to link estimators */\n",
       "  background-image: linear-gradient(var(--sklearn-color-text-on-default-background), var(--sklearn-color-text-on-default-background));\n",
       "  background-size: 2px 100%;\n",
       "  background-repeat: no-repeat;\n",
       "  background-position: center center;\n",
       "}\n",
       "\n",
       "/* Parallel-specific style estimator block */\n",
       "\n",
       "#sk-container-id-1 div.sk-parallel-item::after {\n",
       "  content: \"\";\n",
       "  width: 100%;\n",
       "  border-bottom: 2px solid var(--sklearn-color-text-on-default-background);\n",
       "  flex-grow: 1;\n",
       "}\n",
       "\n",
       "#sk-container-id-1 div.sk-parallel {\n",
       "  display: flex;\n",
       "  align-items: stretch;\n",
       "  justify-content: center;\n",
       "  background-color: var(--sklearn-color-background);\n",
       "  position: relative;\n",
       "}\n",
       "\n",
       "#sk-container-id-1 div.sk-parallel-item {\n",
       "  display: flex;\n",
       "  flex-direction: column;\n",
       "}\n",
       "\n",
       "#sk-container-id-1 div.sk-parallel-item:first-child::after {\n",
       "  align-self: flex-end;\n",
       "  width: 50%;\n",
       "}\n",
       "\n",
       "#sk-container-id-1 div.sk-parallel-item:last-child::after {\n",
       "  align-self: flex-start;\n",
       "  width: 50%;\n",
       "}\n",
       "\n",
       "#sk-container-id-1 div.sk-parallel-item:only-child::after {\n",
       "  width: 0;\n",
       "}\n",
       "\n",
       "/* Serial-specific style estimator block */\n",
       "\n",
       "#sk-container-id-1 div.sk-serial {\n",
       "  display: flex;\n",
       "  flex-direction: column;\n",
       "  align-items: center;\n",
       "  background-color: var(--sklearn-color-background);\n",
       "  padding-right: 1em;\n",
       "  padding-left: 1em;\n",
       "}\n",
       "\n",
       "\n",
       "/* Toggleable style: style used for estimator/Pipeline/ColumnTransformer box that is\n",
       "clickable and can be expanded/collapsed.\n",
       "- Pipeline and ColumnTransformer use this feature and define the default style\n",
       "- Estimators will overwrite some part of the style using the `sk-estimator` class\n",
       "*/\n",
       "\n",
       "/* Pipeline and ColumnTransformer style (default) */\n",
       "\n",
       "#sk-container-id-1 div.sk-toggleable {\n",
       "  /* Default theme specific background. It is overwritten whether we have a\n",
       "  specific estimator or a Pipeline/ColumnTransformer */\n",
       "  background-color: var(--sklearn-color-background);\n",
       "}\n",
       "\n",
       "/* Toggleable label */\n",
       "#sk-container-id-1 label.sk-toggleable__label {\n",
       "  cursor: pointer;\n",
       "  display: block;\n",
       "  width: 100%;\n",
       "  margin-bottom: 0;\n",
       "  padding: 0.5em;\n",
       "  box-sizing: border-box;\n",
       "  text-align: center;\n",
       "}\n",
       "\n",
       "#sk-container-id-1 label.sk-toggleable__label-arrow:before {\n",
       "  /* Arrow on the left of the label */\n",
       "  content: \"▸\";\n",
       "  float: left;\n",
       "  margin-right: 0.25em;\n",
       "  color: var(--sklearn-color-icon);\n",
       "}\n",
       "\n",
       "#sk-container-id-1 label.sk-toggleable__label-arrow:hover:before {\n",
       "  color: var(--sklearn-color-text);\n",
       "}\n",
       "\n",
       "/* Toggleable content - dropdown */\n",
       "\n",
       "#sk-container-id-1 div.sk-toggleable__content {\n",
       "  max-height: 0;\n",
       "  max-width: 0;\n",
       "  overflow: hidden;\n",
       "  text-align: left;\n",
       "  /* unfitted */\n",
       "  background-color: var(--sklearn-color-unfitted-level-0);\n",
       "}\n",
       "\n",
       "#sk-container-id-1 div.sk-toggleable__content.fitted {\n",
       "  /* fitted */\n",
       "  background-color: var(--sklearn-color-fitted-level-0);\n",
       "}\n",
       "\n",
       "#sk-container-id-1 div.sk-toggleable__content pre {\n",
       "  margin: 0.2em;\n",
       "  border-radius: 0.25em;\n",
       "  color: var(--sklearn-color-text);\n",
       "  /* unfitted */\n",
       "  background-color: var(--sklearn-color-unfitted-level-0);\n",
       "}\n",
       "\n",
       "#sk-container-id-1 div.sk-toggleable__content.fitted pre {\n",
       "  /* unfitted */\n",
       "  background-color: var(--sklearn-color-fitted-level-0);\n",
       "}\n",
       "\n",
       "#sk-container-id-1 input.sk-toggleable__control:checked~div.sk-toggleable__content {\n",
       "  /* Expand drop-down */\n",
       "  max-height: 200px;\n",
       "  max-width: 100%;\n",
       "  overflow: auto;\n",
       "}\n",
       "\n",
       "#sk-container-id-1 input.sk-toggleable__control:checked~label.sk-toggleable__label-arrow:before {\n",
       "  content: \"▾\";\n",
       "}\n",
       "\n",
       "/* Pipeline/ColumnTransformer-specific style */\n",
       "\n",
       "#sk-container-id-1 div.sk-label input.sk-toggleable__control:checked~label.sk-toggleable__label {\n",
       "  color: var(--sklearn-color-text);\n",
       "  background-color: var(--sklearn-color-unfitted-level-2);\n",
       "}\n",
       "\n",
       "#sk-container-id-1 div.sk-label.fitted input.sk-toggleable__control:checked~label.sk-toggleable__label {\n",
       "  background-color: var(--sklearn-color-fitted-level-2);\n",
       "}\n",
       "\n",
       "/* Estimator-specific style */\n",
       "\n",
       "/* Colorize estimator box */\n",
       "#sk-container-id-1 div.sk-estimator input.sk-toggleable__control:checked~label.sk-toggleable__label {\n",
       "  /* unfitted */\n",
       "  background-color: var(--sklearn-color-unfitted-level-2);\n",
       "}\n",
       "\n",
       "#sk-container-id-1 div.sk-estimator.fitted input.sk-toggleable__control:checked~label.sk-toggleable__label {\n",
       "  /* fitted */\n",
       "  background-color: var(--sklearn-color-fitted-level-2);\n",
       "}\n",
       "\n",
       "#sk-container-id-1 div.sk-label label.sk-toggleable__label,\n",
       "#sk-container-id-1 div.sk-label label {\n",
       "  /* The background is the default theme color */\n",
       "  color: var(--sklearn-color-text-on-default-background);\n",
       "}\n",
       "\n",
       "/* On hover, darken the color of the background */\n",
       "#sk-container-id-1 div.sk-label:hover label.sk-toggleable__label {\n",
       "  color: var(--sklearn-color-text);\n",
       "  background-color: var(--sklearn-color-unfitted-level-2);\n",
       "}\n",
       "\n",
       "/* Label box, darken color on hover, fitted */\n",
       "#sk-container-id-1 div.sk-label.fitted:hover label.sk-toggleable__label.fitted {\n",
       "  color: var(--sklearn-color-text);\n",
       "  background-color: var(--sklearn-color-fitted-level-2);\n",
       "}\n",
       "\n",
       "/* Estimator label */\n",
       "\n",
       "#sk-container-id-1 div.sk-label label {\n",
       "  font-family: monospace;\n",
       "  font-weight: bold;\n",
       "  display: inline-block;\n",
       "  line-height: 1.2em;\n",
       "}\n",
       "\n",
       "#sk-container-id-1 div.sk-label-container {\n",
       "  text-align: center;\n",
       "}\n",
       "\n",
       "/* Estimator-specific */\n",
       "#sk-container-id-1 div.sk-estimator {\n",
       "  font-family: monospace;\n",
       "  border: 1px dotted var(--sklearn-color-border-box);\n",
       "  border-radius: 0.25em;\n",
       "  box-sizing: border-box;\n",
       "  margin-bottom: 0.5em;\n",
       "  /* unfitted */\n",
       "  background-color: var(--sklearn-color-unfitted-level-0);\n",
       "}\n",
       "\n",
       "#sk-container-id-1 div.sk-estimator.fitted {\n",
       "  /* fitted */\n",
       "  background-color: var(--sklearn-color-fitted-level-0);\n",
       "}\n",
       "\n",
       "/* on hover */\n",
       "#sk-container-id-1 div.sk-estimator:hover {\n",
       "  /* unfitted */\n",
       "  background-color: var(--sklearn-color-unfitted-level-2);\n",
       "}\n",
       "\n",
       "#sk-container-id-1 div.sk-estimator.fitted:hover {\n",
       "  /* fitted */\n",
       "  background-color: var(--sklearn-color-fitted-level-2);\n",
       "}\n",
       "\n",
       "/* Specification for estimator info (e.g. \"i\" and \"?\") */\n",
       "\n",
       "/* Common style for \"i\" and \"?\" */\n",
       "\n",
       ".sk-estimator-doc-link,\n",
       "a:link.sk-estimator-doc-link,\n",
       "a:visited.sk-estimator-doc-link {\n",
       "  float: right;\n",
       "  font-size: smaller;\n",
       "  line-height: 1em;\n",
       "  font-family: monospace;\n",
       "  background-color: var(--sklearn-color-background);\n",
       "  border-radius: 1em;\n",
       "  height: 1em;\n",
       "  width: 1em;\n",
       "  text-decoration: none !important;\n",
       "  margin-left: 1ex;\n",
       "  /* unfitted */\n",
       "  border: var(--sklearn-color-unfitted-level-1) 1pt solid;\n",
       "  color: var(--sklearn-color-unfitted-level-1);\n",
       "}\n",
       "\n",
       ".sk-estimator-doc-link.fitted,\n",
       "a:link.sk-estimator-doc-link.fitted,\n",
       "a:visited.sk-estimator-doc-link.fitted {\n",
       "  /* fitted */\n",
       "  border: var(--sklearn-color-fitted-level-1) 1pt solid;\n",
       "  color: var(--sklearn-color-fitted-level-1);\n",
       "}\n",
       "\n",
       "/* On hover */\n",
       "div.sk-estimator:hover .sk-estimator-doc-link:hover,\n",
       ".sk-estimator-doc-link:hover,\n",
       "div.sk-label-container:hover .sk-estimator-doc-link:hover,\n",
       ".sk-estimator-doc-link:hover {\n",
       "  /* unfitted */\n",
       "  background-color: var(--sklearn-color-unfitted-level-3);\n",
       "  color: var(--sklearn-color-background);\n",
       "  text-decoration: none;\n",
       "}\n",
       "\n",
       "div.sk-estimator.fitted:hover .sk-estimator-doc-link.fitted:hover,\n",
       ".sk-estimator-doc-link.fitted:hover,\n",
       "div.sk-label-container:hover .sk-estimator-doc-link.fitted:hover,\n",
       ".sk-estimator-doc-link.fitted:hover {\n",
       "  /* fitted */\n",
       "  background-color: var(--sklearn-color-fitted-level-3);\n",
       "  color: var(--sklearn-color-background);\n",
       "  text-decoration: none;\n",
       "}\n",
       "\n",
       "/* Span, style for the box shown on hovering the info icon */\n",
       ".sk-estimator-doc-link span {\n",
       "  display: none;\n",
       "  z-index: 9999;\n",
       "  position: relative;\n",
       "  font-weight: normal;\n",
       "  right: .2ex;\n",
       "  padding: .5ex;\n",
       "  margin: .5ex;\n",
       "  width: min-content;\n",
       "  min-width: 20ex;\n",
       "  max-width: 50ex;\n",
       "  color: var(--sklearn-color-text);\n",
       "  box-shadow: 2pt 2pt 4pt #999;\n",
       "  /* unfitted */\n",
       "  background: var(--sklearn-color-unfitted-level-0);\n",
       "  border: .5pt solid var(--sklearn-color-unfitted-level-3);\n",
       "}\n",
       "\n",
       ".sk-estimator-doc-link.fitted span {\n",
       "  /* fitted */\n",
       "  background: var(--sklearn-color-fitted-level-0);\n",
       "  border: var(--sklearn-color-fitted-level-3);\n",
       "}\n",
       "\n",
       ".sk-estimator-doc-link:hover span {\n",
       "  display: block;\n",
       "}\n",
       "\n",
       "/* \"?\"-specific style due to the `<a>` HTML tag */\n",
       "\n",
       "#sk-container-id-1 a.estimator_doc_link {\n",
       "  float: right;\n",
       "  font-size: 1rem;\n",
       "  line-height: 1em;\n",
       "  font-family: monospace;\n",
       "  background-color: var(--sklearn-color-background);\n",
       "  border-radius: 1rem;\n",
       "  height: 1rem;\n",
       "  width: 1rem;\n",
       "  text-decoration: none;\n",
       "  /* unfitted */\n",
       "  color: var(--sklearn-color-unfitted-level-1);\n",
       "  border: var(--sklearn-color-unfitted-level-1) 1pt solid;\n",
       "}\n",
       "\n",
       "#sk-container-id-1 a.estimator_doc_link.fitted {\n",
       "  /* fitted */\n",
       "  border: var(--sklearn-color-fitted-level-1) 1pt solid;\n",
       "  color: var(--sklearn-color-fitted-level-1);\n",
       "}\n",
       "\n",
       "/* On hover */\n",
       "#sk-container-id-1 a.estimator_doc_link:hover {\n",
       "  /* unfitted */\n",
       "  background-color: var(--sklearn-color-unfitted-level-3);\n",
       "  color: var(--sklearn-color-background);\n",
       "  text-decoration: none;\n",
       "}\n",
       "\n",
       "#sk-container-id-1 a.estimator_doc_link.fitted:hover {\n",
       "  /* fitted */\n",
       "  background-color: var(--sklearn-color-fitted-level-3);\n",
       "}\n",
       "</style><div id=\"sk-container-id-1\" class=\"sk-top-container\"><div class=\"sk-text-repr-fallback\"><pre>PCA()</pre><b>In a Jupyter environment, please rerun this cell to show the HTML representation or trust the notebook. <br />On GitHub, the HTML representation is unable to render, please try loading this page with nbviewer.org.</b></div><div class=\"sk-container\" hidden><div class=\"sk-item\"><div class=\"sk-estimator fitted sk-toggleable\"><input class=\"sk-toggleable__control sk-hidden--visually\" id=\"sk-estimator-id-1\" type=\"checkbox\" checked><label for=\"sk-estimator-id-1\" class=\"sk-toggleable__label fitted sk-toggleable__label-arrow fitted\">&nbsp;&nbsp;PCA<a class=\"sk-estimator-doc-link fitted\" rel=\"noreferrer\" target=\"_blank\" href=\"https://scikit-learn.org/1.5/modules/generated/sklearn.decomposition.PCA.html\">?<span>Documentation for PCA</span></a><span class=\"sk-estimator-doc-link fitted\">i<span>Fitted</span></span></label><div class=\"sk-toggleable__content fitted\"><pre>PCA()</pre></div> </div></div></div></div>"
      ],
      "text/plain": [
       "PCA()"
      ]
     },
     "execution_count": 82,
     "metadata": {},
     "output_type": "execute_result"
    }
   ],
   "source": [
    "pca = PCA()\n",
    "pca.fit(A)"
   ]
  },
  {
   "cell_type": "code",
   "execution_count": 83,
   "metadata": {
    "executionInfo": {
     "elapsed": 250,
     "status": "ok",
     "timestamp": 1738341907385,
     "user": {
      "displayName": "Jones Granatyr",
      "userId": "10042675233362078631"
     },
     "user_tz": 180
    },
    "id": "JKR-FsnSP109"
   },
   "outputs": [],
   "source": [
    "A_transformed = pca.transform(A)\n",
    "pc_1 = A_transformed[:, 0]\n",
    "pc_2 = A_transformed[:, 1]"
   ]
  },
  {
   "cell_type": "code",
   "execution_count": 84,
   "metadata": {
    "colab": {
     "base_uri": "https://localhost:8080/"
    },
    "executionInfo": {
     "elapsed": 6,
     "status": "ok",
     "timestamp": 1738341915173,
     "user": {
      "displayName": "Jones Granatyr",
      "userId": "10042675233362078631"
     },
     "user_tz": 180
    },
    "id": "p88SJCW1QIKK",
    "outputId": "23365b88-cb59-4630-fc33-697408751a56"
   },
   "outputs": [
    {
     "data": {
      "text/plain": [
       "(array([-2.23252828, -1.32329118,  0.81979624,  1.22688485,  1.50913837]),\n",
       " array([ 0.1003867 , -0.10862983, -0.11736319,  0.04597347,  0.07963285]))"
      ]
     },
     "execution_count": 84,
     "metadata": {},
     "output_type": "execute_result"
    }
   ],
   "source": [
    "pc_1, pc_2"
   ]
  },
  {
   "cell_type": "code",
   "execution_count": 85,
   "metadata": {
    "colab": {
     "base_uri": "https://localhost:8080/"
    },
    "executionInfo": {
     "elapsed": 285,
     "status": "ok",
     "timestamp": 1738341976736,
     "user": {
      "displayName": "Jones Granatyr",
      "userId": "10042675233362078631"
     },
     "user_tz": 180
    },
    "id": "S__azFsRQRbI",
    "outputId": "39bb9878-2abc-46eb-c23b-b01d49171e69"
   },
   "outputs": [
    {
     "data": {
      "text/plain": [
       "(2.24, 0.01)"
      ]
     },
     "execution_count": 85,
     "metadata": {},
     "output_type": "execute_result"
    }
   ],
   "source": [
    "var_pc_1 = np.var(pc_1).round(2)\n",
    "var_pc_2 = np.var(pc_2).round(2)\n",
    "var_pc_1, var_pc_2"
   ]
  },
  {
   "cell_type": "code",
   "execution_count": 86,
   "metadata": {
    "colab": {
     "base_uri": "https://localhost:8080/"
    },
    "executionInfo": {
     "elapsed": 3,
     "status": "ok",
     "timestamp": 1738342127309,
     "user": {
      "displayName": "Jones Granatyr",
      "userId": "10042675233362078631"
     },
     "user_tz": 180
    },
    "id": "Qi-UlbIYQ6hE",
    "outputId": "1b66834b-cb87-484b-d280-ec41fb92a5b4"
   },
   "outputs": [
    {
     "data": {
      "text/plain": [
       "(-4.4408920985006264e-17, 4.4408920985006264e-17)"
      ]
     },
     "execution_count": 86,
     "metadata": {},
     "output_type": "execute_result"
    }
   ],
   "source": [
    "np.mean(pc_1), np.mean(pc_2)"
   ]
  },
  {
   "cell_type": "code",
   "execution_count": 91,
   "metadata": {
    "colab": {
     "base_uri": "https://localhost:8080/",
     "height": 469
    },
    "executionInfo": {
     "elapsed": 370,
     "status": "ok",
     "timestamp": 1738342169485,
     "user": {
      "displayName": "Jones Granatyr",
      "userId": "10042675233362078631"
     },
     "user_tz": 180
    },
    "id": "9rIDuxBMRE7_",
    "outputId": "08ac7150-85f1-4f4a-904b-25a4068b183c"
   },
   "outputs": [
    {
     "data": {
      "text/plain": [
       "(-1.0, 1.0)"
      ]
     },
     "execution_count": 91,
     "metadata": {},
     "output_type": "execute_result"
    },
    {
     "data": {
      "image/png": "[encoded data removed]",
      "text/plain": [
       "<Figure size 640x480 with 1 Axes>"
      ]
     },
     "metadata": {},
     "output_type": "display_data"
    }
   ],
   "source": [
    "plt.scatter(x=pc_1, y=pc_2)\n",
    "plt.axhline(y=0, linestyle='--')\n",
    "plt.axvline(x=0, linestyle='--')\n",
    "plt.xlabel(f'pc_1, var={var_pc_1}')\n",
    "plt.ylabel(f'pc_2, var={var_pc_2}');\n",
    "#limite y de -1 a 1\n",
    "plt.ylim(-1, 1)"
   ]
  },
  {
   "cell_type": "code",
   "execution_count": 92,
   "metadata": {
    "colab": {
     "base_uri": "https://localhost:8080/"
    },
    "executionInfo": {
     "elapsed": 353,
     "status": "ok",
     "timestamp": 1738342469243,
     "user": {
      "displayName": "Jones Granatyr",
      "userId": "10042675233362078631"
     },
     "user_tz": 180
    },
    "id": "uJ7VevRMRdon",
    "outputId": "c6ecd981-3bfd-4877-e1c6-da9bfbd1e5e2"
   },
   "outputs": [
    {
     "data": {
      "text/plain": [
       "(array([-8.297235e-18]), 4.4408920985006264e-17)"
      ]
     },
     "execution_count": 92,
     "metadata": {},
     "output_type": "execute_result"
    }
   ],
   "source": [
    "lr = LinearRegression()\n",
    "lr.fit(X = pc_1.reshape(-1, 1), y = pc_2)\n",
    "lr.coef_, lr.intercept_"
   ]
  },
  {
   "cell_type": "code",
   "execution_count": 93,
   "metadata": {
    "colab": {
     "base_uri": "https://localhost:8080/"
    },
    "executionInfo": {
     "elapsed": 6,
     "status": "ok",
     "timestamp": 1738342505079,
     "user": {
      "displayName": "Jones Granatyr",
      "userId": "10042675233362078631"
     },
     "user_tz": 180
    },
    "id": "FOL9aLFPSXrZ",
    "outputId": "a7c1e30d-353b-4c06-8026-03672373a156"
   },
   "outputs": [
    {
     "data": {
      "text/plain": [
       "array([-0.422,  1.216])"
      ]
     },
     "execution_count": 93,
     "metadata": {},
     "output_type": "execute_result"
    }
   ],
   "source": [
    "pca.mean_"
   ]
  },
  {
   "cell_type": "code",
   "execution_count": 94,
   "metadata": {
    "colab": {
     "base_uri": "https://localhost:8080/"
    },
    "executionInfo": {
     "elapsed": 386,
     "status": "ok",
     "timestamp": 1738342540144,
     "user": {
      "displayName": "Jones Granatyr",
      "userId": "10042675233362078631"
     },
     "user_tz": 180
    },
    "id": "61hefungSfZA",
    "outputId": "911562f1-3f69-43fd-a422-77cbd1337de8"
   },
   "outputs": [
    {
     "data": {
      "text/plain": [
       "array([2.79752325, 0.01102675])"
      ]
     },
     "execution_count": 94,
     "metadata": {},
     "output_type": "execute_result"
    }
   ],
   "source": [
    "pca.explained_variance_"
   ]
  },
  {
   "cell_type": "code",
   "execution_count": 95,
   "metadata": {
    "colab": {
     "base_uri": "https://localhost:8080/"
    },
    "executionInfo": {
     "elapsed": 6,
     "status": "ok",
     "timestamp": 1738342623363,
     "user": {
      "displayName": "Jones Granatyr",
      "userId": "10042675233362078631"
     },
     "user_tz": 180
    },
    "id": "LjCTmLohSuKJ",
    "outputId": "2734f7b8-40e6-42af-e792-9c943661a400"
   },
   "outputs": [
    {
     "data": {
      "text/plain": [
       "(array([0.99607386, 0.00392614]), 1.0)"
      ]
     },
     "execution_count": 95,
     "metadata": {},
     "output_type": "execute_result"
    }
   ],
   "source": [
    "pca.explained_variance_ratio_, pca.explained_variance_ratio_.sum()"
   ]
  },
  {
   "cell_type": "code",
   "execution_count": null,
   "metadata": {},
   "outputs": [],
   "source": []
  },
  {
   "cell_type": "code",
   "execution_count": null,
   "metadata": {},
   "outputs": [],
   "source": []
  }
 ],
 "metadata": {
  "colab": {
   "provenance": [
    {
     "file_id": "1BvSKCehpyAr0D7amT4sX21G2E3N3Q-qL",
     "timestamp": 1738012186603
    }
   ]
  },
  "kernelspec": {
   "display_name": "base",
   "language": "python",
   "name": "python3"
  },
  "language_info": {
   "codemirror_mode": {
    "name": "ipython",
    "version": 3
   },
   "file_extension": ".py",
   "mimetype": "text/x-python",
   "name": "python",
   "nbconvert_exporter": "python",
   "pygments_lexer": "ipython3",
   "version": "3.11.5"
  }
 },
 "nbformat": 4,
 "nbformat_minor": 0
}
